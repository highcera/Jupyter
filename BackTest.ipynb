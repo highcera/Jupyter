{
 "cells": [
  {
   "cell_type": "code",
   "execution_count": 3,
   "id": "1f86e4a6",
   "metadata": {},
   "outputs": [],
   "source": [
    "from pykrx import stock\n",
    "import numpy as np \n",
    "import pandas as pd\n",
    "from pandas import Series"
   ]
  },
  {
   "cell_type": "code",
   "execution_count": 9,
   "id": "83d5055d",
   "metadata": {},
   "outputs": [],
   "source": [
    "def 장기_단기_이평선_수익률(df, Ns, Nl):\n",
    "    df = df[  [ '종가' ] ].copy()\n",
    "    df['ma_s'] = df['종가'].rolling( Ns ).mean( ).shift ( 1 )\n",
    "    df['ma_l'] = df['종가'].rolling( Nl ).mean( ).shift ( 1 )\n",
    "    cond = (df['ma_s'] > df['ma_l'])  & (df['ma_l'].pct_change() > 0)\n",
    "    df['status'] = np.where(cond, 1, 0)\n",
    "    df.iloc[-1, -1] = 0\n",
    "    \n",
    "    # 매수/매도 조건 \n",
    "    매수조건 = (df['status'] == 1) & (df['status'].shift(1) != 1)\n",
    "    매도조건 = (df['status'] == 0) & (df['status'].shift(1) == 1)\n",
    "    \n",
    "    # 수익률 계산\n",
    "    수익률 = df.loc[매도조건, '종가'].reset_index(drop=True) / df.loc[매수조건, '종가'].reset_index(drop=True)\n",
    "    수익률 = 수익률 - 0.002\n",
    "    return 수익률.cumprod().iloc[-1]"
   ]
  },
  {
   "cell_type": "code",
   "execution_count": 4,
   "id": "61f1e418",
   "metadata": {},
   "outputs": [],
   "source": [
    "df = stock.get_index_ohlcv_by_date(\"20220101\", \"20220630\", \"1001\")"
   ]
  },
  {
   "cell_type": "code",
   "execution_count": 5,
   "id": "77041a12",
   "metadata": {},
   "outputs": [
    {
     "name": "stdout",
     "output_type": "stream",
     "text": [
      "코스피              시가       고가       저가       종가        거래량            거래대금  \\\n",
      "날짜                                                                          \n",
      "2022-01-03  2998.32  3010.77  2979.42  2988.77  435825854   8193887264228   \n",
      "2022-01-04  2991.97  2995.25  2973.08  2989.24  621549385   9991473942836   \n",
      "2022-01-05  2984.05  2986.20  2936.73  2953.97  787346121  15428422516445   \n",
      "2022-01-06  2925.40  2952.54  2915.38  2920.53  786045066  13297135242112   \n",
      "2022-01-07  2933.78  2959.03  2933.10  2954.89  546172478  10582421237357   \n",
      "...             ...      ...      ...      ...        ...             ...   \n",
      "2022-06-24  2327.11  2373.48  2319.99  2366.60  654445552   8469155606714   \n",
      "2022-06-27  2383.20  2418.94  2365.86  2401.92  510587331   7656358037502   \n",
      "2022-06-28  2405.20  2422.10  2393.96  2422.09  564985557   7193433718663   \n",
      "2022-06-29  2387.10  2393.25  2375.45  2377.99  422127378   7965810495235   \n",
      "2022-06-30  2368.57  2368.57  2332.59  2332.64  515396401   8923480624878   \n",
      "\n",
      "코스피                   상장시가총액  \n",
      "날짜                            \n",
      "2022-01-03  2211373367405162  \n",
      "2022-01-04  2212087919930193  \n",
      "2022-01-05  2186715367040906  \n",
      "2022-01-06  2162437324139180  \n",
      "2022-01-07  2187560533655431  \n",
      "...                      ...  \n",
      "2022-06-24  1862320799525167  \n",
      "2022-06-27  1890525944714878  \n",
      "2022-06-28  1906214561249121  \n",
      "2022-06-29  1871275785944460  \n",
      "2022-06-30  1835493487294140  \n",
      "\n",
      "[121 rows x 7 columns]\n"
     ]
    }
   ],
   "source": [
    "print(df)"
   ]
  },
  {
   "cell_type": "code",
   "execution_count": 6,
   "id": "7edffc54",
   "metadata": {},
   "outputs": [
    {
     "data": {
      "text/html": [
       "<div>\n",
       "<style scoped>\n",
       "    .dataframe tbody tr th:only-of-type {\n",
       "        vertical-align: middle;\n",
       "    }\n",
       "\n",
       "    .dataframe tbody tr th {\n",
       "        vertical-align: top;\n",
       "    }\n",
       "\n",
       "    .dataframe thead th {\n",
       "        text-align: right;\n",
       "    }\n",
       "</style>\n",
       "<table border=\"1\" class=\"dataframe\">\n",
       "  <thead>\n",
       "    <tr style=\"text-align: right;\">\n",
       "      <th>코스피</th>\n",
       "      <th>시가</th>\n",
       "      <th>고가</th>\n",
       "      <th>저가</th>\n",
       "      <th>종가</th>\n",
       "      <th>거래량</th>\n",
       "      <th>거래대금</th>\n",
       "      <th>상장시가총액</th>\n",
       "    </tr>\n",
       "    <tr>\n",
       "      <th>날짜</th>\n",
       "      <th></th>\n",
       "      <th></th>\n",
       "      <th></th>\n",
       "      <th></th>\n",
       "      <th></th>\n",
       "      <th></th>\n",
       "      <th></th>\n",
       "    </tr>\n",
       "  </thead>\n",
       "  <tbody>\n",
       "    <tr>\n",
       "      <th>2022-01-03</th>\n",
       "      <td>2998.32</td>\n",
       "      <td>3010.77</td>\n",
       "      <td>2979.42</td>\n",
       "      <td>2988.77</td>\n",
       "      <td>435825854</td>\n",
       "      <td>8193887264228</td>\n",
       "      <td>2211373367405162</td>\n",
       "    </tr>\n",
       "    <tr>\n",
       "      <th>2022-01-04</th>\n",
       "      <td>2991.97</td>\n",
       "      <td>2995.25</td>\n",
       "      <td>2973.08</td>\n",
       "      <td>2989.24</td>\n",
       "      <td>621549385</td>\n",
       "      <td>9991473942836</td>\n",
       "      <td>2212087919930193</td>\n",
       "    </tr>\n",
       "    <tr>\n",
       "      <th>2022-01-05</th>\n",
       "      <td>2984.05</td>\n",
       "      <td>2986.20</td>\n",
       "      <td>2936.73</td>\n",
       "      <td>2953.97</td>\n",
       "      <td>787346121</td>\n",
       "      <td>15428422516445</td>\n",
       "      <td>2186715367040906</td>\n",
       "    </tr>\n",
       "    <tr>\n",
       "      <th>2022-01-06</th>\n",
       "      <td>2925.40</td>\n",
       "      <td>2952.54</td>\n",
       "      <td>2915.38</td>\n",
       "      <td>2920.53</td>\n",
       "      <td>786045066</td>\n",
       "      <td>13297135242112</td>\n",
       "      <td>2162437324139180</td>\n",
       "    </tr>\n",
       "    <tr>\n",
       "      <th>2022-01-07</th>\n",
       "      <td>2933.78</td>\n",
       "      <td>2959.03</td>\n",
       "      <td>2933.10</td>\n",
       "      <td>2954.89</td>\n",
       "      <td>546172478</td>\n",
       "      <td>10582421237357</td>\n",
       "      <td>2187560533655431</td>\n",
       "    </tr>\n",
       "    <tr>\n",
       "      <th>...</th>\n",
       "      <td>...</td>\n",
       "      <td>...</td>\n",
       "      <td>...</td>\n",
       "      <td>...</td>\n",
       "      <td>...</td>\n",
       "      <td>...</td>\n",
       "      <td>...</td>\n",
       "    </tr>\n",
       "    <tr>\n",
       "      <th>2022-06-24</th>\n",
       "      <td>2327.11</td>\n",
       "      <td>2373.48</td>\n",
       "      <td>2319.99</td>\n",
       "      <td>2366.60</td>\n",
       "      <td>654445552</td>\n",
       "      <td>8469155606714</td>\n",
       "      <td>1862320799525167</td>\n",
       "    </tr>\n",
       "    <tr>\n",
       "      <th>2022-06-27</th>\n",
       "      <td>2383.20</td>\n",
       "      <td>2418.94</td>\n",
       "      <td>2365.86</td>\n",
       "      <td>2401.92</td>\n",
       "      <td>510587331</td>\n",
       "      <td>7656358037502</td>\n",
       "      <td>1890525944714878</td>\n",
       "    </tr>\n",
       "    <tr>\n",
       "      <th>2022-06-28</th>\n",
       "      <td>2405.20</td>\n",
       "      <td>2422.10</td>\n",
       "      <td>2393.96</td>\n",
       "      <td>2422.09</td>\n",
       "      <td>564985557</td>\n",
       "      <td>7193433718663</td>\n",
       "      <td>1906214561249121</td>\n",
       "    </tr>\n",
       "    <tr>\n",
       "      <th>2022-06-29</th>\n",
       "      <td>2387.10</td>\n",
       "      <td>2393.25</td>\n",
       "      <td>2375.45</td>\n",
       "      <td>2377.99</td>\n",
       "      <td>422127378</td>\n",
       "      <td>7965810495235</td>\n",
       "      <td>1871275785944460</td>\n",
       "    </tr>\n",
       "    <tr>\n",
       "      <th>2022-06-30</th>\n",
       "      <td>2368.57</td>\n",
       "      <td>2368.57</td>\n",
       "      <td>2332.59</td>\n",
       "      <td>2332.64</td>\n",
       "      <td>515396401</td>\n",
       "      <td>8923480624878</td>\n",
       "      <td>1835493487294140</td>\n",
       "    </tr>\n",
       "  </tbody>\n",
       "</table>\n",
       "<p>121 rows × 7 columns</p>\n",
       "</div>"
      ],
      "text/plain": [
       "코스피              시가       고가       저가       종가        거래량            거래대금  \\\n",
       "날짜                                                                          \n",
       "2022-01-03  2998.32  3010.77  2979.42  2988.77  435825854   8193887264228   \n",
       "2022-01-04  2991.97  2995.25  2973.08  2989.24  621549385   9991473942836   \n",
       "2022-01-05  2984.05  2986.20  2936.73  2953.97  787346121  15428422516445   \n",
       "2022-01-06  2925.40  2952.54  2915.38  2920.53  786045066  13297135242112   \n",
       "2022-01-07  2933.78  2959.03  2933.10  2954.89  546172478  10582421237357   \n",
       "...             ...      ...      ...      ...        ...             ...   \n",
       "2022-06-24  2327.11  2373.48  2319.99  2366.60  654445552   8469155606714   \n",
       "2022-06-27  2383.20  2418.94  2365.86  2401.92  510587331   7656358037502   \n",
       "2022-06-28  2405.20  2422.10  2393.96  2422.09  564985557   7193433718663   \n",
       "2022-06-29  2387.10  2393.25  2375.45  2377.99  422127378   7965810495235   \n",
       "2022-06-30  2368.57  2368.57  2332.59  2332.64  515396401   8923480624878   \n",
       "\n",
       "코스피                   상장시가총액  \n",
       "날짜                            \n",
       "2022-01-03  2211373367405162  \n",
       "2022-01-04  2212087919930193  \n",
       "2022-01-05  2186715367040906  \n",
       "2022-01-06  2162437324139180  \n",
       "2022-01-07  2187560533655431  \n",
       "...                      ...  \n",
       "2022-06-24  1862320799525167  \n",
       "2022-06-27  1890525944714878  \n",
       "2022-06-28  1906214561249121  \n",
       "2022-06-29  1871275785944460  \n",
       "2022-06-30  1835493487294140  \n",
       "\n",
       "[121 rows x 7 columns]"
      ]
     },
     "execution_count": 6,
     "metadata": {},
     "output_type": "execute_result"
    }
   ],
   "source": [
    "df"
   ]
  },
  {
   "cell_type": "code",
   "execution_count": 7,
   "id": "98b41020",
   "metadata": {},
   "outputs": [],
   "source": [
    "df = df[['종가']]"
   ]
  },
  {
   "cell_type": "code",
   "execution_count": 1,
   "id": "84fdf588",
   "metadata": {},
   "outputs": [
    {
     "ename": "NameError",
     "evalue": "name 'df' is not defined",
     "output_type": "error",
     "traceback": [
      "\u001b[1;31m---------------------------------------------------------------------------\u001b[0m",
      "\u001b[1;31mNameError\u001b[0m                                 Traceback (most recent call last)",
      "\u001b[1;32m<ipython-input-1-00cf07b74dcd>\u001b[0m in \u001b[0;36m<module>\u001b[1;34m\u001b[0m\n\u001b[1;32m----> 1\u001b[1;33m \u001b[0mdf\u001b[0m\u001b[1;33m\u001b[0m\u001b[1;33m\u001b[0m\u001b[0m\n\u001b[0m",
      "\u001b[1;31mNameError\u001b[0m: name 'df' is not defined"
     ]
    }
   ],
   "source": [
    "df"
   ]
  },
  {
   "cell_type": "code",
   "execution_count": 10,
   "id": "a20d0d6f",
   "metadata": {},
   "outputs": [],
   "source": [
    "result = 장기_단기_이평선_수익률(df, 3, 45)"
   ]
  },
  {
   "cell_type": "code",
   "execution_count": 11,
   "id": "0ad32e62",
   "metadata": {},
   "outputs": [
    {
     "data": {
      "text/plain": [
       "0.9551017507492239"
      ]
     },
     "execution_count": 11,
     "metadata": {},
     "output_type": "execute_result"
    }
   ],
   "source": [
    "result"
   ]
  },
  {
   "cell_type": "code",
   "execution_count": null,
   "id": "e2790132",
   "metadata": {},
   "outputs": [],
   "source": []
  }
 ],
 "metadata": {
  "kernelspec": {
   "display_name": "Python 3",
   "language": "python",
   "name": "python3"
  },
  "language_info": {
   "codemirror_mode": {
    "name": "ipython",
    "version": 3
   },
   "file_extension": ".py",
   "mimetype": "text/x-python",
   "name": "python",
   "nbconvert_exporter": "python",
   "pygments_lexer": "ipython3",
   "version": "3.8.8"
  }
 },
 "nbformat": 4,
 "nbformat_minor": 5
}
