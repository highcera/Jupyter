{
 "cells": [
  {
   "cell_type": "code",
   "execution_count": null,
   "id": "8e3d8b2d",
   "metadata": {},
   "outputs": [],
   "source": [
    "from PyQt5.QtWidgets import QWidget,QScrollArea, QTableWidget, QVBoxLayout,QTableWidgetItem\n",
    "import pandas as pd\n",
    "\n",
    "win = QWidget()\n",
    "scroll = QScrollArea()\n",
    "layout = QVBoxLayout()\n",
    "table = QTableWidget()\n",
    "scroll.setWidget(table)\n",
    "layout.addWidget(table)\n",
    "win.setLayout(layout)    \n",
    "\n",
    "\n",
    "df = pd.DataFrame({\"a\" : [4 ,5, 6],\"b\" : [7, 8, 9],\"c\" : [10, 11, 12]},index = [1, 2, 3])\n",
    "table.setColumnCount(len(df.columns))\n",
    "table.setRowCount(len(df.index))\n",
    "for i in range(len(df.index)):\n",
    "    for j in range(len(df.columns)):\n",
    "        table.setItem(i,j,QTableWidgetItem(str(df.iloc[i, j])))\n",
    "\n",
    "win.show()"
   ]
  },
  {
   "cell_type": "code",
   "execution_count": 1,
   "id": "f6e36d3e",
   "metadata": {},
   "outputs": [],
   "source": [
    "class Point:\n",
    "        def __init__(self, x, y):\n",
    "                self.x = x\n",
    "                self.y = y\n",
    "        def setx(self, x):\n",
    "                self.x = x\n",
    "        def sety(self, y):\n",
    "                self.y = y\n",
    "        def get(self):\n",
    "                return (self.x, self.y)\n",
    "        def move(self, dx, dy):\n",
    "                self.x += dx\n",
    "                self.y += dy"
   ]
  },
  {
   "cell_type": "code",
   "execution_count": 2,
   "id": "694dc33f",
   "metadata": {},
   "outputs": [],
   "source": [
    "a = Point(3,3)"
   ]
  },
  {
   "cell_type": "code",
   "execution_count": 3,
   "id": "663e96fd",
   "metadata": {},
   "outputs": [
    {
     "data": {
      "text/plain": [
       "(3, 3)"
      ]
     },
     "execution_count": 3,
     "metadata": {},
     "output_type": "execute_result"
    }
   ],
   "source": [
    "a.get()"
   ]
  },
  {
   "cell_type": "code",
   "execution_count": 4,
   "id": "cd0aa421",
   "metadata": {},
   "outputs": [],
   "source": [
    "a.setx(4)"
   ]
  },
  {
   "cell_type": "code",
   "execution_count": 5,
   "id": "491417e6",
   "metadata": {},
   "outputs": [],
   "source": [
    "a.sety(2)"
   ]
  },
  {
   "cell_type": "code",
   "execution_count": 6,
   "id": "19ddfea9",
   "metadata": {},
   "outputs": [
    {
     "data": {
      "text/plain": [
       "(4, 2)"
      ]
     },
     "execution_count": 6,
     "metadata": {},
     "output_type": "execute_result"
    }
   ],
   "source": [
    "a.get()"
   ]
  },
  {
   "cell_type": "code",
   "execution_count": 7,
   "id": "0d0d1d28",
   "metadata": {},
   "outputs": [],
   "source": [
    "a.move(-4,-2)"
   ]
  },
  {
   "cell_type": "code",
   "execution_count": 8,
   "id": "94ed70ec",
   "metadata": {},
   "outputs": [
    {
     "data": {
      "text/plain": [
       "(0, 0)"
      ]
     },
     "execution_count": 8,
     "metadata": {},
     "output_type": "execute_result"
    }
   ],
   "source": [
    "a.get()"
   ]
  },
  {
   "cell_type": "code",
   "execution_count": 1,
   "id": "7b1e3ccb",
   "metadata": {},
   "outputs": [
    {
     "name": "stdout",
     "output_type": "stream",
     "text": [
      "Collecting pygameNote: you may need to restart the kernel to use updated packages.\n",
      "  Downloading pygame-2.1.2-cp38-cp38-win_amd64.whl (8.4 MB)\n",
      "Installing collected packages: pygame\n",
      "Successfully installed pygame-2.1.2\n",
      "\n"
     ]
    }
   ],
   "source": [
    "pip install pygame"
   ]
  },
  {
   "cell_type": "code",
   "execution_count": 2,
   "id": "18c28b06",
   "metadata": {},
   "outputs": [
    {
     "name": "stdout",
     "output_type": "stream",
     "text": [
      "pygame 2.1.2 (SDL 2.0.18, Python 3.8.8)\n",
      "Hello from the pygame community. https://www.pygame.org/contribute.html\n"
     ]
    }
   ],
   "source": [
    "import pygame"
   ]
  },
  {
   "cell_type": "code",
   "execution_count": 3,
   "id": "883ad931",
   "metadata": {},
   "outputs": [
    {
     "data": {
      "text/plain": [
       "(5, 0)"
      ]
     },
     "execution_count": 3,
     "metadata": {},
     "output_type": "execute_result"
    }
   ],
   "source": [
    "pygame.init()"
   ]
  },
  {
   "cell_type": "code",
   "execution_count": null,
   "id": "7458ae32",
   "metadata": {},
   "outputs": [],
   "source": []
  },
  {
   "cell_type": "code",
   "execution_count": 4,
   "id": "b927f1a0",
   "metadata": {},
   "outputs": [],
   "source": [
    "size = [400,900]"
   ]
  },
  {
   "cell_type": "raw",
   "id": "6b5cec50",
   "metadata": {},
   "source": [
    "import pygame\n",
    "\n",
    "# 1. 게임 초기화\n",
    "pygame.init()\n",
    "\n",
    "# 2. 게임창 옵션 설정\n",
    "size = [400, 900]\n",
    "screen = pygame.display.set_mode(size)\n",
    "\n",
    "title = \"My Game\"\n",
    "pygame.display.set_caption(title)\n",
    "\n",
    "# 3. 게임 내 필요한 설정\n",
    "clock = pygame.time.Clock()\n",
    "black = (0,0,0)\n",
    "white = (255,255,255)\n",
    "k = 0\n",
    "\n",
    "# 4. 메인 이벤트\n",
    "SB = 0\n",
    "while SB == 0:\n",
    "\n",
    "    # 4-1. FPS 설정\n",
    "    clock.tick(2)\n",
    "\n",
    "    # 4-2. 각종 입력 감지\n",
    "    for event in pygame.event.get():\n",
    "        if event.type == pygame.QUIT:\n",
    "            SB = 1\n",
    "\n",
    "    # 4-3. 입력, 시간에 따른 변화\n",
    "    k += 1\n",
    "    if k % 2 == 0:\n",
    "        color = black\n",
    "    else:\n",
    "        color = white\n",
    "\n",
    "    # 4-4. 그리기\n",
    "    screen.fill(color)\n",
    "\n",
    "    # 4-5. 업데이트\n",
    "    pygame.display.flip()\n",
    "\n",
    "# 5. 게임 종료\n",
    "pygame.quit()"
   ]
  },
  {
   "cell_type": "code",
   "execution_count": 5,
   "id": "ab797c18",
   "metadata": {},
   "outputs": [
    {
     "ename": "KeyboardInterrupt",
     "evalue": "",
     "output_type": "error",
     "traceback": [
      "\u001b[1;31m---------------------------------------------------------------------------\u001b[0m",
      "\u001b[1;31mKeyboardInterrupt\u001b[0m                         Traceback (most recent call last)",
      "\u001b[1;32m<ipython-input-5-da1ed9a5b79e>\u001b[0m in \u001b[0;36m<module>\u001b[1;34m\u001b[0m\n\u001b[0;32m     22\u001b[0m \u001b[1;33m\u001b[0m\u001b[0m\n\u001b[0;32m     23\u001b[0m     \u001b[1;31m# 4-1. FPS 설정\u001b[0m\u001b[1;33m\u001b[0m\u001b[1;33m\u001b[0m\u001b[1;33m\u001b[0m\u001b[0m\n\u001b[1;32m---> 24\u001b[1;33m     \u001b[0mclock\u001b[0m\u001b[1;33m.\u001b[0m\u001b[0mtick\u001b[0m\u001b[1;33m(\u001b[0m\u001b[1;36m2\u001b[0m\u001b[1;33m)\u001b[0m\u001b[1;33m\u001b[0m\u001b[1;33m\u001b[0m\u001b[0m\n\u001b[0m\u001b[0;32m     25\u001b[0m \u001b[1;33m\u001b[0m\u001b[0m\n\u001b[0;32m     26\u001b[0m     \u001b[1;31m# 4-2. 각종 입력 감지\u001b[0m\u001b[1;33m\u001b[0m\u001b[1;33m\u001b[0m\u001b[1;33m\u001b[0m\u001b[0m\n",
      "\u001b[1;31mKeyboardInterrupt\u001b[0m: "
     ]
    }
   ],
   "source": [
    "import pygame\n",
    "\n",
    "# 1. 게임 초기화\n",
    "pygame.init()\n",
    "\n",
    "# 2. 게임창 옵션 설정\n",
    "size = [400, 900]\n",
    "screen = pygame.display.set_mode(size)\n",
    "\n",
    "title = \"My Game\"\n",
    "pygame.display.set_caption(title)\n",
    "\n",
    "# 3. 게임 내 필요한 설정\n",
    "clock = pygame.time.Clock()\n",
    "black = (0,0,0)\n",
    "white = (255,255,255)\n",
    "k = 0\n",
    "\n",
    "# 4. 메인 이벤트\n",
    "SB = 0\n",
    "while SB == 0:\n",
    "\n",
    "    # 4-1. FPS 설정\n",
    "    clock.tick(2)\n",
    "\n",
    "    # 4-2. 각종 입력 감지\n",
    "    for event in pygame.event.get():\n",
    "        if event.type == pygame.QUIT:\n",
    "            SB = 1\n",
    "\n",
    "    # 4-3. 입력, 시간에 따른 변화\n",
    "    k += 1\n",
    "    if k % 2 == 0:\n",
    "        color = black\n",
    "    else:\n",
    "        color = white\n",
    "\n",
    "    # 4-4. 그리기\n",
    "    screen.fill(color)\n",
    "\n",
    "    # 4-5. 업데이트\n",
    "    pygame.display.flip()\n",
    "\n",
    "# 5. 게임 종료\n",
    "pygame.quit()"
   ]
  },
  {
   "cell_type": "code",
   "execution_count": 1,
   "id": "9d0ba3f9",
   "metadata": {},
   "outputs": [
    {
     "name": "stdout",
     "output_type": "stream",
     "text": [
      "pygame 2.1.2 (SDL 2.0.18, Python 3.8.8)\n",
      "Hello from the pygame community. https://www.pygame.org/contribute.html\n"
     ]
    },
    {
     "ename": "FileNotFoundError",
     "evalue": "No such file or directory: 'D:/temp/ss.png'.",
     "output_type": "error",
     "traceback": [
      "\u001b[1;31m---------------------------------------------------------------------------\u001b[0m",
      "\u001b[1;31mFileNotFoundError\u001b[0m                         Traceback (most recent call last)",
      "\u001b[1;32m<ipython-input-1-69d370103fca>\u001b[0m in \u001b[0;36m<module>\u001b[1;34m\u001b[0m\n\u001b[0;32m     31\u001b[0m \u001b[1;33m\u001b[0m\u001b[0m\n\u001b[0;32m     32\u001b[0m \u001b[0mss\u001b[0m \u001b[1;33m=\u001b[0m \u001b[0mobj\u001b[0m\u001b[1;33m(\u001b[0m\u001b[1;33m)\u001b[0m\u001b[1;33m\u001b[0m\u001b[1;33m\u001b[0m\u001b[0m\n\u001b[1;32m---> 33\u001b[1;33m \u001b[0mss\u001b[0m\u001b[1;33m.\u001b[0m\u001b[0mput_img\u001b[0m\u001b[1;33m(\u001b[0m\u001b[1;34m\"D:/temp/ss.png\"\u001b[0m\u001b[1;33m)\u001b[0m\u001b[1;33m\u001b[0m\u001b[1;33m\u001b[0m\u001b[0m\n\u001b[0m\u001b[0;32m     34\u001b[0m \u001b[0mss\u001b[0m\u001b[1;33m.\u001b[0m\u001b[0mchange_size\u001b[0m\u001b[1;33m(\u001b[0m\u001b[1;36m50\u001b[0m\u001b[1;33m,\u001b[0m\u001b[1;36m80\u001b[0m\u001b[1;33m)\u001b[0m\u001b[1;33m\u001b[0m\u001b[1;33m\u001b[0m\u001b[0m\n\u001b[0;32m     35\u001b[0m \u001b[0mss\u001b[0m\u001b[1;33m.\u001b[0m\u001b[0mx\u001b[0m \u001b[1;33m=\u001b[0m \u001b[0mround\u001b[0m\u001b[1;33m(\u001b[0m\u001b[0msize\u001b[0m\u001b[1;33m[\u001b[0m\u001b[1;36m0\u001b[0m\u001b[1;33m]\u001b[0m\u001b[1;33m/\u001b[0m\u001b[1;36m2\u001b[0m\u001b[1;33m-\u001b[0m \u001b[0mss\u001b[0m\u001b[1;33m.\u001b[0m\u001b[0msx\u001b[0m\u001b[1;33m/\u001b[0m\u001b[1;36m2\u001b[0m\u001b[1;33m)\u001b[0m\u001b[1;33m\u001b[0m\u001b[1;33m\u001b[0m\u001b[0m\n",
      "\u001b[1;32m<ipython-input-1-69d370103fca>\u001b[0m in \u001b[0;36mput_img\u001b[1;34m(self, address)\u001b[0m\n\u001b[0;32m     20\u001b[0m     \u001b[1;32mdef\u001b[0m \u001b[0mput_img\u001b[0m\u001b[1;33m(\u001b[0m\u001b[0mself\u001b[0m\u001b[1;33m,\u001b[0m \u001b[0maddress\u001b[0m\u001b[1;33m)\u001b[0m\u001b[1;33m:\u001b[0m\u001b[1;33m\u001b[0m\u001b[1;33m\u001b[0m\u001b[0m\n\u001b[0;32m     21\u001b[0m         \u001b[1;32mif\u001b[0m \u001b[0maddress\u001b[0m\u001b[1;33m[\u001b[0m\u001b[1;33m-\u001b[0m\u001b[1;36m3\u001b[0m\u001b[1;33m:\u001b[0m\u001b[1;33m]\u001b[0m \u001b[1;33m==\u001b[0m \u001b[1;34m\"png\"\u001b[0m\u001b[1;33m:\u001b[0m\u001b[1;33m\u001b[0m\u001b[1;33m\u001b[0m\u001b[0m\n\u001b[1;32m---> 22\u001b[1;33m             \u001b[0mself\u001b[0m\u001b[1;33m.\u001b[0m\u001b[0mimg\u001b[0m \u001b[1;33m=\u001b[0m \u001b[0mpygame\u001b[0m\u001b[1;33m.\u001b[0m\u001b[0mimage\u001b[0m\u001b[1;33m.\u001b[0m\u001b[0mload\u001b[0m\u001b[1;33m(\u001b[0m\u001b[0maddress\u001b[0m\u001b[1;33m)\u001b[0m\u001b[1;33m.\u001b[0m\u001b[0mconvert_alpha\u001b[0m\u001b[1;33m(\u001b[0m\u001b[1;33m)\u001b[0m\u001b[1;33m\u001b[0m\u001b[1;33m\u001b[0m\u001b[0m\n\u001b[0m\u001b[0;32m     23\u001b[0m         \u001b[1;32melse\u001b[0m \u001b[1;33m:\u001b[0m\u001b[1;33m\u001b[0m\u001b[1;33m\u001b[0m\u001b[0m\n\u001b[0;32m     24\u001b[0m             \u001b[0mself\u001b[0m\u001b[1;33m.\u001b[0m\u001b[0mimg\u001b[0m \u001b[1;33m=\u001b[0m \u001b[0mpygame\u001b[0m\u001b[1;33m.\u001b[0m\u001b[0mimage\u001b[0m\u001b[1;33m.\u001b[0m\u001b[0mload\u001b[0m\u001b[1;33m(\u001b[0m\u001b[0maddress\u001b[0m\u001b[1;33m)\u001b[0m\u001b[1;33m\u001b[0m\u001b[1;33m\u001b[0m\u001b[0m\n",
      "\u001b[1;31mFileNotFoundError\u001b[0m: No such file or directory: 'D:/temp/ss.png'."
     ]
    }
   ],
   "source": [
    "import pygame\n",
    "\n",
    "# 1. 게임 초기화\n",
    "pygame.init()\n",
    "\n",
    "# 2. 게임창 옵션 설정\n",
    "size = [400, 900]\n",
    "screen = pygame.display.set_mode(size)\n",
    "\n",
    "title = \"My Game\"\n",
    "pygame.display.set_caption(title)\n",
    "\n",
    "# 3. 게임 내 필요한 설정\n",
    "clock = pygame.time.Clock()\n",
    "\n",
    "class obj:\n",
    "    def __init__(self):\n",
    "        self.x = 0\n",
    "        self.y = 0\n",
    "    def put_img(self, address):\n",
    "        if address[-3:] == \"png\":\n",
    "            self.img = pygame.image.load(address).convert_alpha()\n",
    "        else :\n",
    "            self.img = pygame.image.load(address)\n",
    "        self.sx, self.sy = self.img.get_size()\n",
    "    def change_size(self, sx, sy):\n",
    "        self.img = pygame.transform.scale(self.img, (sx, sy))\n",
    "        self.sx, self.sy = self.img.get_size()\n",
    "    def show(self):\n",
    "        screen.blit(self.img, (self.x,self.y))\n",
    "        \n",
    "ss = obj()\n",
    "ss.put_img(\"D:/temp/ss.png\")\n",
    "ss.change_size(50,80)\n",
    "ss.x = round(size[0]/2- ss.sx/2)\n",
    "ss.y = size[1] -ss.sy - 15\n",
    "        \n",
    "black = (0,0,0)\n",
    "white = (255,255,255)\n",
    "k = 0\n",
    "\n",
    "# 4. 메인 이벤트\n",
    "SB = 0\n",
    "while SB == 0:\n",
    "\n",
    "    # 4-1. FPS 설정\n",
    "    clock.tick(60)\n",
    "\n",
    "    # 4-2. 각종 입력 감지\n",
    "    for event in pygame.event.get():\n",
    "        if event.type == pygame.QUIT:\n",
    "            SB = 1\n",
    "\n",
    "    # 4-3. 입력, 시간에 따른 변화\n",
    "    k += 1\n",
    "\n",
    "    # 4-4. 그리기\n",
    "    screen.fill(black)\n",
    "    ss.show()\n",
    "    \n",
    "    # 4-5. 업데이트\n",
    "    pygame.display.flip()\n",
    "\n",
    "# 5. 게임 종료\n",
    "pygame.quit()"
   ]
  },
  {
   "cell_type": "code",
   "execution_count": 3,
   "id": "70269b17",
   "metadata": {},
   "outputs": [
    {
     "data": {
      "text/html": [
       "<div>\n",
       "<style scoped>\n",
       "    .dataframe tbody tr th:only-of-type {\n",
       "        vertical-align: middle;\n",
       "    }\n",
       "\n",
       "    .dataframe tbody tr th {\n",
       "        vertical-align: top;\n",
       "    }\n",
       "\n",
       "    .dataframe thead th {\n",
       "        text-align: right;\n",
       "    }\n",
       "</style>\n",
       "<table border=\"1\" class=\"dataframe\">\n",
       "  <thead>\n",
       "    <tr style=\"text-align: right;\">\n",
       "      <th></th>\n",
       "      <th>0</th>\n",
       "      <th>1</th>\n",
       "      <th>2</th>\n",
       "    </tr>\n",
       "  </thead>\n",
       "  <tbody>\n",
       "    <tr>\n",
       "      <th>0</th>\n",
       "      <td>1</td>\n",
       "      <td>2</td>\n",
       "      <td>3</td>\n",
       "    </tr>\n",
       "    <tr>\n",
       "      <th>1</th>\n",
       "      <td>4</td>\n",
       "      <td>5</td>\n",
       "      <td>6</td>\n",
       "    </tr>\n",
       "  </tbody>\n",
       "</table>\n",
       "</div>"
      ],
      "text/plain": [
       "   0  1  2\n",
       "0  1  2  3\n",
       "1  4  5  6"
      ]
     },
     "metadata": {},
     "output_type": "display_data"
    }
   ],
   "source": [
    "import numpy as np\n",
    "import pandas as pd\n",
    "\n",
    "# 1. Create Pandas Dataframe\n",
    "\n",
    "from IPython.display import display\n",
    "\n",
    "# Take a 2D array as input to your DataFrame \n",
    "my_2darray = np.array([[1, 2, 3], [4, 5, 6]])\n",
    "display(pd.DataFrame(my_2darray))"
   ]
  },
  {
   "cell_type": "code",
   "execution_count": 4,
   "id": "b0f30f88",
   "metadata": {},
   "outputs": [
    {
     "data": {
      "text/html": [
       "<div>\n",
       "<style scoped>\n",
       "    .dataframe tbody tr th:only-of-type {\n",
       "        vertical-align: middle;\n",
       "    }\n",
       "\n",
       "    .dataframe tbody tr th {\n",
       "        vertical-align: top;\n",
       "    }\n",
       "\n",
       "    .dataframe thead th {\n",
       "        text-align: right;\n",
       "    }\n",
       "</style>\n",
       "<table border=\"1\" class=\"dataframe\">\n",
       "  <thead>\n",
       "    <tr style=\"text-align: right;\">\n",
       "      <th></th>\n",
       "      <th>a</th>\n",
       "      <th>b</th>\n",
       "      <th>c</th>\n",
       "    </tr>\n",
       "  </thead>\n",
       "  <tbody>\n",
       "    <tr>\n",
       "      <th>0</th>\n",
       "      <td>1</td>\n",
       "      <td>1</td>\n",
       "      <td>2</td>\n",
       "    </tr>\n",
       "    <tr>\n",
       "      <th>1</th>\n",
       "      <td>3</td>\n",
       "      <td>2</td>\n",
       "      <td>4</td>\n",
       "    </tr>\n",
       "  </tbody>\n",
       "</table>\n",
       "</div>"
      ],
      "text/plain": [
       "   a  b  c\n",
       "0  1  1  2\n",
       "1  3  2  4"
      ]
     },
     "metadata": {},
     "output_type": "display_data"
    }
   ],
   "source": [
    "# Take a dictionary as input to your DataFrame \n",
    "my_dict = {\"a\": ['1', '3'], \"b\": ['1', '2'], \"c\": ['2', '4']}\n",
    "display(pd.DataFrame(my_dict))"
   ]
  },
  {
   "cell_type": "code",
   "execution_count": 5,
   "id": "0db1bd16",
   "metadata": {},
   "outputs": [
    {
     "data": {
      "text/html": [
       "<div>\n",
       "<style scoped>\n",
       "    .dataframe tbody tr th:only-of-type {\n",
       "        vertical-align: middle;\n",
       "    }\n",
       "\n",
       "    .dataframe tbody tr th {\n",
       "        vertical-align: top;\n",
       "    }\n",
       "\n",
       "    .dataframe thead th {\n",
       "        text-align: right;\n",
       "    }\n",
       "</style>\n",
       "<table border=\"1\" class=\"dataframe\">\n",
       "  <thead>\n",
       "    <tr style=\"text-align: right;\">\n",
       "      <th></th>\n",
       "      <th>A</th>\n",
       "    </tr>\n",
       "  </thead>\n",
       "  <tbody>\n",
       "    <tr>\n",
       "      <th>0</th>\n",
       "      <td>4</td>\n",
       "    </tr>\n",
       "    <tr>\n",
       "      <th>1</th>\n",
       "      <td>5</td>\n",
       "    </tr>\n",
       "    <tr>\n",
       "      <th>2</th>\n",
       "      <td>6</td>\n",
       "    </tr>\n",
       "    <tr>\n",
       "      <th>3</th>\n",
       "      <td>7</td>\n",
       "    </tr>\n",
       "  </tbody>\n",
       "</table>\n",
       "</div>"
      ],
      "text/plain": [
       "   A\n",
       "0  4\n",
       "1  5\n",
       "2  6\n",
       "3  7"
      ]
     },
     "metadata": {},
     "output_type": "display_data"
    }
   ],
   "source": [
    "# Take a DataFrame as input to your DataFrame \n",
    "my_df = pd.DataFrame(data=[4,5,6,7], index=range(0,4), columns=['A'])\n",
    "display(pd.DataFrame(my_df))"
   ]
  },
  {
   "cell_type": "code",
   "execution_count": 7,
   "id": "b055a2b3",
   "metadata": {},
   "outputs": [
    {
     "data": {
      "text/html": [
       "<div>\n",
       "<style scoped>\n",
       "    .dataframe tbody tr th:only-of-type {\n",
       "        vertical-align: middle;\n",
       "    }\n",
       "\n",
       "    .dataframe tbody tr th {\n",
       "        vertical-align: top;\n",
       "    }\n",
       "\n",
       "    .dataframe thead th {\n",
       "        text-align: right;\n",
       "    }\n",
       "</style>\n",
       "<table border=\"1\" class=\"dataframe\">\n",
       "  <thead>\n",
       "    <tr style=\"text-align: right;\">\n",
       "      <th></th>\n",
       "      <th>0</th>\n",
       "    </tr>\n",
       "  </thead>\n",
       "  <tbody>\n",
       "    <tr>\n",
       "      <th>United Kingdom</th>\n",
       "      <td>London</td>\n",
       "    </tr>\n",
       "    <tr>\n",
       "      <th>India</th>\n",
       "      <td>New Delhi</td>\n",
       "    </tr>\n",
       "    <tr>\n",
       "      <th>United States</th>\n",
       "      <td>Washington</td>\n",
       "    </tr>\n",
       "    <tr>\n",
       "      <th>Belgium</th>\n",
       "      <td>Brussels</td>\n",
       "    </tr>\n",
       "  </tbody>\n",
       "</table>\n",
       "</div>"
      ],
      "text/plain": [
       "                         0\n",
       "United Kingdom      London\n",
       "India            New Delhi\n",
       "United States   Washington\n",
       "Belgium           Brussels"
      ]
     },
     "metadata": {},
     "output_type": "display_data"
    }
   ],
   "source": [
    "# Take a Series as input to your DataFrame\n",
    "my_series = pd.Series({\"United Kingdom\":\"London\", \"India\":\"New Delhi\", \"United States\":\"Washington\", \"Belgium\":\"Brussels\"})\n",
    "display(pd.DataFrame(my_series))"
   ]
  },
  {
   "cell_type": "code",
   "execution_count": 8,
   "id": "36954544",
   "metadata": {},
   "outputs": [
    {
     "name": "stdout",
     "output_type": "stream",
     "text": [
      "(2, 3)\n",
      "2\n"
     ]
    }
   ],
   "source": [
    "df = pd.DataFrame(np.array([[1, 2, 3], [4, 5, 6]]))\n",
    "\n",
    "# Use the `shape` property\n",
    "print(df.shape)\n",
    "\n",
    "# Or use the `len()` function with the `index` property\n",
    "print(len(df.index))"
   ]
  },
  {
   "cell_type": "code",
   "execution_count": 9,
   "id": "2b88f5fa",
   "metadata": {},
   "outputs": [
    {
     "data": {
      "text/plain": [
       "[0, 1, 2]"
      ]
     },
     "execution_count": 9,
     "metadata": {},
     "output_type": "execute_result"
    }
   ],
   "source": [
    "list(df.columns)"
   ]
  },
  {
   "cell_type": "code",
   "execution_count": 10,
   "id": "6a57f79d",
   "metadata": {},
   "outputs": [],
   "source": [
    "df = pd.DataFrame({\"A\":[1,4,7], \"B\":[2,5,8], \"C\":[3,6,9]})\n",
    "#출처: https://3months.tistory.com/292 [Deep Play:티스토리]"
   ]
  },
  {
   "cell_type": "code",
   "execution_count": 20,
   "id": "c3419c15",
   "metadata": {},
   "outputs": [
    {
     "data": {
      "text/plain": [
       "A    1\n",
       "B    2\n",
       "C    3\n",
       "Name: 0, dtype: int64"
      ]
     },
     "metadata": {},
     "output_type": "display_data"
    },
    {
     "data": {
      "text/plain": [
       "A    1\n",
       "B    2\n",
       "C    3\n",
       "Name: 0, dtype: int64"
      ]
     },
     "metadata": {},
     "output_type": "display_data"
    },
    {
     "data": {
      "text/html": [
       "<div>\n",
       "<style scoped>\n",
       "    .dataframe tbody tr th:only-of-type {\n",
       "        vertical-align: middle;\n",
       "    }\n",
       "\n",
       "    .dataframe tbody tr th {\n",
       "        vertical-align: top;\n",
       "    }\n",
       "\n",
       "    .dataframe thead th {\n",
       "        text-align: right;\n",
       "    }\n",
       "</style>\n",
       "<table border=\"1\" class=\"dataframe\">\n",
       "  <thead>\n",
       "    <tr style=\"text-align: right;\">\n",
       "      <th></th>\n",
       "      <th>A</th>\n",
       "      <th>B</th>\n",
       "      <th>C</th>\n",
       "    </tr>\n",
       "  </thead>\n",
       "  <tbody>\n",
       "    <tr>\n",
       "      <th>0</th>\n",
       "      <td>1</td>\n",
       "      <td>2</td>\n",
       "      <td>3</td>\n",
       "    </tr>\n",
       "    <tr>\n",
       "      <th>1</th>\n",
       "      <td>4</td>\n",
       "      <td>5</td>\n",
       "      <td>6</td>\n",
       "    </tr>\n",
       "    <tr>\n",
       "      <th>2</th>\n",
       "      <td>7</td>\n",
       "      <td>8</td>\n",
       "      <td>9</td>\n",
       "    </tr>\n",
       "  </tbody>\n",
       "</table>\n",
       "</div>"
      ],
      "text/plain": [
       "   A  B  C\n",
       "0  1  2  3\n",
       "1  4  5  6\n",
       "2  7  8  9"
      ]
     },
     "metadata": {},
     "output_type": "display_data"
    }
   ],
   "source": [
    "# Use `iloc[]` to select a row\n",
    "display(df.iloc[0])\n",
    "display(df.loc[0])\n",
    "list(df.columns)\n",
    "display(pd.DataFrame(df))\n",
    "#display(df.ix[0])\n",
    "#출처: https://3months.tistory.com/292 [Deep Play:티스토리]"
   ]
  },
  {
   "cell_type": "code",
   "execution_count": 12,
   "id": "53fc67a0",
   "metadata": {},
   "outputs": [
    {
     "data": {
      "text/plain": [
       "0    1\n",
       "1    4\n",
       "2    7\n",
       "Name: A, dtype: int64"
      ]
     },
     "metadata": {},
     "output_type": "display_data"
    },
    {
     "data": {
      "text/plain": [
       "0    1\n",
       "1    4\n",
       "2    7\n",
       "Name: A, dtype: int64"
      ]
     },
     "metadata": {},
     "output_type": "display_data"
    }
   ],
   "source": [
    "# Use `loc[]` to select a column\n",
    "display(df.loc[:,'A'])\n",
    "display(df['A'])\n",
    "#출처: https://3months.tistory.com/292 [Deep Play:티스토리]"
   ]
  },
  {
   "cell_type": "code",
   "execution_count": 14,
   "id": "0d7eeae8",
   "metadata": {},
   "outputs": [
    {
     "data": {
      "text/plain": [
       "2"
      ]
     },
     "metadata": {},
     "output_type": "display_data"
    }
   ],
   "source": [
    "# 특정 row, column을 선택하기\n",
    "#display(df.ix[0]['A'])\n",
    "display(df.loc[0]['B'])\n",
    "#출처: https://3months.tistory.com/292 [Deep Play:티스토리]"
   ]
  },
  {
   "cell_type": "code",
   "execution_count": 2,
   "id": "bab97ecb",
   "metadata": {},
   "outputs": [],
   "source": [
    "import os\n",
    "import pandas as pd\n",
    "\n",
    "os.chdir(\"P:\\개인자료\")\n",
    "dataset2 = pd.read_excel('파이썬 활용 데이터 분석_신뢰성-IT.xlsx', sheet_name = 'IT', index_col = 0)"
   ]
  },
  {
   "cell_type": "code",
   "execution_count": 3,
   "id": "c97764e1",
   "metadata": {},
   "outputs": [
    {
     "data": {
      "text/html": [
       "<div>\n",
       "<style scoped>\n",
       "    .dataframe tbody tr th:only-of-type {\n",
       "        vertical-align: middle;\n",
       "    }\n",
       "\n",
       "    .dataframe tbody tr th {\n",
       "        vertical-align: top;\n",
       "    }\n",
       "\n",
       "    .dataframe thead th {\n",
       "        text-align: right;\n",
       "    }\n",
       "</style>\n",
       "<table border=\"1\" class=\"dataframe\">\n",
       "  <thead>\n",
       "    <tr style=\"text-align: right;\">\n",
       "      <th></th>\n",
       "      <th>Unnamed: 1</th>\n",
       "      <th>Unnamed: 2</th>\n",
       "      <th>Unnamed: 3</th>\n",
       "      <th>Unnamed: 4</th>\n",
       "      <th>Unnamed: 5</th>\n",
       "      <th>Unnamed: 6</th>\n",
       "      <th>Unnamed: 7</th>\n",
       "      <th>Unnamed: 8</th>\n",
       "      <th>Unnamed: 9</th>\n",
       "      <th>시험조건</th>\n",
       "      <th>...</th>\n",
       "      <th>Unnamed: 80</th>\n",
       "      <th>Unnamed: 81</th>\n",
       "      <th>Unnamed: 82</th>\n",
       "      <th>Unnamed: 83</th>\n",
       "      <th>Unnamed: 84</th>\n",
       "      <th>Unnamed: 85</th>\n",
       "      <th>Unnamed: 86</th>\n",
       "      <th>Unnamed: 87</th>\n",
       "      <th>Unnamed: 88</th>\n",
       "      <th>Unnamed: 89</th>\n",
       "    </tr>\n",
       "  </thead>\n",
       "  <tbody>\n",
       "    <tr>\n",
       "      <th>관리번호</th>\n",
       "      <td>재료</td>\n",
       "      <td>파우더\\n사이즈</td>\n",
       "      <td>파우더</td>\n",
       "      <td>조성</td>\n",
       "      <td>Sheet T</td>\n",
       "      <td>유전체두께</td>\n",
       "      <td>기종</td>\n",
       "      <td>칩사이즈</td>\n",
       "      <td>Vr</td>\n",
       "      <td>시험온도</td>\n",
       "      <td>...</td>\n",
       "      <td>NaN</td>\n",
       "      <td>NaN</td>\n",
       "      <td>NaN</td>\n",
       "      <td>NaN</td>\n",
       "      <td>NaN</td>\n",
       "      <td>NaN</td>\n",
       "      <td>NaN</td>\n",
       "      <td>NaN</td>\n",
       "      <td>NaN</td>\n",
       "      <td>NaN</td>\n",
       "    </tr>\n",
       "    <tr>\n",
       "      <th>1705-17</th>\n",
       "      <td>SHBT100(NA372PA01)</td>\n",
       "      <td>100</td>\n",
       "      <td>SHBT100</td>\n",
       "      <td>NA372PA01</td>\n",
       "      <td>1.4</td>\n",
       "      <td>0.933333</td>\n",
       "      <td>10A226MO7JZ</td>\n",
       "      <td>10</td>\n",
       "      <td>16</td>\n",
       "      <td>105</td>\n",
       "      <td>...</td>\n",
       "      <td>NaN</td>\n",
       "      <td>NaN</td>\n",
       "      <td>NaN</td>\n",
       "      <td>NaN</td>\n",
       "      <td>NaN</td>\n",
       "      <td>NaN</td>\n",
       "      <td>NaN</td>\n",
       "      <td>NaN</td>\n",
       "      <td>NaN</td>\n",
       "      <td>NaN</td>\n",
       "    </tr>\n",
       "    <tr>\n",
       "      <th>1705-17</th>\n",
       "      <td>SHBT100(NA372PA01)</td>\n",
       "      <td>100</td>\n",
       "      <td>SHBT100</td>\n",
       "      <td>NA372PA01</td>\n",
       "      <td>1.4</td>\n",
       "      <td>0.933333</td>\n",
       "      <td>10A226MO7JZ</td>\n",
       "      <td>10</td>\n",
       "      <td>16</td>\n",
       "      <td>105</td>\n",
       "      <td>...</td>\n",
       "      <td>NaN</td>\n",
       "      <td>NaN</td>\n",
       "      <td>NaN</td>\n",
       "      <td>NaN</td>\n",
       "      <td>NaN</td>\n",
       "      <td>NaN</td>\n",
       "      <td>NaN</td>\n",
       "      <td>NaN</td>\n",
       "      <td>NaN</td>\n",
       "      <td>NaN</td>\n",
       "    </tr>\n",
       "    <tr>\n",
       "      <th>1705-17</th>\n",
       "      <td>SHBT100(NA372PA01)</td>\n",
       "      <td>100</td>\n",
       "      <td>SHBT100</td>\n",
       "      <td>NA372PA01</td>\n",
       "      <td>1.4</td>\n",
       "      <td>0.933333</td>\n",
       "      <td>10A226MO7JZ</td>\n",
       "      <td>10</td>\n",
       "      <td>16</td>\n",
       "      <td>105</td>\n",
       "      <td>...</td>\n",
       "      <td>NaN</td>\n",
       "      <td>NaN</td>\n",
       "      <td>NaN</td>\n",
       "      <td>NaN</td>\n",
       "      <td>NaN</td>\n",
       "      <td>NaN</td>\n",
       "      <td>NaN</td>\n",
       "      <td>NaN</td>\n",
       "      <td>NaN</td>\n",
       "      <td>NaN</td>\n",
       "    </tr>\n",
       "    <tr>\n",
       "      <th>1705-17</th>\n",
       "      <td>SHBT100(NA372PA01)</td>\n",
       "      <td>100</td>\n",
       "      <td>SHBT100</td>\n",
       "      <td>NA372PA01</td>\n",
       "      <td>1.4</td>\n",
       "      <td>0.933333</td>\n",
       "      <td>10A226MO7JZ</td>\n",
       "      <td>10</td>\n",
       "      <td>16</td>\n",
       "      <td>105</td>\n",
       "      <td>...</td>\n",
       "      <td>NaN</td>\n",
       "      <td>NaN</td>\n",
       "      <td>NaN</td>\n",
       "      <td>NaN</td>\n",
       "      <td>NaN</td>\n",
       "      <td>NaN</td>\n",
       "      <td>NaN</td>\n",
       "      <td>NaN</td>\n",
       "      <td>NaN</td>\n",
       "      <td>NaN</td>\n",
       "    </tr>\n",
       "    <tr>\n",
       "      <th>...</th>\n",
       "      <td>...</td>\n",
       "      <td>...</td>\n",
       "      <td>...</td>\n",
       "      <td>...</td>\n",
       "      <td>...</td>\n",
       "      <td>...</td>\n",
       "      <td>...</td>\n",
       "      <td>...</td>\n",
       "      <td>...</td>\n",
       "      <td>...</td>\n",
       "      <td>...</td>\n",
       "      <td>...</td>\n",
       "      <td>...</td>\n",
       "      <td>...</td>\n",
       "      <td>...</td>\n",
       "      <td>...</td>\n",
       "      <td>...</td>\n",
       "      <td>...</td>\n",
       "      <td>...</td>\n",
       "      <td>...</td>\n",
       "      <td>...</td>\n",
       "    </tr>\n",
       "    <tr>\n",
       "      <th>2106-04</th>\n",
       "      <td>SHBT100(NA392T010)</td>\n",
       "      <td>100</td>\n",
       "      <td>SHBT100</td>\n",
       "      <td>NA392T010</td>\n",
       "      <td>1.8</td>\n",
       "      <td>1.2</td>\n",
       "      <td>10A106MAAFZ2</td>\n",
       "      <td>10</td>\n",
       "      <td>25</td>\n",
       "      <td>125</td>\n",
       "      <td>...</td>\n",
       "      <td>NaN</td>\n",
       "      <td>NaN</td>\n",
       "      <td>NaN</td>\n",
       "      <td>NaN</td>\n",
       "      <td>NaN</td>\n",
       "      <td>NaN</td>\n",
       "      <td>NaN</td>\n",
       "      <td>NaN</td>\n",
       "      <td>NaN</td>\n",
       "      <td>NaN</td>\n",
       "    </tr>\n",
       "    <tr>\n",
       "      <th>2106-04</th>\n",
       "      <td>SHBT100(NA392T010)</td>\n",
       "      <td>100</td>\n",
       "      <td>SHBT100</td>\n",
       "      <td>NA392T010</td>\n",
       "      <td>1.8</td>\n",
       "      <td>1.2</td>\n",
       "      <td>10A106MAAFZ2</td>\n",
       "      <td>10</td>\n",
       "      <td>25</td>\n",
       "      <td>125</td>\n",
       "      <td>...</td>\n",
       "      <td>NaN</td>\n",
       "      <td>NaN</td>\n",
       "      <td>NaN</td>\n",
       "      <td>NaN</td>\n",
       "      <td>NaN</td>\n",
       "      <td>NaN</td>\n",
       "      <td>NaN</td>\n",
       "      <td>NaN</td>\n",
       "      <td>NaN</td>\n",
       "      <td>NaN</td>\n",
       "    </tr>\n",
       "    <tr>\n",
       "      <th>2106-04</th>\n",
       "      <td>SHBT100(NA392T010)</td>\n",
       "      <td>100</td>\n",
       "      <td>SHBT100</td>\n",
       "      <td>NA392T010</td>\n",
       "      <td>1.8</td>\n",
       "      <td>1.2</td>\n",
       "      <td>10A106MAAFZ2</td>\n",
       "      <td>10</td>\n",
       "      <td>25</td>\n",
       "      <td>125</td>\n",
       "      <td>...</td>\n",
       "      <td>NaN</td>\n",
       "      <td>NaN</td>\n",
       "      <td>NaN</td>\n",
       "      <td>NaN</td>\n",
       "      <td>NaN</td>\n",
       "      <td>NaN</td>\n",
       "      <td>NaN</td>\n",
       "      <td>NaN</td>\n",
       "      <td>NaN</td>\n",
       "      <td>NaN</td>\n",
       "    </tr>\n",
       "    <tr>\n",
       "      <th>2106-04</th>\n",
       "      <td>SHBT100(NA392T010)</td>\n",
       "      <td>100</td>\n",
       "      <td>SHBT100</td>\n",
       "      <td>NA392T010</td>\n",
       "      <td>1.8</td>\n",
       "      <td>1.2</td>\n",
       "      <td>10A106MAAFZ2</td>\n",
       "      <td>10</td>\n",
       "      <td>25</td>\n",
       "      <td>125</td>\n",
       "      <td>...</td>\n",
       "      <td>NaN</td>\n",
       "      <td>NaN</td>\n",
       "      <td>NaN</td>\n",
       "      <td>NaN</td>\n",
       "      <td>NaN</td>\n",
       "      <td>NaN</td>\n",
       "      <td>NaN</td>\n",
       "      <td>NaN</td>\n",
       "      <td>NaN</td>\n",
       "      <td>NaN</td>\n",
       "    </tr>\n",
       "    <tr>\n",
       "      <th>2106-04</th>\n",
       "      <td>SHBT100(NA392T010)</td>\n",
       "      <td>100</td>\n",
       "      <td>SHBT100</td>\n",
       "      <td>NA392T010</td>\n",
       "      <td>1.8</td>\n",
       "      <td>1.2</td>\n",
       "      <td>10A106MAAFZ2</td>\n",
       "      <td>10</td>\n",
       "      <td>25</td>\n",
       "      <td>125</td>\n",
       "      <td>...</td>\n",
       "      <td>NaN</td>\n",
       "      <td>NaN</td>\n",
       "      <td>NaN</td>\n",
       "      <td>NaN</td>\n",
       "      <td>NaN</td>\n",
       "      <td>NaN</td>\n",
       "      <td>NaN</td>\n",
       "      <td>NaN</td>\n",
       "      <td>NaN</td>\n",
       "      <td>NaN</td>\n",
       "    </tr>\n",
       "  </tbody>\n",
       "</table>\n",
       "<p>1181 rows × 89 columns</p>\n",
       "</div>"
      ],
      "text/plain": [
       "                  Unnamed: 1 Unnamed: 2 Unnamed: 3 Unnamed: 4 Unnamed: 5  \\\n",
       "관리번호                      재료   파우더\\n사이즈        파우더         조성    Sheet T   \n",
       "1705-17   SHBT100(NA372PA01)        100    SHBT100  NA372PA01        1.4   \n",
       "1705-17   SHBT100(NA372PA01)        100    SHBT100  NA372PA01        1.4   \n",
       "1705-17   SHBT100(NA372PA01)        100    SHBT100  NA372PA01        1.4   \n",
       "1705-17   SHBT100(NA372PA01)        100    SHBT100  NA372PA01        1.4   \n",
       "...                      ...        ...        ...        ...        ...   \n",
       "2106-04  SHBT100(NA392T010)         100    SHBT100  NA392T010        1.8   \n",
       "2106-04  SHBT100(NA392T010)         100    SHBT100  NA392T010        1.8   \n",
       "2106-04  SHBT100(NA392T010)         100    SHBT100  NA392T010        1.8   \n",
       "2106-04  SHBT100(NA392T010)         100    SHBT100  NA392T010        1.8   \n",
       "2106-04  SHBT100(NA392T010)         100    SHBT100  NA392T010        1.8   \n",
       "\n",
       "        Unnamed: 6    Unnamed: 7 Unnamed: 8 Unnamed: 9  시험조건  ... Unnamed: 80  \\\n",
       "관리번호         유전체두께            기종       칩사이즈         Vr  시험온도  ...         NaN   \n",
       "1705-17   0.933333   10A226MO7JZ         10         16   105  ...         NaN   \n",
       "1705-17   0.933333   10A226MO7JZ         10         16   105  ...         NaN   \n",
       "1705-17   0.933333   10A226MO7JZ         10         16   105  ...         NaN   \n",
       "1705-17   0.933333   10A226MO7JZ         10         16   105  ...         NaN   \n",
       "...            ...           ...        ...        ...   ...  ...         ...   \n",
       "2106-04        1.2  10A106MAAFZ2         10         25   125  ...         NaN   \n",
       "2106-04        1.2  10A106MAAFZ2         10         25   125  ...         NaN   \n",
       "2106-04        1.2  10A106MAAFZ2         10         25   125  ...         NaN   \n",
       "2106-04        1.2  10A106MAAFZ2         10         25   125  ...         NaN   \n",
       "2106-04        1.2  10A106MAAFZ2         10         25   125  ...         NaN   \n",
       "\n",
       "        Unnamed: 81 Unnamed: 82 Unnamed: 83 Unnamed: 84 Unnamed: 85  \\\n",
       "관리번호            NaN         NaN         NaN         NaN         NaN   \n",
       "1705-17         NaN         NaN         NaN         NaN         NaN   \n",
       "1705-17         NaN         NaN         NaN         NaN         NaN   \n",
       "1705-17         NaN         NaN         NaN         NaN         NaN   \n",
       "1705-17         NaN         NaN         NaN         NaN         NaN   \n",
       "...             ...         ...         ...         ...         ...   \n",
       "2106-04         NaN         NaN         NaN         NaN         NaN   \n",
       "2106-04         NaN         NaN         NaN         NaN         NaN   \n",
       "2106-04         NaN         NaN         NaN         NaN         NaN   \n",
       "2106-04         NaN         NaN         NaN         NaN         NaN   \n",
       "2106-04         NaN         NaN         NaN         NaN         NaN   \n",
       "\n",
       "        Unnamed: 86 Unnamed: 87 Unnamed: 88 Unnamed: 89  \n",
       "관리번호            NaN         NaN         NaN         NaN  \n",
       "1705-17         NaN         NaN         NaN         NaN  \n",
       "1705-17         NaN         NaN         NaN         NaN  \n",
       "1705-17         NaN         NaN         NaN         NaN  \n",
       "1705-17         NaN         NaN         NaN         NaN  \n",
       "...             ...         ...         ...         ...  \n",
       "2106-04         NaN         NaN         NaN         NaN  \n",
       "2106-04         NaN         NaN         NaN         NaN  \n",
       "2106-04         NaN         NaN         NaN         NaN  \n",
       "2106-04         NaN         NaN         NaN         NaN  \n",
       "2106-04         NaN         NaN         NaN         NaN  \n",
       "\n",
       "[1181 rows x 89 columns]"
      ]
     },
     "execution_count": 3,
     "metadata": {},
     "output_type": "execute_result"
    }
   ],
   "source": [
    "dataset2"
   ]
  },
  {
   "cell_type": "code",
   "execution_count": null,
   "id": "7bd0b352",
   "metadata": {},
   "outputs": [],
   "source": []
  }
 ],
 "metadata": {
  "kernelspec": {
   "display_name": "Python 3",
   "language": "python",
   "name": "python3"
  },
  "language_info": {
   "codemirror_mode": {
    "name": "ipython",
    "version": 3
   },
   "file_extension": ".py",
   "mimetype": "text/x-python",
   "name": "python",
   "nbconvert_exporter": "python",
   "pygments_lexer": "ipython3",
   "version": "3.8.8"
  }
 },
 "nbformat": 4,
 "nbformat_minor": 5
}
