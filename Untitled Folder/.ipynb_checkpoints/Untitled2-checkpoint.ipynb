{
 "cells": [
  {
   "cell_type": "code",
   "execution_count": null,
   "id": "8e3d8b2d",
   "metadata": {},
   "outputs": [],
   "source": [
    "from PyQt5.QtWidgets import QWidget,QScrollArea, QTableWidget, QVBoxLayout,QTableWidgetItem\n",
    "import pandas as pd\n",
    "\n",
    "win = QWidget()\n",
    "scroll = QScrollArea()\n",
    "layout = QVBoxLayout()\n",
    "table = QTableWidget()\n",
    "scroll.setWidget(table)\n",
    "layout.addWidget(table)\n",
    "win.setLayout(layout)    \n",
    "\n",
    "\n",
    "df = pd.DataFrame({\"a\" : [4 ,5, 6],\"b\" : [7, 8, 9],\"c\" : [10, 11, 12]},index = [1, 2, 3])\n",
    "table.setColumnCount(len(df.columns))\n",
    "table.setRowCount(len(df.index))\n",
    "for i in range(len(df.index)):\n",
    "    for j in range(len(df.columns)):\n",
    "        table.setItem(i,j,QTableWidgetItem(str(df.iloc[i, j])))\n",
    "\n",
    "win.show()"
   ]
  },
  {
   "cell_type": "code",
   "execution_count": 1,
   "id": "f6e36d3e",
   "metadata": {},
   "outputs": [],
   "source": [
    "class Point:\n",
    "        def __init__(self, x, y):\n",
    "                self.x = x\n",
    "                self.y = y\n",
    "        def setx(self, x):\n",
    "                self.x = x\n",
    "        def sety(self, y):\n",
    "                self.y = y\n",
    "        def get(self):\n",
    "                return (self.x, self.y)\n",
    "        def move(self, dx, dy):\n",
    "                self.x += dx\n",
    "                self.y += dy"
   ]
  },
  {
   "cell_type": "code",
   "execution_count": 2,
   "id": "694dc33f",
   "metadata": {},
   "outputs": [],
   "source": [
    "a = Point(3,3)"
   ]
  },
  {
   "cell_type": "code",
   "execution_count": 3,
   "id": "663e96fd",
   "metadata": {},
   "outputs": [
    {
     "data": {
      "text/plain": [
       "(3, 3)"
      ]
     },
     "execution_count": 3,
     "metadata": {},
     "output_type": "execute_result"
    }
   ],
   "source": [
    "a.get()"
   ]
  },
  {
   "cell_type": "code",
   "execution_count": 4,
   "id": "cd0aa421",
   "metadata": {},
   "outputs": [],
   "source": [
    "a.setx(4)"
   ]
  },
  {
   "cell_type": "code",
   "execution_count": 5,
   "id": "491417e6",
   "metadata": {},
   "outputs": [],
   "source": [
    "a.sety(2)"
   ]
  },
  {
   "cell_type": "code",
   "execution_count": 6,
   "id": "19ddfea9",
   "metadata": {},
   "outputs": [
    {
     "data": {
      "text/plain": [
       "(4, 2)"
      ]
     },
     "execution_count": 6,
     "metadata": {},
     "output_type": "execute_result"
    }
   ],
   "source": [
    "a.get()"
   ]
  },
  {
   "cell_type": "code",
   "execution_count": 7,
   "id": "0d0d1d28",
   "metadata": {},
   "outputs": [],
   "source": [
    "a.move(-4,-2)"
   ]
  },
  {
   "cell_type": "code",
   "execution_count": 8,
   "id": "94ed70ec",
   "metadata": {},
   "outputs": [
    {
     "data": {
      "text/plain": [
       "(0, 0)"
      ]
     },
     "execution_count": 8,
     "metadata": {},
     "output_type": "execute_result"
    }
   ],
   "source": [
    "a.get()"
   ]
  },
  {
   "cell_type": "code",
   "execution_count": 1,
   "id": "7b1e3ccb",
   "metadata": {},
   "outputs": [
    {
     "name": "stdout",
     "output_type": "stream",
     "text": [
      "Collecting pygameNote: you may need to restart the kernel to use updated packages.\n",
      "  Downloading pygame-2.1.2-cp38-cp38-win_amd64.whl (8.4 MB)\n",
      "Installing collected packages: pygame\n",
      "Successfully installed pygame-2.1.2\n",
      "\n"
     ]
    }
   ],
   "source": [
    "pip install pygame"
   ]
  },
  {
   "cell_type": "code",
   "execution_count": 2,
   "id": "c44eddc5",
   "metadata": {},
   "outputs": [
    {
     "name": "stdout",
     "output_type": "stream",
     "text": [
      "pygame 2.1.2 (SDL 2.0.18, Python 3.8.8)\n",
      "Hello from the pygame community. https://www.pygame.org/contribute.html\n"
     ]
    }
   ],
   "source": [
    "import pygame"
   ]
  },
  {
   "cell_type": "code",
   "execution_count": 3,
   "id": "7e6d6852",
   "metadata": {},
   "outputs": [
    {
     "data": {
      "text/plain": [
       "(5, 0)"
      ]
     },
     "execution_count": 3,
     "metadata": {},
     "output_type": "execute_result"
    }
   ],
   "source": [
    "pygame.init()"
   ]
  },
  {
   "cell_type": "code",
   "execution_count": null,
   "id": "28814c05",
   "metadata": {},
   "outputs": [],
   "source": []
  },
  {
   "cell_type": "code",
   "execution_count": 4,
   "id": "c5035a67",
   "metadata": {},
   "outputs": [],
   "source": [
    "size = [400,900]"
   ]
  },
  {
   "cell_type": "code",
   "execution_count": null,
   "id": "5921aa52",
   "metadata": {},
   "outputs": [],
   "source": []
  }
 ],
 "metadata": {
  "kernelspec": {
   "display_name": "Python 3",
   "language": "python",
   "name": "python3"
  },
  "language_info": {
   "codemirror_mode": {
    "name": "ipython",
    "version": 3
   },
   "file_extension": ".py",
   "mimetype": "text/x-python",
   "name": "python",
   "nbconvert_exporter": "python",
   "pygments_lexer": "ipython3",
   "version": "3.8.8"
  }
 },
 "nbformat": 4,
 "nbformat_minor": 5
}
