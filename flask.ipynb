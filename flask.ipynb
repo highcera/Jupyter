{
 "cells": [
  {
   "cell_type": "code",
   "execution_count": 2,
   "id": "896d1ed4",
   "metadata": {
    "scrolled": true
   },
   "outputs": [
    {
     "name": "stdout",
     "output_type": "stream",
     "text": [
      " * Serving Flask app \"__main__\" (lazy loading)\n",
      " * Environment: production\n",
      "   WARNING: This is a development server. Do not use it in a production deployment.\n",
      "   Use a production WSGI server instead.\n",
      " * Debug mode: off\n"
     ]
    },
    {
     "name": "stderr",
     "output_type": "stream",
     "text": [
      " * Running on http://127.0.0.1:5000/ (Press CTRL+C to quit)\n",
      "127.0.0.1 - - [05/Sep/2022 08:38:55] \"\u001b[37mGET / HTTP/1.1\u001b[0m\" 200 -\n"
     ]
    }
   ],
   "source": [
    "from flask import Flask\n",
    "\n",
    "app = Flask(__name__)\n",
    "@app.route('/')\n",
    "\n",
    "def hello_world():\n",
    "    return '<h1>Hello World!!</h1>'\n",
    "\n",
    "if __name__ ==\"__main__\":\n",
    "    app.run()\n"
   ]
  },
  {
   "cell_type": "code",
   "execution_count": null,
   "id": "8f7ecb3b",
   "metadata": {},
   "outputs": [],
   "source": []
  },
  {
   "cell_type": "code",
   "execution_count": 11,
   "id": "dc6733c1",
   "metadata": {
    "scrolled": true
   },
   "outputs": [
    {
     "name": "stdout",
     "output_type": "stream",
     "text": [
      " * Serving Flask app \"__main__\" (lazy loading)\n",
      " * Environment: production\n",
      "   WARNING: This is a development server. Do not use it in a production deployment.\n",
      "   Use a production WSGI server instead.\n",
      " * Debug mode: off\n"
     ]
    },
    {
     "name": "stderr",
     "output_type": "stream",
     "text": [
      " * Running on http://127.0.0.1:5000/ (Press CTRL+C to quit)\n",
      "127.0.0.1 - - [20/Sep/2022 09:34:36] \"\u001b[33mGET / HTTP/1.1\u001b[0m\" 404 -\n",
      "127.0.0.1 - - [20/Sep/2022 09:34:39] \"\u001b[33mGET / HTTP/1.1\u001b[0m\" 404 -\n",
      "127.0.0.1 - - [20/Sep/2022 09:34:40] \"\u001b[33mGET / HTTP/1.1\u001b[0m\" 404 -\n",
      "127.0.0.1 - - [20/Sep/2022 09:34:43] \"\u001b[33mGET /user/hycho HTTP/1.1\u001b[0m\" 404 -\n",
      "127.0.0.1 - - [20/Sep/2022 09:34:52] \"\u001b[37mGET /hello/ HTTP/1.1\u001b[0m\" 200 -\n"
     ]
    }
   ],
   "source": [
    "from flask import Flask\n",
    "\n",
    "app = Flask(__name__)\n",
    "@app.route('/hello/')\n",
    "\n",
    "def hello_flask():\n",
    "    return '<h1>Hello Flask!!</h1>'\n",
    "\n",
    "if __name__ ==\"__main__\":\n",
    "    app.run()\n"
   ]
  },
  {
   "cell_type": "code",
   "execution_count": 12,
   "id": "0b6d7527",
   "metadata": {
    "scrolled": false
   },
   "outputs": [
    {
     "name": "stdout",
     "output_type": "stream",
     "text": [
      " * Serving Flask app \"__main__\" (lazy loading)\n",
      " * Environment: production\n",
      "   WARNING: This is a development server. Do not use it in a production deployment.\n",
      "   Use a production WSGI server instead.\n",
      " * Debug mode: off\n"
     ]
    },
    {
     "name": "stderr",
     "output_type": "stream",
     "text": [
      " * Running on http://127.0.0.1:5000/ (Press CTRL+C to quit)\n",
      "127.0.0.1 - - [20/Sep/2022 09:35:35] \"\u001b[33mGET / HTTP/1.1\u001b[0m\" 404 -\n",
      "127.0.0.1 - - [20/Sep/2022 09:35:44] \"\u001b[33mGET /hycho HTTP/1.1\u001b[0m\" 404 -\n",
      "127.0.0.1 - - [20/Sep/2022 09:35:57] \"\u001b[37mGET /user/hycho HTTP/1.1\u001b[0m\" 200 -\n"
     ]
    }
   ],
   "source": [
    "from flask import Flask\n",
    "\n",
    "app = Flask(__name__)\n",
    "\n",
    "@app.route('/user/<userName>') # 변수 <userName>을 인자값으로 넘겨줌\n",
    "def get_uriName(userName):\n",
    "    return 'user : ' + userName\n",
    "\n",
    "if __name__ == \"__main__\":\n",
    "    app.run()"
   ]
  },
  {
   "cell_type": "code",
   "execution_count": 13,
   "id": "0d3ad78c",
   "metadata": {
    "scrolled": true
   },
   "outputs": [
    {
     "name": "stdout",
     "output_type": "stream",
     "text": [
      " * Serving Flask app \"__main__\" (lazy loading)\n",
      " * Environment: production\n",
      "   WARNING: This is a development server. Do not use it in a production deployment.\n",
      "   Use a production WSGI server instead.\n",
      " * Debug mode: off\n"
     ]
    },
    {
     "name": "stderr",
     "output_type": "stream",
     "text": [
      " * Running on http://127.0.0.1:5000/ (Press CTRL+C to quit)\n",
      "127.0.0.1 - - [20/Sep/2022 09:36:21] \"\u001b[33mGET / HTTP/1.1\u001b[0m\" 404 -\n",
      "[2022-09-20 09:36:23,523] ERROR in app: Exception on / [GET]\n",
      "Traceback (most recent call last):\n",
      "  File \"C:\\Users\\Administrator\\anaconda3\\lib\\site-packages\\flask\\app.py\", line 2447, in wsgi_app\n",
      "    response = self.full_dispatch_request()\n",
      "  File \"C:\\Users\\Administrator\\anaconda3\\lib\\site-packages\\flask\\app.py\", line 1952, in full_dispatch_request\n",
      "    rv = self.handle_user_exception(e)\n",
      "  File \"C:\\Users\\Administrator\\anaconda3\\lib\\site-packages\\flask\\app.py\", line 1821, in handle_user_exception\n",
      "    reraise(exc_type, exc_value, tb)\n",
      "  File \"C:\\Users\\Administrator\\anaconda3\\lib\\site-packages\\flask\\_compat.py\", line 39, in reraise\n",
      "    raise value\n",
      "  File \"C:\\Users\\Administrator\\anaconda3\\lib\\site-packages\\flask\\app.py\", line 1950, in full_dispatch_request\n",
      "    rv = self.dispatch_request()\n",
      "  File \"C:\\Users\\Administrator\\anaconda3\\lib\\site-packages\\flask\\app.py\", line 1936, in dispatch_request\n",
      "    return self.view_functions[rule.endpoint](**req.view_args)\n",
      "  File \"<ipython-input-13-d84daecd093f>\", line 6, in main\n",
      "    return render_template('aa.html')\n",
      "  File \"C:\\Users\\Administrator\\anaconda3\\lib\\site-packages\\flask\\templating.py\", line 138, in render_template\n",
      "    ctx.app.jinja_env.get_or_select_template(template_name_or_list),\n",
      "  File \"C:\\Users\\Administrator\\anaconda3\\lib\\site-packages\\jinja2\\environment.py\", line 930, in get_or_select_template\n",
      "    return self.get_template(template_name_or_list, parent, globals)\n",
      "  File \"C:\\Users\\Administrator\\anaconda3\\lib\\site-packages\\jinja2\\environment.py\", line 883, in get_template\n",
      "    return self._load_template(name, self.make_globals(globals))\n",
      "  File \"C:\\Users\\Administrator\\anaconda3\\lib\\site-packages\\jinja2\\environment.py\", line 857, in _load_template\n",
      "    template = self.loader.load(self, name, globals)\n",
      "  File \"C:\\Users\\Administrator\\anaconda3\\lib\\site-packages\\jinja2\\loaders.py\", line 115, in load\n",
      "    source, filename, uptodate = self.get_source(environment, name)\n",
      "  File \"C:\\Users\\Administrator\\anaconda3\\lib\\site-packages\\flask\\templating.py\", line 60, in get_source\n",
      "    return self._get_source_fast(environment, template)\n",
      "  File \"C:\\Users\\Administrator\\anaconda3\\lib\\site-packages\\flask\\templating.py\", line 89, in _get_source_fast\n",
      "    raise TemplateNotFound(template)\n",
      "jinja2.exceptions.TemplateNotFound: aa.html\n",
      "127.0.0.1 - - [20/Sep/2022 09:36:23] \"\u001b[35m\u001b[1mGET / HTTP/1.1\u001b[0m\" 500 -\n"
     ]
    }
   ],
   "source": [
    "from flask import Flask, render_template\n",
    "app = Flask(__name__)\n",
    "\n",
    "@app.route('/')\n",
    "def main():\n",
    "    return render_template('aa.html')\n",
    "\n",
    "if __name__ =='__main__':\n",
    "    app.run()\n"
   ]
  },
  {
   "cell_type": "code",
   "execution_count": null,
   "id": "a1dbde72",
   "metadata": {
    "scrolled": true
   },
   "outputs": [],
   "source": []
  },
  {
   "cell_type": "code",
   "execution_count": 7,
   "id": "9ace441e",
   "metadata": {
    "scrolled": false
   },
   "outputs": [
    {
     "name": "stdout",
     "output_type": "stream",
     "text": [
      " * Serving Flask app \"__main__\" (lazy loading)\n",
      " * Environment: production\n",
      "   WARNING: This is a development server. Do not use it in a production deployment.\n",
      "   Use a production WSGI server instead.\n",
      " * Debug mode: off\n"
     ]
    },
    {
     "name": "stderr",
     "output_type": "stream",
     "text": [
      " * Running on http://127.0.0.1:5000/ (Press CTRL+C to quit)\n",
      "127.0.0.1 - - [22/Sep/2022 12:20:16] \"\u001b[37mGET / HTTP/1.1\u001b[0m\" 200 -\n",
      "127.0.0.1 - - [22/Sep/2022 12:20:34] \"\u001b[37mGET /user/hycho HTTP/1.1\u001b[0m\" 200 -\n",
      "127.0.0.1 - - [22/Sep/2022 12:21:00] \"\u001b[37mGET /post/120 HTTP/1.1\u001b[0m\" 200 -\n",
      "127.0.0.1 - - [22/Sep/2022 12:21:19] \"\u001b[37mGET /circle/3.141592 HTTP/1.1\u001b[0m\" 200 -\n"
     ]
    }
   ],
   "source": [
    "from flask import Flask\n",
    "\n",
    "app = Flask(__name__)\n",
    "\n",
    "@app.route('/')\n",
    "def hello_world():\n",
    "    return '<h1>Hello World!!</h1>'\n",
    "\n",
    "# String 타입의 username 파라메터 (String 기본값)\n",
    "@app.route('/user/<username>')\n",
    "def show_user(username):\n",
    "    return 'User %s' % username\n",
    "\n",
    "# int 타입의 post_id 파라메터\n",
    "@app.route('/post/<int:post_id>')\n",
    "def show_post(post_id):\n",
    "    return 'Post %d' % post_id\n",
    "\n",
    "# float 타입의 pi 파라메터\n",
    "@app.route('/circle/<float:pi>')\n",
    "def show_pi(pi):\n",
    "    return 'Pi %f' % pi\n",
    "\n",
    "if __name__ == '__main__':\n",
    "    app.run()\n"
   ]
  },
  {
   "cell_type": "code",
   "execution_count": 8,
   "id": "d5084a8d",
   "metadata": {
    "scrolled": false
   },
   "outputs": [
    {
     "name": "stdout",
     "output_type": "stream",
     "text": [
      " * Serving Flask app \"__main__\" (lazy loading)\n",
      " * Environment: production\n",
      "   WARNING: This is a development server. Do not use it in a production deployment.\n",
      "   Use a production WSGI server instead.\n",
      " * Debug mode: off\n"
     ]
    },
    {
     "name": "stderr",
     "output_type": "stream",
     "text": [
      " * Running on http://127.0.0.1:5000/ (Press CTRL+C to quit)\n",
      "127.0.0.1 - - [22/Sep/2022 12:21:43] \"\u001b[33mGET /circle/3.141592 HTTP/1.1\u001b[0m\" 404 -\n",
      "127.0.0.1 - - [22/Sep/2022 12:21:52] \"\u001b[37mGET / HTTP/1.1\u001b[0m\" 200 -\n"
     ]
    }
   ],
   "source": [
    "from flask import Flask, render_template\n",
    "\n",
    "app = Flask(__name__)\n",
    "\n",
    "@app.route('/')\n",
    "def main():\n",
    "    return render_template('aa.html')\n",
    "\n",
    "if __name__ == '__main__':\n",
    "    app.run()"
   ]
  },
  {
   "cell_type": "code",
   "execution_count": 5,
   "id": "d6a6cdaa",
   "metadata": {},
   "outputs": [
    {
     "name": "stdout",
     "output_type": "stream",
     "text": [
      "C:\\Users\\Administrator\n"
     ]
    }
   ],
   "source": [
    "import os\n",
    "print(os.getcwd())"
   ]
  },
  {
   "cell_type": "code",
   "execution_count": 7,
   "id": "df2f5031",
   "metadata": {},
   "outputs": [
    {
     "name": "stdout",
     "output_type": "stream",
     "text": [
      "/hello/\n",
      "/user/kimkim\n"
     ]
    }
   ],
   "source": [
    "# test_request_context() : Flask에 있는 메소드이며, HTTP 요청을 테스트할 수 있는 메소드\n",
    "# url_for() 메소드 활용\n",
    "\n",
    "from flask import Flask, url_for\n",
    "app = Flask(__name__)\n",
    "\n",
    "@app.route('/hello/')\n",
    "def hello():\n",
    "    return '<h1>hello world!!</h1>'\n",
    "\n",
    "@app.route('/user/<username>')\n",
    "def get_user(username):\n",
    "    return 'user : '+username\n",
    "\n",
    "if __name__ =='__main__':\n",
    "    with app.test_request_context():\n",
    "        print (url_for('hello'))\n",
    "        print (url_for('get_user', username = 'kimkim'))"
   ]
  },
  {
   "cell_type": "code",
   "execution_count": 9,
   "id": "2b392be7",
   "metadata": {
    "scrolled": true
   },
   "outputs": [
    {
     "name": "stdout",
     "output_type": "stream",
     "text": [
      " * Serving Flask app \"__main__\" (lazy loading)\n",
      " * Environment: production\n",
      "   WARNING: This is a development server. Do not use it in a production deployment.\n",
      "   Use a production WSGI server instead.\n",
      " * Debug mode: off\n"
     ]
    },
    {
     "name": "stderr",
     "output_type": "stream",
     "text": [
      " * Running on http://localhost:5001/ (Press CTRL+C to quit)\n",
      "127.0.0.1 - - [22/Sep/2022 12:23:10] \"\u001b[37mGET / HTTP/1.1\u001b[0m\" 200 -\n",
      "127.0.0.1 - - [22/Sep/2022 12:23:23] \"\u001b[37mGET /user/hycho HTTP/1.1\u001b[0m\" 200 -\n"
     ]
    }
   ],
   "source": [
    "# Jinja2 템플릿 엔진\n",
    "\n",
    "# Flask 설치할 때 같이 설치되기 때문에 추가 설치 할 필요가 없다.\n",
    "# 플라스크의 템플릿 파일들은 기본적으로 /templates/ 폴더에 저장한다.\n",
    "\n",
    "from flask import Flask, render_template\n",
    "\n",
    "app = Flask(__name__)\n",
    "\n",
    "@app.route('/')\n",
    "def hello():\n",
    "    return '<h1>Hello world!!</h1>'\n",
    "\n",
    "@app.route('/user/<username>')\n",
    "def user(username):\n",
    "    return render_template('user2.html', name = username)\n",
    "\n",
    "\n",
    "if __name__ == '__main__':\n",
    "    app.run(host='localhost', port=5001, debug=False)"
   ]
  },
  {
   "cell_type": "code",
   "execution_count": 24,
   "id": "11c07c6c",
   "metadata": {
    "scrolled": false
   },
   "outputs": [
    {
     "ename": "SyntaxError",
     "evalue": "invalid syntax (<ipython-input-24-072833b33072>, line 2)",
     "output_type": "error",
     "traceback": [
      "\u001b[1;36m  File \u001b[1;32m\"<ipython-input-24-072833b33072>\"\u001b[1;36m, line \u001b[1;32m2\u001b[0m\n\u001b[1;33m    Debug=True 삭제\u001b[0m\n\u001b[1;37m               ^\u001b[0m\n\u001b[1;31mSyntaxError\u001b[0m\u001b[1;31m:\u001b[0m invalid syntax\n"
     ]
    }
   ],
   "source": [
    "# 실행 문제 - 확인필요!!!!!!!!!!!!!!!!!!!!!!!!!!!!!!!!!!!!!!!\n",
    "# Debug=True 삭제\n",
    "\n",
    "# jinja2에서 템플릿 표현식\n",
    "\n",
    "# {% : 템플릿에서의 프로그래밍 영역을 넣기위해 시작하는 기호 -block_start_string \n",
    "# %} : 프로그래밍 영역을 기술을 끝내고 프로그래밍 영역을 종료하기 위해 사용하는 기호 - block_end_string \n",
    "\n",
    "# {{ : 변수를 출력하기 위해 시작하는 기호 - variable_start_string\n",
    "# }} : 변수 출력이 끝나고 나서 사용하는 기호 - variable_end_string\n",
    "\n",
    "# {# : 주석을 넣기 위해 시작하는 기호 - comment_start_string\n",
    "# #} : 주석을 넣고 종료하기 위해 사용하는 기호 - comment_end_string\n",
    "\n",
    "\n",
    "from flask import Flask, render_template\n",
    "app  = Flask(__name__)\n",
    "\n",
    "@app.route('/')\n",
    "def temp_test():\n",
    "    return render_template('temp.html', my_string=\"템플릿 테스트\", my_list=[11,22,33,44,55,66,77])\n",
    "\n",
    "\n",
    "if __name__ == \"__main__\":\n",
    "    app.run()\n"
   ]
  },
  {
   "cell_type": "code",
   "execution_count": 7,
   "id": "1ec753d0",
   "metadata": {
    "scrolled": false
   },
   "outputs": [
    {
     "name": "stdout",
     "output_type": "stream",
     "text": [
      " * Serving Flask app \"__main__\" (lazy loading)\n",
      " * Environment: production\n",
      "   WARNING: This is a development server. Do not use it in a production deployment.\n",
      "   Use a production WSGI server instead.\n",
      " * Debug mode: off\n"
     ]
    },
    {
     "name": "stderr",
     "output_type": "stream",
     "text": [
      " * Running on http://127.0.0.1:5000/ (Press CTRL+C to quit)\n",
      "127.0.0.1 - - [30/Sep/2022 08:54:02] \"\u001b[37mGET / HTTP/1.1\u001b[0m\" 200 -\n"
     ]
    }
   ],
   "source": [
    "# 템플릿 상속\n",
    "\n",
    "# {% extends \"<부모 템플릿의 이름>\" %}\n",
    "# {% block %} <대체할 코드> {% endblock%}\n",
    "\n",
    "from flask import Flask, render_template\n",
    "app  = Flask(__name__)\n",
    "\n",
    "@app.route('/')\n",
    "def temp_test():\n",
    "    return render_template('super.html', my_string=\"템플릿 테스트\", my_list=[11,22,33,44,55,66,77])\n",
    "\n",
    "if __name__ == \"__main__\":\n",
    "    app.run()\n"
   ]
  },
  {
   "cell_type": "code",
   "execution_count": null,
   "id": "60bb4e68",
   "metadata": {},
   "outputs": [],
   "source": []
  },
  {
   "cell_type": "code",
   "execution_count": 1,
   "id": "19bdd2f8",
   "metadata": {},
   "outputs": [
    {
     "name": "stdout",
     "output_type": "stream",
     "text": [
      " * Serving Flask app \"__main__\" (lazy loading)\n",
      " * Environment: production\n",
      "   WARNING: This is a development server. Do not use it in a production deployment.\n",
      "   Use a production WSGI server instead.\n",
      " * Debug mode: off\n"
     ]
    },
    {
     "name": "stderr",
     "output_type": "stream",
     "text": [
      " * Running on http://127.0.0.1:5000/ (Press CTRL+C to quit)\n",
      "127.0.0.1 - - [26/Sep/2022 08:21:10] \"\u001b[37mGET / HTTP/1.1\u001b[0m\" 200 -\n",
      "127.0.0.1 - - [26/Sep/2022 08:21:10] \"\u001b[33mGET /favicon.ico HTTP/1.1\u001b[0m\" 404 -\n",
      "127.0.0.1 - - [26/Sep/2022 08:21:12] \"\u001b[37mGET /home HTTP/1.1\u001b[0m\" 200 -\n",
      "127.0.0.1 - - [26/Sep/2022 08:21:14] \"\u001b[37mGET /about HTTP/1.1\u001b[0m\" 200 -\n",
      "127.0.0.1 - - [26/Sep/2022 08:21:16] \"\u001b[37mGET /contact HTTP/1.1\u001b[0m\" 200 -\n",
      "127.0.0.1 - - [26/Sep/2022 08:21:18] \"\u001b[37mGET / HTTP/1.1\u001b[0m\" 200 -\n",
      "127.0.0.1 - - [26/Sep/2022 08:21:20] \"\u001b[37mGET /home HTTP/1.1\u001b[0m\" 200 -\n",
      "127.0.0.1 - - [26/Sep/2022 08:21:21] \"\u001b[37mGET /about HTTP/1.1\u001b[0m\" 200 -\n",
      "127.0.0.1 - - [26/Sep/2022 08:21:22] \"\u001b[37mGET /contact HTTP/1.1\u001b[0m\" 200 -\n",
      "127.0.0.1 - - [26/Sep/2022 08:21:35] \"\u001b[37mGET /contact HTTP/1.1\u001b[0m\" 200 -\n",
      "127.0.0.1 - - [26/Sep/2022 08:21:39] \"\u001b[37mGET /home HTTP/1.1\u001b[0m\" 200 -\n",
      "127.0.0.1 - - [26/Sep/2022 08:21:41] \"\u001b[37mGET /about HTTP/1.1\u001b[0m\" 200 -\n",
      "127.0.0.1 - - [26/Sep/2022 08:21:44] \"\u001b[37mGET /contact HTTP/1.1\u001b[0m\" 200 -\n"
     ]
    }
   ],
   "source": [
    "from flask import Flask, render_template\n",
    "\n",
    "app = Flask(__name__)\n",
    "\n",
    "\n",
    "@app.route('/')\n",
    "def test_app():\n",
    "    return render_template('layout2.html', title='Test', mybody = '테스트 페이지')\n",
    "\n",
    "@app.route('/home')\n",
    "def home():\n",
    "    return render_template('layout2.html', title='Home', mybody=\"메인 페이지\")\n",
    "\n",
    "@app.route('/about')\n",
    "def about():\n",
    "    return render_template('layout2.html', title=\"About\", mybody=\"회사 소개페이지\")\n",
    "\n",
    "@app.route('/contact')\n",
    "def contact():\n",
    "    return render_template('layout2.html', title=\"Contact Us\", mybody = \"문의 페이지\")\n",
    "           \n",
    "\n",
    "if __name__ == \"__main__\":\n",
    "    app.run()"
   ]
  },
  {
   "cell_type": "code",
   "execution_count": 12,
   "id": "a1fb6e60",
   "metadata": {
    "scrolled": true
   },
   "outputs": [
    {
     "name": "stdout",
     "output_type": "stream",
     "text": [
      " * Serving Flask app \"__main__\" (lazy loading)\n",
      " * Environment: production\n",
      "   WARNING: This is a development server. Do not use it in a production deployment.\n",
      "   Use a production WSGI server instead.\n",
      " * Debug mode: off\n"
     ]
    },
    {
     "name": "stderr",
     "output_type": "stream",
     "text": [
      " * Running on http://127.0.0.1:5000/ (Press CTRL+C to quit)\n",
      "127.0.0.1 - - [22/Sep/2022 12:27:48] \"\u001b[37mGET / HTTP/1.1\u001b[0m\" 200 -\n"
     ]
    }
   ],
   "source": [
    "from flask import Flask, render_template\n",
    "app = Flask(__name__)\n",
    "\n",
    "@app.route('/')\n",
    "def temp_test():\n",
    "    return render_template('temp.html', my_string='템플릿 테스트', my_list = [11, 22, 33, 44, 55, 66, 77])\n",
    "\n",
    "if __name__ == \"__main__\":\n",
    "    app.run()"
   ]
  },
  {
   "cell_type": "code",
   "execution_count": 23,
   "id": "1b21974e",
   "metadata": {},
   "outputs": [
    {
     "name": "stdout",
     "output_type": "stream",
     "text": [
      "<HTML>\n",
      "        <HEAD>\n",
      "    <title>\n",
      "        jinja2 연습\n",
      "    </title>\n",
      "</HEAD>\n",
      "    <BODY>\n",
      "        \n",
      "    <p>\n",
      "        템플릿 상속 테스트하기\n",
      "    </p>\n",
      "\n",
      "    </BODY>\n",
      "</HTML>\n"
     ]
    }
   ],
   "source": [
    "# <HTML>\n",
    "#         {% include 'header.html' %}\n",
    "#     <BODY>\n",
    "#         {% block content %}{% endblock %}\n",
    "#     </BODY>\n",
    "# </HTML>\n",
    "\n",
    "# {% extends \"base.html\" %}\n",
    "\n",
    "# {% block content %}\n",
    "#     <p>\n",
    "#         {{ body }}\n",
    "#     </p>\n",
    "# {% endblock%}\n",
    "\n",
    "from jinja2 import Environment, FileSystemLoader\n",
    "\n",
    "file_loader = FileSystemLoader('templates')\n",
    "env = Environment(loader=file_loader)\n",
    "\n",
    "template = env.get_template('child.html')\n",
    "print(template.render(title = 'jinja2 연습', body = '템플릿 상속 테스트하기'))"
   ]
  },
  {
   "cell_type": "code",
   "execution_count": null,
   "id": "1382330e",
   "metadata": {},
   "outputs": [],
   "source": []
  },
  {
   "cell_type": "code",
   "execution_count": 10,
   "id": "77d3e6ec",
   "metadata": {
    "scrolled": true
   },
   "outputs": [
    {
     "data": {
      "text/plain": [
       "'\\n\\n\\n}}\\n                  \\n\\n{% for item in navigation %}\\n                  <li><a href = \"{{ itemlhref }}\">{{ item.cation }}</a></li>\\n{% endfor%}\\n                  '"
      ]
     },
     "execution_count": 10,
     "metadata": {},
     "output_type": "execute_result"
    }
   ],
   "source": [
    "from jinja2 import Environment, FileSystemLoader\n",
    "\n",
    "file_loader = FileSystemLoader('templates')\n",
    "env = Environment(loader=file_loader)\n",
    "\n",
    "template = env.get_template('escape.html')\n",
    "template.render()\n"
   ]
  },
  {
   "cell_type": "code",
   "execution_count": null,
   "id": "af3a178e",
   "metadata": {},
   "outputs": [],
   "source": []
  },
  {
   "cell_type": "code",
   "execution_count": 1,
   "id": "619b4681",
   "metadata": {},
   "outputs": [
    {
     "data": {
      "text/plain": [
       "'Hello 김말똥!'"
      ]
     },
     "execution_count": 1,
     "metadata": {},
     "output_type": "execute_result"
    }
   ],
   "source": [
    "from jinja2 import Template\n",
    "\n",
    "template = Template(\"Hello {{something}}!\")\n",
    "template.render(something = \"김말똥\")"
   ]
  },
  {
   "cell_type": "code",
   "execution_count": 2,
   "id": "c2d7d84f",
   "metadata": {},
   "outputs": [
    {
     "data": {
      "text/plain": [
       "'number : 123456789'"
      ]
     },
     "execution_count": 2,
     "metadata": {},
     "output_type": "execute_result"
    }
   ],
   "source": [
    "template = Template(\"number : {% for n in range(1,10) %}{{n}}{% endfor %}\")\n",
    "template.render()"
   ]
  },
  {
   "cell_type": "code",
   "execution_count": null,
   "id": "e3ff6de4",
   "metadata": {},
   "outputs": [],
   "source": []
  },
  {
   "cell_type": "code",
   "execution_count": 1,
   "id": "e03586bb",
   "metadata": {},
   "outputs": [],
   "source": [
    "# from urllib.request import urlopen\n",
    "# from bs4 import BeautifulSoup\n",
    " \n",
    "# html = urlopen(\"http://ncov.mohw.go.kr/\")\n",
    "# soup = BeautifulSoup(html, \"html.parser\")\n",
    "\n",
    "# print(soup)\n",
    "\n",
    "# nums = []\n",
    "\n",
    "# for item in soup.select(\"div.datalist\"):\n",
    "#     for data in item.select(\"span.data\"):\n",
    "#         nums.append(int(data.string))\n",
    "\n",
    "# print(\"오늘 코로나 확진자수: \", sum(nums), \"명\")"
   ]
  },
  {
   "cell_type": "code",
   "execution_count": 15,
   "id": "64e81bc0",
   "metadata": {
    "scrolled": true
   },
   "outputs": [
    {
     "name": "stdout",
     "output_type": "stream",
     "text": [
      " * Serving Flask app \"__main__\" (lazy loading)\n",
      " * Environment: production\n",
      "   WARNING: This is a development server. Do not use it in a production deployment.\n",
      "   Use a production WSGI server instead.\n",
      " * Debug mode: off\n"
     ]
    },
    {
     "name": "stderr",
     "output_type": "stream",
     "text": [
      " * Running on http://127.0.0.1:5000/ (Press CTRL+C to quit)\n",
      "127.0.0.1 - - [23/Sep/2022 15:39:10] \"\u001b[37mGET / HTTP/1.1\u001b[0m\" 200 -\n"
     ]
    },
    {
     "name": "stdout",
     "output_type": "stream",
     "text": [
      "오늘 코로나 확진자수:  1500 명\n"
     ]
    }
   ],
   "source": [
    "from flask import Flask\n",
    "# from urllib.request import urlopen\n",
    "# from bs4 import BeautifulSoup\n",
    " \n",
    "app = Flask(__name__)\n",
    "@app.route(\"/\")\n",
    " \n",
    "def hello():\n",
    "    # target = request.urlopen(\"http://ncov.mohw.go.kr/\")\n",
    "    # soup = BeautifulSoup(target, \"html.parser\")\n",
    "    nums = [100, 500, 200, 300, 400]\n",
    "\n",
    "    # for item in soup.select(\"div.datalist\"):\n",
    "    #     for data in item.select(\"span.data\"):\n",
    "    #         nums.append(int(data.string))\n",
    "\n",
    "    print(\"오늘 코로나 확진자수: \", sum(nums), \"명\")\n",
    "\n",
    "    return \"<h1>오늘 코로나 확진자수: \"+str(sum(nums))+\"명</h1>\"\n",
    " \n",
    "app.run()\n"
   ]
  },
  {
   "cell_type": "code",
   "execution_count": null,
   "id": "e3f65ce1",
   "metadata": {},
   "outputs": [],
   "source": [
    "# https://moondol-ai.tistory.com/238\n",
    "# 파이썬 크롤링 requests vs urllib.request 차이는?"
   ]
  },
  {
   "cell_type": "code",
   "execution_count": null,
   "id": "f3dc3164",
   "metadata": {},
   "outputs": [],
   "source": [
    "# https://developer-max.tistory.com/37\n",
    "# Flask 웹 프로그래밍"
   ]
  },
  {
   "cell_type": "code",
   "execution_count": 3,
   "id": "dc7c3c61",
   "metadata": {
    "scrolled": false
   },
   "outputs": [
    {
     "name": "stdout",
     "output_type": "stream",
     "text": [
      " * Serving Flask app \"__main__\" (lazy loading)\n",
      " * Environment: production\n",
      "   WARNING: This is a development server. Do not use it in a production deployment.\n",
      "   Use a production WSGI server instead.\n",
      " * Debug mode: off\n"
     ]
    },
    {
     "name": "stderr",
     "output_type": "stream",
     "text": [
      " * Running on http://127.0.0.1:5000/ (Press CTRL+C to quit)\n",
      "127.0.0.1 - - [04/Oct/2022 14:43:04] \"\u001b[37mGET /new_aaa HTTP/1.1\u001b[0m\" 200 -\n",
      "[2022-10-04 14:43:11,059] ERROR in app: Exception on /aaa [GET]\n",
      "Traceback (most recent call last):\n",
      "  File \"C:\\Users\\Administrator\\anaconda3\\lib\\site-packages\\flask\\app.py\", line 2447, in wsgi_app\n",
      "    response = self.full_dispatch_request()\n",
      "  File \"C:\\Users\\Administrator\\anaconda3\\lib\\site-packages\\flask\\app.py\", line 1952, in full_dispatch_request\n",
      "    rv = self.handle_user_exception(e)\n",
      "  File \"C:\\Users\\Administrator\\anaconda3\\lib\\site-packages\\flask\\app.py\", line 1821, in handle_user_exception\n",
      "    reraise(exc_type, exc_value, tb)\n",
      "  File \"C:\\Users\\Administrator\\anaconda3\\lib\\site-packages\\flask\\_compat.py\", line 39, in reraise\n",
      "    raise value\n",
      "  File \"C:\\Users\\Administrator\\anaconda3\\lib\\site-packages\\flask\\app.py\", line 1950, in full_dispatch_request\n",
      "    rv = self.dispatch_request()\n",
      "  File \"C:\\Users\\Administrator\\anaconda3\\lib\\site-packages\\flask\\app.py\", line 1936, in dispatch_request\n",
      "    return self.view_functions[rule.endpoint](**req.view_args)\n",
      "  File \"<ipython-input-3-634d2c21ab4a>\", line 11, in aaa\n",
      "    return redirect('http://127.0.0.1:5000/new_aaa')\n",
      "NameError: name 'redirect' is not defined\n",
      "127.0.0.1 - - [04/Oct/2022 14:43:11] \"\u001b[35m\u001b[1mGET /aaa HTTP/1.1\u001b[0m\" 500 -\n"
     ]
    },
    {
     "name": "stdout",
     "output_type": "stream",
     "text": [
      "/aaa로 호출한 페이지 입니다\n"
     ]
    }
   ],
   "source": [
    "# 라우팅을 할 때 많이 사용하는 옵션 중에 하나 redirect_to\n",
    "\n",
    "from flask import Flask\n",
    "\n",
    "app = Flask(__name__)\n",
    "\n",
    "@app.route('/aaa')\n",
    "def aaa():\n",
    "    print(\"/aaa로 호출한 페이지 입니다\")\n",
    "# , redirect_to='/new_aaa\n",
    "    return redirect('http://127.0.0.1:5000/new_aaa')\n",
    "\n",
    "@app.route('/new_aaa')\n",
    "def new_aaa():\n",
    "    return '/new_aaa로 호출한 페이지 입니다'\n",
    "\n",
    "\n",
    "if __name__ =='__main__':\n",
    "    app.run()"
   ]
  },
  {
   "cell_type": "code",
   "execution_count": 5,
   "id": "c14ba08f",
   "metadata": {
    "scrolled": true
   },
   "outputs": [
    {
     "name": "stdout",
     "output_type": "stream",
     "text": [
      " * Serving Flask app \"__main__\" (lazy loading)\n",
      " * Environment: production\n",
      "   WARNING: This is a development server. Do not use it in a production deployment.\n",
      "   Use a production WSGI server instead.\n",
      " * Debug mode: off\n"
     ]
    },
    {
     "name": "stderr",
     "output_type": "stream",
     "text": [
      " * Running on http://127.0.0.1:5000/ (Press CTRL+C to quit)\n",
      "127.0.0.1 - - [04/Oct/2022 14:51:46] \"\u001b[32mGET /aaa/p1/p2 HTTP/1.1\u001b[0m\" 308 -\n",
      "127.0.0.1 - - [04/Oct/2022 14:51:46] \"\u001b[37mGET /new_aaa/p1/p2 HTTP/1.1\u001b[0m\" 200 -\n",
      "127.0.0.1 - - [04/Oct/2022 14:52:35] \"\u001b[37mGET /new_aaa/p1/p2 HTTP/1.1\u001b[0m\" 200 -\n",
      "127.0.0.1 - - [04/Oct/2022 14:52:43] \"\u001b[37mGET /new_aaa/p1/p2 HTTP/1.1\u001b[0m\" 200 -\n",
      "127.0.0.1 - - [04/Oct/2022 14:53:18] \"\u001b[37mGET /new_aaa/p1/p2 HTTP/1.1\u001b[0m\" 200 -\n",
      "127.0.0.1 - - [04/Oct/2022 14:56:01] \"\u001b[37mGET /new_aaa/p1/p2 HTTP/1.1\u001b[0m\" 200 -\n"
     ]
    }
   ],
   "source": [
    "# redirect_to 옵션에 다른 url이 아닌 함수를 전달하는 방법\n",
    "\n",
    "# 함수를 전달하기 위해서는 미리 함수를 정의 해둬야 한다.\n",
    "# 정의된 함수의 첫번째 인자는 필수적으로 adapter 이어야 한다.\n",
    "\n",
    "from flask import Flask\n",
    "\n",
    "app = Flask(__name__)\n",
    "\n",
    "def redirect_new_aaa(adapter, p1, p2):\n",
    "    return \"/new_aaa/{0}/{1}\".format(p1, p2)\n",
    "\n",
    "@app.route(\"/aaa/<p1>/<p2>\", redirect_to = redirect_new_aaa)\n",
    "def aaa(p1, p2):\n",
    "    return \"/aaa/p1/p2로 호출되는 페이지 입니다.\"\n",
    "\n",
    "@app.route(\"/new_aaa/<p1>/<p2>\")\n",
    "def new_aaa(p1, p2):\n",
    "    return \"/new_aaa/{0}/{1}로 호출되는 페이지 입니다.\".format(p1, p2)\n",
    "\n",
    "if __name__ == '__main__':\n",
    "    app.run()"
   ]
  },
  {
   "cell_type": "code",
   "execution_count": 6,
   "id": "5cc15965",
   "metadata": {},
   "outputs": [
    {
     "name": "stdout",
     "output_type": "stream",
     "text": [
      " * Serving Flask app \"__main__\" (lazy loading)\n",
      " * Environment: production\n",
      "   WARNING: This is a development server. Do not use it in a production deployment.\n",
      "   Use a production WSGI server instead.\n",
      " * Debug mode: off\n"
     ]
    },
    {
     "name": "stderr",
     "output_type": "stream",
     "text": [
      " * Running on http://127.0.0.1:5000/ (Press CTRL+C to quit)\n",
      "127.0.0.1 - - [04/Oct/2022 14:59:52] \"\u001b[33mGET / HTTP/1.1\u001b[0m\" 404 -\n",
      "127.0.0.1 - - [04/Oct/2022 15:00:30] \"\u001b[33mGET /new_aaa/p1/p2 HTTP/1.1\u001b[0m\" 404 -\n",
      "127.0.0.1 - - [04/Oct/2022 15:00:36] \"\u001b[33mGET /aaa/hycho HTTP/1.1\u001b[0m\" 404 -\n",
      "127.0.0.1 - - [04/Oct/2022 15:00:40] \"\u001b[37mGET /aaa HTTP/1.1\u001b[0m\" 200 -\n",
      "127.0.0.1 - - [04/Oct/2022 15:00:58] \"\u001b[33mGET /aaa/p1 HTTP/1.1\u001b[0m\" 404 -\n",
      "127.0.0.1 - - [04/Oct/2022 15:01:09] \"\u001b[37mGET /aaa HTTP/1.1\u001b[0m\" 200 -\n"
     ]
    }
   ],
   "source": [
    "# HTTP 메시지 (request 메시지, response 메시지)\n",
    "# HTTP 메시지는 평문 형태로 되어 있으며, 헤더와 바디로 구성된다.\n",
    "# 이때 헤더와 바디의 구분은 빈줄로 구분한다.\n",
    "\n",
    "# Flask에서 HTTP 요청과 응답을 처리하기 위해서는 Request객체와 Response객체를 사용한다.\n",
    "\n",
    "# flask모듈에서 reqeust 클래스를 가져온다.\n",
    "\n",
    "from flask import Flask, request\n",
    "\n",
    "app = Flask(__name__)\n",
    "\n",
    "# Get방식에서 넘어온 변수값 가져오기\n",
    "@app.route('/aaa')\n",
    "def aaa():\n",
    "    return \"request 객체를 이용하여 얻어온 변수 name 값은 {} 입니다.\".format(request.args.get('name'))\n",
    "\n",
    "if __name__ == \"__main__\":\n",
    "    app.run()\n",
    "\n",
    "# request.args에서 args는 Get 방식으로 전달된 데이터만 접근할 수 있다."
   ]
  },
  {
   "cell_type": "code",
   "execution_count": 9,
   "id": "e9a39e75",
   "metadata": {
    "scrolled": false
   },
   "outputs": [
    {
     "name": "stdout",
     "output_type": "stream",
     "text": [
      " * Serving Flask app \"__main__\" (lazy loading)\n",
      " * Environment: production\n",
      "   WARNING: This is a development server. Do not use it in a production deployment.\n",
      "   Use a production WSGI server instead.\n",
      " * Debug mode: off\n"
     ]
    },
    {
     "name": "stderr",
     "output_type": "stream",
     "text": [
      " * Running on http://127.0.0.1:5000/ (Press CTRL+C to quit)\n",
      "127.0.0.1 - - [04/Oct/2022 15:14:49] \"\u001b[33mGET /aaa HTTP/1.1\u001b[0m\" 404 -\n",
      "127.0.0.1 - - [04/Oct/2022 15:15:07] \"\u001b[33mGET / HTTP/1.1\u001b[0m\" 404 -\n",
      "127.0.0.1 - - [04/Oct/2022 15:15:11] \"\u001b[33mGET /aaa HTTP/1.1\u001b[0m\" 404 -\n",
      "127.0.0.1 - - [04/Oct/2022 15:15:36] \"\u001b[37mGET /bbb HTTP/1.1\u001b[0m\" 200 -\n"
     ]
    }
   ],
   "source": [
    "from flask import Flask, request\n",
    "\n",
    "app = Flask(__name__)\n",
    "\n",
    "@app.route('/bbb')\n",
    "def bbb():\n",
    "    nameVal = request.args.get(\"name\", default = \"전달된 데이터가 없습니다!!\")\n",
    "    return str(nameVal)\n",
    "\n",
    "if __name__ == \"__main__\":\n",
    "    app.run()"
   ]
  },
  {
   "cell_type": "code",
   "execution_count": 8,
   "id": "a486972e",
   "metadata": {},
   "outputs": [
    {
     "name": "stdout",
     "output_type": "stream",
     "text": [
      " * Serving Flask app \"__main__\" (lazy loading)\n",
      " * Environment: production\n",
      "   WARNING: This is a development server. Do not use it in a production deployment.\n",
      "   Use a production WSGI server instead.\n",
      " * Debug mode: off\n"
     ]
    },
    {
     "name": "stderr",
     "output_type": "stream",
     "text": [
      " * Running on http://127.0.0.1:5000/ (Press CTRL+C to quit)\n",
      "127.0.0.1 - - [04/Oct/2022 15:12:52] \"\u001b[37mGET /abab HTTP/1.1\u001b[0m\" 200 -\n",
      "127.0.0.1 - - [04/Oct/2022 15:13:02] \"\u001b[33mGET /abab/hello HTTP/1.1\u001b[0m\" 404 -\n",
      "127.0.0.1 - - [04/Oct/2022 15:13:10] \"\u001b[33mGET /abab/'hello' HTTP/1.1\u001b[0m\" 404 -\n",
      "127.0.0.1 - - [04/Oct/2022 15:13:16] \"\u001b[33mGET /abab/ HTTP/1.1\u001b[0m\" 404 -\n",
      "127.0.0.1 - - [04/Oct/2022 15:13:18] \"\u001b[33mGET /abab/ HTTP/1.1\u001b[0m\" 404 -\n",
      "127.0.0.1 - - [04/Oct/2022 15:13:24] \"\u001b[33mGET / HTTP/1.1\u001b[0m\" 404 -\n",
      "127.0.0.1 - - [04/Oct/2022 15:13:39] \"\u001b[33mGET /abab/ HTTP/1.1\u001b[0m\" 404 -\n"
     ]
    }
   ],
   "source": [
    "# request의 values속성은 GET 또는 POST 메서드로 데이터를 보냈을 때 HTTP 메서드 타입에 상관없이\n",
    "# 데이터를 읽어 올 수 있는 속성이다.\n",
    "\n",
    "# 여기서 주의할 점은 GET과 POST가 동일한 변수명을 사용했을 경우 values속성은 GET메서드로\n",
    "# 보낸 데이터를 우선으로 한다.\n",
    "\n",
    "from flask import Flask, request\n",
    "\n",
    "app = Flask(__name__)\n",
    "\n",
    "@app.route('/abab', methods = [\"GET\", \"POST\"])\n",
    "def abab():\n",
    "    # 브라우저로 부터 변수가 넘어오지 않았을 경우에는 기본값을 설정할 수 있다.\n",
    "    return request.values.get(\"name\", default = \"전달된 데이터가 없습니다!!\") \n",
    "\n",
    "if __name__ ==\"__main__\":\n",
    "    app.run()\n",
    "\n",
    "# HTTP 메세지는 웝서버와 웹브라우저간의 문자열 타입으로만 데이터를 주고 받는다.\n"
   ]
  },
  {
   "cell_type": "code",
   "execution_count": 10,
   "id": "6f77b28b",
   "metadata": {},
   "outputs": [
    {
     "name": "stdout",
     "output_type": "stream",
     "text": [
      " * Serving Flask app \"__main__\" (lazy loading)\n",
      " * Environment: production\n",
      "   WARNING: This is a development server. Do not use it in a production deployment.\n",
      "   Use a production WSGI server instead.\n",
      " * Debug mode: off\n"
     ]
    },
    {
     "name": "stderr",
     "output_type": "stream",
     "text": [
      " * Running on http://127.0.0.1:5000/ (Press CTRL+C to quit)\n",
      "127.0.0.1 - - [04/Oct/2022 15:18:51] \"\u001b[37mGET /ccc HTTP/1.1\u001b[0m\" 200 -\n"
     ]
    },
    {
     "name": "stdout",
     "output_type": "stream",
     "text": [
      "2018-05-25\n"
     ]
    }
   ],
   "source": [
    "# 프로그래머가 특정 객체로 변환해서 리턴할 때\n",
    "\n",
    "# 코드 예 > return request.values.get(\"name\", 100, type=int) --> int 객체로 반환\n",
    "\n",
    "# 위의 예는 프로그래머가 반환타입을 쉽게 int객체로 변환하여 반환하는 예 이다.\n",
    "# type의 값으로 파이썬에서 제공하는 기본 타입 이외에도 함수나 클래스(인스턴스)를 사용할 수 있다.\n",
    "# 즉, 사용자 정의 데이터 타입을 사용하는 것이다.\n",
    "\n",
    "from flask import Flask, request\n",
    "from datetime import datetime\n",
    "\n",
    "app = Flask(__name__)\n",
    "\n",
    "# 사용자 정의 함수 (특정 날짜 형식을 지정하는 함수)\n",
    "def userDateType(date_format):\n",
    "    def changeFormat(date_string):\n",
    "        # strptime(date_string, format) : format 맞는 date_string을 datetime객체로 리턴하는 메소드\n",
    "        return datetime.strptime(date_string, date_format)\n",
    "    return changeFormat\n",
    "\n",
    "@app.route(\"/ccc\",  methods = [\"GET\", \"POST\"])\n",
    "def ccc():\n",
    "    print(request.values.get(\"date\", default = \"2018-05-25\", type=userDateType(\"%Y-%m-%d\")))\n",
    "    return \"콘솔을 통해서 확인해보세요\"\n",
    "\n",
    "\n",
    "if __name__ == \"__main__\":\n",
    "    app.run()\n",
    "\n",
    "\n",
    "    \n"
   ]
  },
  {
   "cell_type": "code",
   "execution_count": 11,
   "id": "850da7bf",
   "metadata": {},
   "outputs": [
    {
     "name": "stdout",
     "output_type": "stream",
     "text": [
      " * Serving Flask app \"__main__\" (lazy loading)\n",
      " * Environment: production\n",
      "   WARNING: This is a development server. Do not use it in a production deployment.\n",
      "   Use a production WSGI server instead.\n",
      " * Debug mode: off\n"
     ]
    },
    {
     "name": "stderr",
     "output_type": "stream",
     "text": [
      " * Running on http://127.0.0.1:5000/ (Press CTRL+C to quit)\n",
      "127.0.0.1 - - [04/Oct/2022 15:20:40] \"\u001b[37mGET /ddd HTTP/1.1\u001b[0m\" 200 -\n"
     ]
    },
    {
     "name": "stdout",
     "output_type": "stream",
     "text": [
      "2015-05-25\n"
     ]
    }
   ],
   "source": [
    "# 사용자 정의 타입이 클래스인 경우\n",
    "\n",
    "# get메소드에서 datetime객체 사용하기 위해서는 __call__ 메소드를 정의 해야 한다.\n",
    "\n",
    "from flask import Flask, request\n",
    "from datetime import datetime\n",
    "\n",
    "app = Flask(__name__)\n",
    "\n",
    "class userDateType:\n",
    "    def __init__(self, format):\n",
    "        self.format = format\n",
    "\n",
    "    def __call__(self, *args, **kw):\n",
    "        return datetime.strptime(args[0], self.format)\n",
    "\n",
    "@app.route(\"/ddd\", methods=[\"GET\", \"POST\"])\n",
    "def ddd():\n",
    "    print(request.values.get(\"date\", \"2015-05-25\", type=userDateType(\"%Y-%m-%d\")))\n",
    "    return \"콘솔에서 날짜를 확인 바랍니다\"\n",
    "\n",
    "if __name__==\"__main__\":\n",
    "    app.run()\n"
   ]
  },
  {
   "cell_type": "code",
   "execution_count": 14,
   "id": "72f4023b",
   "metadata": {},
   "outputs": [
    {
     "name": "stdout",
     "output_type": "stream",
     "text": [
      " * Serving Flask app \"__main__\" (lazy loading)\n",
      " * Environment: production\n",
      "   WARNING: This is a development server. Do not use it in a production deployment.\n",
      "   Use a production WSGI server instead.\n",
      " * Debug mode: off\n"
     ]
    },
    {
     "name": "stderr",
     "output_type": "stream",
     "text": [
      " * Running on http://127.0.0.1:5000/ (Press CTRL+C to quit)\n",
      "[2022-10-04 15:25:39,031] ERROR in app: Exception on /eee [GET]\n",
      "Traceback (most recent call last):\n",
      "  File \"C:\\Users\\Administrator\\anaconda3\\lib\\site-packages\\flask\\app.py\", line 2447, in wsgi_app\n",
      "    response = self.full_dispatch_request()\n",
      "  File \"C:\\Users\\Administrator\\anaconda3\\lib\\site-packages\\flask\\app.py\", line 1952, in full_dispatch_request\n",
      "    rv = self.handle_user_exception(e)\n",
      "  File \"C:\\Users\\Administrator\\anaconda3\\lib\\site-packages\\flask\\app.py\", line 1821, in handle_user_exception\n",
      "    reraise(exc_type, exc_value, tb)\n",
      "  File \"C:\\Users\\Administrator\\anaconda3\\lib\\site-packages\\flask\\_compat.py\", line 39, in reraise\n",
      "    raise value\n",
      "  File \"C:\\Users\\Administrator\\anaconda3\\lib\\site-packages\\flask\\app.py\", line 1950, in full_dispatch_request\n",
      "    rv = self.dispatch_request()\n",
      "  File \"C:\\Users\\Administrator\\anaconda3\\lib\\site-packages\\flask\\app.py\", line 1936, in dispatch_request\n",
      "    return self.view_functions[rule.endpoint](**req.view_args)\n",
      "  File \"<ipython-input-13-b69734bfa9e6>\", line 18, in eee\n",
      "    print(request.values.getlist(\"dates\", \"2015-05-25\", type=userDateType(\"%Y-%m-%d\")))\n",
      "TypeError: getlist() got multiple values for argument 'type'\n",
      "127.0.0.1 - - [04/Oct/2022 15:25:39] \"\u001b[35m\u001b[1mGET /eee HTTP/1.1\u001b[0m\" 500 -\n",
      "127.0.0.1 - - [04/Oct/2022 15:25:41] \"\u001b[37mGET /eee HTTP/1.1\u001b[0m\" 200 -\n"
     ]
    },
    {
     "name": "stdout",
     "output_type": "stream",
     "text": [
      "[]\n"
     ]
    }
   ],
   "source": [
    "# 같은 변수에 여러개의 값이 넘어오는 경우에는 리스트 타입으로 반환 해주면 된다.\n",
    "# 이때 사용하는 메소드는 getlist 이다. getlist메소드는 default 인자를 사용하지 않는다.\n",
    "\n",
    "from flask import Flask, request\n",
    "from datetime import datetime\n",
    "\n",
    "app = Flask(__name__)\n",
    "\n",
    "class userDateType:\n",
    "    def __init__(self, format):\n",
    "        self.format = format\n",
    "\n",
    "    def __call__(self, *args, **kw):\n",
    "        return datetime.strptime(args[0], self.format)\n",
    "\n",
    "@app.route(\"/eee\", methods=[\"GET\", \"POST\"])\n",
    "def eee():\n",
    "    print(request.values.getlist(\"dates\", type=userDateType(\"%Y-%m-%d\")))\n",
    "    return \"콘솔을 통해서 확인하세요.\"\n",
    "\n",
    "if __name__ == \"__main__\":\n",
    "    app.run()"
   ]
  },
  {
   "cell_type": "code",
   "execution_count": 1,
   "id": "22de373e",
   "metadata": {},
   "outputs": [
    {
     "name": "stdout",
     "output_type": "stream",
     "text": [
      " * Serving Flask app \"__main__\" (lazy loading)\n",
      " * Environment: production\n",
      "   WARNING: This is a development server. Do not use it in a production deployment.\n",
      "   Use a production WSGI server instead.\n",
      " * Debug mode: off\n"
     ]
    },
    {
     "name": "stderr",
     "output_type": "stream",
     "text": [
      " * Running on http://127.0.0.1:5000/ (Press CTRL+C to quit)\n",
      "127.0.0.1 - - [05/Oct/2022 08:06:08] \"\u001b[33mGET / HTTP/1.1\u001b[0m\" 404 -\n",
      "127.0.0.1 - - [05/Oct/2022 08:06:08] \"\u001b[33mGET /favicon.ico HTTP/1.1\u001b[0m\" 404 -\n",
      "127.0.0.1 - - [05/Oct/2022 08:06:19] \"\u001b[37mGET /test/environ HTTP/1.1\u001b[0m\" 200 -\n"
     ]
    }
   ],
   "source": [
    "# WSGI(envrion 사전에서 제공하는) 표준 환경 변수\n",
    "# REQUEST_METHOD : 웹브라우저가 보낸 요청의 처리 방식에 대한 문자열 포함\n",
    "# SCRIPT_NAME : 스크립트 파일명을 표현, FLASK에서는 빈값으로 출력\n",
    "# PATH_INFO :  URL 경로(PATH), 예> http://www.aaa.com/ccc/main ---> /ccc/main\n",
    "# CONTENT_TYPE : 웹브라우저가 보낸 HTTP 요청 메시지의 바디에 포함되는 콘텐츠 형태 저장\n",
    "#                              HTTP헤더에 Content-type 헤더 값을 확인한다.\n",
    "# SERVER_NAME : 서버의 도메인 주소(IP)가 저장, 예> http://www.aaa.com/ccc/main --->www.aaa.com\n",
    "# SERVER_PORT : 웹 어플리케이션이 동작하고 있는 서버 포트번호가 저장\n",
    "#       예> http://www.aaa.com/5000/env ---> 5000 저장 , 도메인주소에 포트가 없으면 80 저장\n",
    "# SERVER_PROTOCOL : 웹 어플리케이션이 동작하는 서버 프로토콜 버전이 표시, HTTP/1.1\n",
    "# QUERY_STRING : URL 끝에 보면 ?문자 뒤에 오는 문자열을 쿼리 스트링이라고 한다. 키=값의 형태로 지정\n",
    "# <wsgi 전용 환경 변수 >\n",
    "# wsgi.version : WSGI 번전을 튜플 형태로 반환  (1.0)\n",
    "# wsgi.url_scheme : URL 스키마의 종류, 웹서버인 경우에는 http를 반환한다.\n",
    "#       키값이 두개 이상일 때는 키사이에 &문자로 구분한다.\n",
    "\n",
    "from flask import Flask, request\n",
    "\n",
    "app = Flask(__name__)\n",
    "\n",
    "@app.route(\"/test/environ\", methods=[\"GET\", \"POST\"])\n",
    "# request의 environ 속성 : HTTP 통신에 사용하는 환경 변수를 담고 있는 사전(wsgi 전용 환경변수도 포함)\n",
    "def test():\n",
    "    strVal = (\"REQUEST_METHOD : %(REQUEST_METHOD)s<br/>\"\n",
    "                   \"PATH_INFO : %(PATH_INFO)s<br/>\"\n",
    "                   \"QUERY_STRING : %(QUERY_STRING)s<br/>\"\n",
    "                   #\"CONTENT_TYPE :%(CONTENT_TYPE)s<br/>\"\n",
    "                   \"SERVER_NAME : %(SERVER_NAME)s<br/>\"\n",
    "                   \"SERVER_PORT : %(SERVER_PORT)s<br/>\"\n",
    "                   \"SERVER_PROTOCOL: %(SERVER_PROTOCOL)s<br/>\"\n",
    "                   \"wsgi.version : %(wsgi.version)s<br/>\"\n",
    "                   \"wsgi.url_scheme : %(wsgi.url_scheme)s\") % request.environ\n",
    "    return strVal\n",
    "\n",
    "if __name__ == \"__main__\":\n",
    "    app.run()"
   ]
  },
  {
   "cell_type": "code",
   "execution_count": 2,
   "id": "93af9e04",
   "metadata": {},
   "outputs": [
    {
     "name": "stdout",
     "output_type": "stream",
     "text": [
      " * Serving Flask app \"__main__\" (lazy loading)\n",
      " * Environment: production\n",
      "   WARNING: This is a development server. Do not use it in a production deployment.\n",
      "   Use a production WSGI server instead.\n",
      " * Debug mode: off\n"
     ]
    },
    {
     "name": "stderr",
     "output_type": "stream",
     "text": [
      " * Running on http://127.0.0.1:5000/ (Press CTRL+C to quit)\n",
      "127.0.0.1 - - [05/Oct/2022 08:07:40] \"\u001b[37mGET /exam/environ HTTP/1.1\u001b[0m\" 200 -\n"
     ]
    }
   ],
   "source": [
    "from flask import Flask, request\n",
    "\n",
    "app = Flask(__name__)\n",
    "\n",
    "@app.route(\"/exam/environ\", methods = [\"GET\", \"POST\"])\n",
    "def exam():\n",
    "    return request.method\n",
    "\n",
    "if __name__ == \"__main__\":\n",
    "    app.run()"
   ]
  },
  {
   "cell_type": "code",
   "execution_count": 3,
   "id": "ac667079",
   "metadata": {},
   "outputs": [
    {
     "name": "stdout",
     "output_type": "stream",
     "text": [
      " * Serving Flask app \"__main__\" (lazy loading)\n",
      " * Environment: production\n",
      "   WARNING: This is a development server. Do not use it in a production deployment.\n",
      "   Use a production WSGI server instead.\n",
      " * Debug mode: off\n"
     ]
    },
    {
     "name": "stderr",
     "output_type": "stream",
     "text": [
      " * Running on http://127.0.0.1:5000/ (Press CTRL+C to quit)\n",
      "127.0.0.1 - - [05/Oct/2022 08:10:06] \"\u001b[37mGET /example/environ HTTP/1.1\u001b[0m\" 200 -\n"
     ]
    }
   ],
   "source": [
    "# request URL 관련 속성\n",
    "# path: url 경로 (환경 변수 PATH_INFO와 같음)\n",
    "# url : 전체 URL 모두 표시\n",
    "# base_url : 쿼리 스트링을 제외한 URL 표시\n",
    "# url_root : 환경변수 SERVER_NAME과 같음\n",
    "\n",
    "from flask import Flask, request\n",
    "\n",
    "app = Flask(__name__)\n",
    "\n",
    "@app.route(\"/example/environ\", methods = [\"GET\", \"POST\"])\n",
    "def example():\n",
    "    return(\"path : %s<br/>\"\n",
    "            \"url : %s<br/>\"\n",
    "            \"base_url : %s<br/>\"\n",
    "            \"url_root : %s<br/>\") % (request.path, request.url, request.base_url, request.url_root)\n",
    "\n",
    "if __name__ == \"__main__\":\n",
    "    app.run()\n",
    "    \n",
    "           \n"
   ]
  },
  {
   "cell_type": "code",
   "execution_count": 4,
   "id": "2fe32fae",
   "metadata": {
    "scrolled": true
   },
   "outputs": [
    {
     "name": "stdout",
     "output_type": "stream",
     "text": [
      " * Serving Flask app \"__main__\" (lazy loading)\n",
      " * Environment: production\n",
      "   WARNING: This is a development server. Do not use it in a production deployment.\n",
      "   Use a production WSGI server instead.\n",
      " * Debug mode: off\n"
     ]
    },
    {
     "name": "stderr",
     "output_type": "stream",
     "text": [
      " * Running on http://127.0.0.1:5000/ (Press CTRL+C to quit)\n",
      "127.0.0.1 - - [05/Oct/2022 08:11:24] \"\u001b[37mGET /end/test HTTP/1.1\u001b[0m\" 200 -\n"
     ]
    }
   ],
   "source": [
    "# endpoint 속성\n",
    "\n",
    "from flask import Flask, request\n",
    "\n",
    "app = Flask(__name__)\n",
    "\n",
    "@app.route(\"/end/test\", methods=[\"GET\", \"POST\"])\n",
    "def test():\n",
    "    return request.endpoint\n",
    "\n",
    "if __name__ == \"__main__\":\n",
    "    app.run()\n"
   ]
  },
  {
   "cell_type": "code",
   "execution_count": 6,
   "id": "cb49a22a",
   "metadata": {},
   "outputs": [
    {
     "name": "stdout",
     "output_type": "stream",
     "text": [
      " * Serving Flask app \"__main__\" (lazy loading)\n",
      " * Environment: production\n",
      "   WARNING: This is a development server. Do not use it in a production deployment.\n",
      "   Use a production WSGI server instead.\n",
      " * Debug mode: off\n"
     ]
    },
    {
     "name": "stderr",
     "output_type": "stream",
     "text": [
      " * Running on http://127.0.0.1:5000/ (Press CTRL+C to quit)\n",
      "127.0.0.1 - - [05/Oct/2022 08:18:58] \"\u001b[37mGET / HTTP/1.1\u001b[0m\" 200 -\n"
     ]
    }
   ],
   "source": [
    "# Response 객체를 이용한 웹브라우저에 응답하기\n",
    "\n",
    "# from flask import Flask, Response\n",
    "# 플라스크에서 웹 브라우저에 응답을 할 때  모든 데이터는 Response 객체를 이용한다.\n",
    "# Response 객체를 이용하여 사용자 정보를 유지하기 위하여 쿠키를 설정하기도 한다.\n",
    "\n",
    "# Response 객체를 생성할 때 사용하는 인자\n",
    "# response : 웹브라우저에게 응답할 데이터\n",
    "# status : HTTP 상태코드,  200 OK\n",
    "# headers : 웹브라우저에 응답할 헤더\n",
    "# mimetype : image/jpeg, text/html 과 같이 HTTP 메세지 바디가 어떤 MIME Type 데이터인지를 지정\n",
    "# content_type : 웹 브라우저에 응답하는 콘텐츠 타입을 지정, mimetype과 같은 역할을 한다.\n",
    "# direct_passthrough : True/ False 설정\n",
    "\n",
    "# Response 클래스의 속성\n",
    "# headers : 웹 브라우저에 응답할 헤더의 데이터가 들어있음. 이속성의 데이터 타입은 headers 타입으로\n",
    "#           headers의 메소드를 이용해서 응답할 헤더를 변경할 수 있다.\n",
    "# status : 웹 브라우저가 수신할  HTTP 상태 코드와 상태 메세지 값을 합친 문자열 데이터, 이데이터는 웹 브라우저에\n",
    "#           보내기전에 변경 가능하다.\n",
    "# status_code : 웹 브라우저가 받을 HTTP 상태 코드 값을 반환한다.  정확한 상태 메세지를 모를 경우 상태 코드 값만\n",
    "#           지정하면 플라스크에서 자동으로 상태메세지를 만들어 준다.\n",
    "# data : 웹 브라우저가 표시할 데이터를 포함한다. get_data, set_data 메소드를 이용하여 데이터를 변경한다.\n",
    "# mimetype : 웹 브라우저에 응답할 때는 일반적으로 text/html을 설정한다.\n",
    "\n",
    "\n",
    "from flask import Flask, Response\n",
    "\n",
    "app = Flask(__name__)\n",
    "\n",
    "@app.route(\"/\")\n",
    "def res():\n",
    "    res = Response(\"응답 테스트 하기\")\n",
    "    res.headers.add(\"webApp-Name\", \"Flask-Test\")\n",
    "    \n",
    "    return res\n",
    "\n",
    "if __name__ == \"__main__\":\n",
    "    app.run()"
   ]
  },
  {
   "cell_type": "code",
   "execution_count": 7,
   "id": "0f92fcf6",
   "metadata": {
    "scrolled": true
   },
   "outputs": [
    {
     "name": "stdout",
     "output_type": "stream",
     "text": [
      " * Serving Flask app \"__main__\" (lazy loading)\n",
      " * Environment: production\n",
      "   WARNING: This is a development server. Do not use it in a production deployment.\n",
      "   Use a production WSGI server instead.\n",
      " * Debug mode: off\n"
     ]
    },
    {
     "name": "stderr",
     "output_type": "stream",
     "text": [
      " * Running on http://127.0.0.1:5000/ (Press CTRL+C to quit)\n",
      "127.0.0.1 - - [05/Oct/2022 08:19:22] \"\u001b[37mGET / HTTP/1.1\u001b[0m\" 200 -\n",
      "127.0.0.1 - - [05/Oct/2022 08:19:23] \"\u001b[37mGET / HTTP/1.1\u001b[0m\" 200 -\n"
     ]
    }
   ],
   "source": [
    "# Response 객체에서 HTTP 메세지 바디와 쿠키를 설정하는 메소드\n",
    "\n",
    "# get_data : 브라우저에 응답할 데이터를 반환한다. (data 속성에 있는 값을 얻어온다.)\n",
    "# set_data : 브라우저에 응답할 데이터를 변경할 때 사용한다.\n",
    "# set_cookie : 클라이언트 쿠키를 설정한다.\n",
    "\n",
    "from flask import Flask, Response\n",
    "\n",
    "app = Flask(__name__)\n",
    "\n",
    "@app.route(\"/\")\n",
    "def res():\n",
    "    res = Response(\"응답 테스트\")\n",
    "    res.set_data(\"플라스크 학습하기\")\n",
    "    return res\n",
    "\n",
    "if __name__ == \"__main__\":\n",
    "    app.run()\n"
   ]
  },
  {
   "cell_type": "code",
   "execution_count": null,
   "id": "71a0c664",
   "metadata": {},
   "outputs": [
    {
     "name": "stdout",
     "output_type": "stream",
     "text": [
      " * Serving Flask app \"__main__\" (lazy loading)\n",
      " * Environment: production\n",
      "   WARNING: This is a development server. Do not use it in a production deployment.\n",
      "   Use a production WSGI server instead.\n",
      " * Debug mode: off\n"
     ]
    },
    {
     "name": "stderr",
     "output_type": "stream",
     "text": [
      " * Running on http://localhost:5001/ (Press CTRL+C to quit)\n",
      "127.0.0.1 - - [05/Oct/2022 08:37:16] \"\u001b[35m\u001b[1mGET / HTTP/1.1\u001b[0m\" 0 -\n",
      "Error on request:\n",
      "Traceback (most recent call last):\n",
      "  File \"C:\\Users\\Administrator\\anaconda3\\Lib\\site-packages\\werkzeug\\serving.py\", line 323, in run_wsgi\n",
      "    execute(self.server.app)\n",
      "  File \"C:\\Users\\Administrator\\anaconda3\\Lib\\site-packages\\werkzeug\\serving.py\", line 315, in execute\n",
      "    write(data)\n",
      "  File \"C:\\Users\\Administrator\\anaconda3\\Lib\\site-packages\\werkzeug\\serving.py\", line 273, in write\n",
      "    self.send_response(code, msg)\n",
      "  File \"C:\\Users\\Administrator\\anaconda3\\Lib\\site-packages\\werkzeug\\serving.py\", line 388, in send_response\n",
      "    self.wfile.write(hdr.encode(\"ascii\"))\n",
      "UnicodeEncodeError: 'ascii' codec can't encode characters in position 14-16: ordinal not in range(128)\n",
      "127.0.0.1 - - [05/Oct/2022 08:37:18] \"\u001b[35m\u001b[1mGET / HTTP/1.1\u001b[0m\" 0 -\n",
      "Error on request:\n",
      "Traceback (most recent call last):\n",
      "  File \"C:\\Users\\Administrator\\anaconda3\\Lib\\site-packages\\werkzeug\\serving.py\", line 323, in run_wsgi\n",
      "    execute(self.server.app)\n",
      "  File \"C:\\Users\\Administrator\\anaconda3\\Lib\\site-packages\\werkzeug\\serving.py\", line 315, in execute\n",
      "    write(data)\n",
      "  File \"C:\\Users\\Administrator\\anaconda3\\Lib\\site-packages\\werkzeug\\serving.py\", line 273, in write\n",
      "    self.send_response(code, msg)\n",
      "  File \"C:\\Users\\Administrator\\anaconda3\\Lib\\site-packages\\werkzeug\\serving.py\", line 388, in send_response\n",
      "    self.wfile.write(hdr.encode(\"ascii\"))\n",
      "UnicodeEncodeError: 'ascii' codec can't encode characters in position 14-16: ordinal not in range(128)\n",
      "127.0.0.1 - - [05/Oct/2022 08:37:18] \"\u001b[35m\u001b[1mGET / HTTP/1.1\u001b[0m\" 0 -\n",
      "Error on request:\n",
      "Traceback (most recent call last):\n",
      "  File \"C:\\Users\\Administrator\\anaconda3\\Lib\\site-packages\\werkzeug\\serving.py\", line 323, in run_wsgi\n",
      "    execute(self.server.app)\n",
      "  File \"C:\\Users\\Administrator\\anaconda3\\Lib\\site-packages\\werkzeug\\serving.py\", line 315, in execute\n",
      "    write(data)\n",
      "  File \"C:\\Users\\Administrator\\anaconda3\\Lib\\site-packages\\werkzeug\\serving.py\", line 273, in write\n",
      "    self.send_response(code, msg)\n",
      "  File \"C:\\Users\\Administrator\\anaconda3\\Lib\\site-packages\\werkzeug\\serving.py\", line 388, in send_response\n",
      "    self.wfile.write(hdr.encode(\"ascii\"))\n",
      "UnicodeEncodeError: 'ascii' codec can't encode characters in position 14-16: ordinal not in range(128)\n",
      "127.0.0.1 - - [05/Oct/2022 08:37:18] \"\u001b[35m\u001b[1mGET / HTTP/1.1\u001b[0m\" 0 -\n",
      "Error on request:\n",
      "Traceback (most recent call last):\n",
      "  File \"C:\\Users\\Administrator\\anaconda3\\Lib\\site-packages\\werkzeug\\serving.py\", line 323, in run_wsgi\n",
      "    execute(self.server.app)\n",
      "  File \"C:\\Users\\Administrator\\anaconda3\\Lib\\site-packages\\werkzeug\\serving.py\", line 315, in execute\n",
      "    write(data)\n",
      "  File \"C:\\Users\\Administrator\\anaconda3\\Lib\\site-packages\\werkzeug\\serving.py\", line 273, in write\n",
      "    self.send_response(code, msg)\n",
      "  File \"C:\\Users\\Administrator\\anaconda3\\Lib\\site-packages\\werkzeug\\serving.py\", line 388, in send_response\n",
      "    self.wfile.write(hdr.encode(\"ascii\"))\n",
      "UnicodeEncodeError: 'ascii' codec can't encode characters in position 14-16: ordinal not in range(128)\n",
      "127.0.0.1 - - [05/Oct/2022 08:37:23] \"\u001b[35m\u001b[1mGET / HTTP/1.1\u001b[0m\" 0 -\n",
      "Error on request:\n",
      "Traceback (most recent call last):\n",
      "  File \"C:\\Users\\Administrator\\anaconda3\\Lib\\site-packages\\werkzeug\\serving.py\", line 323, in run_wsgi\n",
      "    execute(self.server.app)\n",
      "  File \"C:\\Users\\Administrator\\anaconda3\\Lib\\site-packages\\werkzeug\\serving.py\", line 315, in execute\n",
      "    write(data)\n",
      "  File \"C:\\Users\\Administrator\\anaconda3\\Lib\\site-packages\\werkzeug\\serving.py\", line 273, in write\n",
      "    self.send_response(code, msg)\n",
      "  File \"C:\\Users\\Administrator\\anaconda3\\Lib\\site-packages\\werkzeug\\serving.py\", line 388, in send_response\n",
      "    self.wfile.write(hdr.encode(\"ascii\"))\n",
      "UnicodeEncodeError: 'ascii' codec can't encode characters in position 14-16: ordinal not in range(128)\n",
      "127.0.0.1 - - [05/Oct/2022 08:37:24] \"\u001b[35m\u001b[1mGET / HTTP/1.1\u001b[0m\" 0 -\n",
      "Error on request:\n",
      "Traceback (most recent call last):\n",
      "  File \"C:\\Users\\Administrator\\anaconda3\\Lib\\site-packages\\werkzeug\\serving.py\", line 323, in run_wsgi\n",
      "    execute(self.server.app)\n",
      "  File \"C:\\Users\\Administrator\\anaconda3\\Lib\\site-packages\\werkzeug\\serving.py\", line 315, in execute\n",
      "    write(data)\n",
      "  File \"C:\\Users\\Administrator\\anaconda3\\Lib\\site-packages\\werkzeug\\serving.py\", line 273, in write\n",
      "    self.send_response(code, msg)\n",
      "  File \"C:\\Users\\Administrator\\anaconda3\\Lib\\site-packages\\werkzeug\\serving.py\", line 388, in send_response\n",
      "    self.wfile.write(hdr.encode(\"ascii\"))\n",
      "UnicodeEncodeError: 'ascii' codec can't encode characters in position 14-16: ordinal not in range(128)\n",
      "127.0.0.1 - - [05/Oct/2022 08:37:27] \"\u001b[35m\u001b[1mGET / HTTP/1.1\u001b[0m\" 0 -\n",
      "Error on request:\n",
      "Traceback (most recent call last):\n",
      "  File \"C:\\Users\\Administrator\\anaconda3\\Lib\\site-packages\\werkzeug\\serving.py\", line 323, in run_wsgi\n",
      "    execute(self.server.app)\n",
      "  File \"C:\\Users\\Administrator\\anaconda3\\Lib\\site-packages\\werkzeug\\serving.py\", line 315, in execute\n",
      "    write(data)\n",
      "  File \"C:\\Users\\Administrator\\anaconda3\\Lib\\site-packages\\werkzeug\\serving.py\", line 273, in write\n",
      "    self.send_response(code, msg)\n",
      "  File \"C:\\Users\\Administrator\\anaconda3\\Lib\\site-packages\\werkzeug\\serving.py\", line 388, in send_response\n",
      "    self.wfile.write(hdr.encode(\"ascii\"))\n",
      "UnicodeEncodeError: 'ascii' codec can't encode characters in position 14-16: ordinal not in range(128)\n",
      "127.0.0.1 - - [05/Oct/2022 08:37:32] \"\u001b[35m\u001b[1mGET / HTTP/1.1\u001b[0m\" 0 -\n",
      "Error on request:\n",
      "Traceback (most recent call last):\n",
      "  File \"C:\\Users\\Administrator\\anaconda3\\Lib\\site-packages\\werkzeug\\serving.py\", line 323, in run_wsgi\n",
      "    execute(self.server.app)\n",
      "  File \"C:\\Users\\Administrator\\anaconda3\\Lib\\site-packages\\werkzeug\\serving.py\", line 315, in execute\n",
      "    write(data)\n",
      "  File \"C:\\Users\\Administrator\\anaconda3\\Lib\\site-packages\\werkzeug\\serving.py\", line 273, in write\n",
      "    self.send_response(code, msg)\n",
      "  File \"C:\\Users\\Administrator\\anaconda3\\Lib\\site-packages\\werkzeug\\serving.py\", line 388, in send_response\n",
      "    self.wfile.write(hdr.encode(\"ascii\"))\n",
      "UnicodeEncodeError: 'ascii' codec can't encode characters in position 14-16: ordinal not in range(128)\n",
      "127.0.0.1 - - [05/Oct/2022 08:37:32] \"\u001b[35m\u001b[1mGET / HTTP/1.1\u001b[0m\" 0 -\n",
      "Error on request:\n",
      "Traceback (most recent call last):\n",
      "  File \"C:\\Users\\Administrator\\anaconda3\\Lib\\site-packages\\werkzeug\\serving.py\", line 323, in run_wsgi\n",
      "    execute(self.server.app)\n",
      "  File \"C:\\Users\\Administrator\\anaconda3\\Lib\\site-packages\\werkzeug\\serving.py\", line 315, in execute\n",
      "    write(data)\n",
      "  File \"C:\\Users\\Administrator\\anaconda3\\Lib\\site-packages\\werkzeug\\serving.py\", line 273, in write\n",
      "    self.send_response(code, msg)\n",
      "  File \"C:\\Users\\Administrator\\anaconda3\\Lib\\site-packages\\werkzeug\\serving.py\", line 388, in send_response\n",
      "    self.wfile.write(hdr.encode(\"ascii\"))\n",
      "UnicodeEncodeError: 'ascii' codec can't encode characters in position 14-16: ordinal not in range(128)\n",
      "127.0.0.1 - - [05/Oct/2022 08:37:32] \"\u001b[35m\u001b[1mGET / HTTP/1.1\u001b[0m\" 0 -\n",
      "Error on request:\n",
      "Traceback (most recent call last):\n",
      "  File \"C:\\Users\\Administrator\\anaconda3\\Lib\\site-packages\\werkzeug\\serving.py\", line 323, in run_wsgi\n",
      "    execute(self.server.app)\n",
      "  File \"C:\\Users\\Administrator\\anaconda3\\Lib\\site-packages\\werkzeug\\serving.py\", line 315, in execute\n",
      "    write(data)\n",
      "  File \"C:\\Users\\Administrator\\anaconda3\\Lib\\site-packages\\werkzeug\\serving.py\", line 273, in write\n",
      "    self.send_response(code, msg)\n",
      "  File \"C:\\Users\\Administrator\\anaconda3\\Lib\\site-packages\\werkzeug\\serving.py\", line 388, in send_response\n",
      "    self.wfile.write(hdr.encode(\"ascii\"))\n",
      "UnicodeEncodeError: 'ascii' codec can't encode characters in position 14-16: ordinal not in range(128)\n",
      "127.0.0.1 - - [05/Oct/2022 08:37:33] \"\u001b[35m\u001b[1mGET / HTTP/1.1\u001b[0m\" 0 -\n",
      "Error on request:\n",
      "Traceback (most recent call last):\n",
      "  File \"C:\\Users\\Administrator\\anaconda3\\Lib\\site-packages\\werkzeug\\serving.py\", line 323, in run_wsgi\n",
      "    execute(self.server.app)\n",
      "  File \"C:\\Users\\Administrator\\anaconda3\\Lib\\site-packages\\werkzeug\\serving.py\", line 315, in execute\n",
      "    write(data)\n",
      "  File \"C:\\Users\\Administrator\\anaconda3\\Lib\\site-packages\\werkzeug\\serving.py\", line 273, in write\n",
      "    self.send_response(code, msg)\n",
      "  File \"C:\\Users\\Administrator\\anaconda3\\Lib\\site-packages\\werkzeug\\serving.py\", line 388, in send_response\n",
      "    self.wfile.write(hdr.encode(\"ascii\"))\n",
      "UnicodeEncodeError: 'ascii' codec can't encode characters in position 14-16: ordinal not in range(128)\n"
     ]
    },
    {
     "name": "stderr",
     "output_type": "stream",
     "text": [
      "127.0.0.1 - - [05/Oct/2022 08:37:33] \"\u001b[35m\u001b[1mGET / HTTP/1.1\u001b[0m\" 0 -\n",
      "Error on request:\n",
      "Traceback (most recent call last):\n",
      "  File \"C:\\Users\\Administrator\\anaconda3\\Lib\\site-packages\\werkzeug\\serving.py\", line 323, in run_wsgi\n",
      "    execute(self.server.app)\n",
      "  File \"C:\\Users\\Administrator\\anaconda3\\Lib\\site-packages\\werkzeug\\serving.py\", line 315, in execute\n",
      "    write(data)\n",
      "  File \"C:\\Users\\Administrator\\anaconda3\\Lib\\site-packages\\werkzeug\\serving.py\", line 273, in write\n",
      "    self.send_response(code, msg)\n",
      "  File \"C:\\Users\\Administrator\\anaconda3\\Lib\\site-packages\\werkzeug\\serving.py\", line 388, in send_response\n",
      "    self.wfile.write(hdr.encode(\"ascii\"))\n",
      "UnicodeEncodeError: 'ascii' codec can't encode characters in position 14-16: ordinal not in range(128)\n"
     ]
    }
   ],
   "source": [
    "from flask import Flask, request, Response\n",
    "\n",
    "app = Flask(__name__)\n",
    "\n",
    "@app.route(\"/\")\n",
    "def res():\n",
    "    res = Response(\"플라스크 학습하기\")\n",
    "    res.set_cookie(\"ID\", \"Flask Study\")\n",
    "\n",
    "    return res, \"ID 쿠키는 %s 값을 가지고 있습니다.\" % request.cookies.get('ID', '')\n",
    "\n",
    "if __name__== \"__main__\":\n",
    "    app.run(host='localhost', port=5001)\n"
   ]
  },
  {
   "cell_type": "code",
   "execution_count": 3,
   "id": "e72ca55a",
   "metadata": {},
   "outputs": [
    {
     "name": "stdout",
     "output_type": "stream",
     "text": [
      " * Serving Flask app \"__main__\" (lazy loading)\n",
      " * Environment: production\n",
      "   WARNING: This is a development server. Do not use it in a production deployment.\n",
      "   Use a production WSGI server instead.\n",
      " * Debug mode: off\n"
     ]
    },
    {
     "name": "stderr",
     "output_type": "stream",
     "text": [
      " * Running on http://127.0.0.1:5000/ (Press CTRL+C to quit)\n",
      "127.0.0.1 - - [05/Oct/2022 08:39:51] \"\u001b[33mGET / HTTP/1.1\u001b[0m\" 404 -\n",
      "127.0.0.1 - - [05/Oct/2022 08:40:02] \"\u001b[33mGET / HTTP/1.1\u001b[0m\" 404 -\n",
      "127.0.0.1 - - [05/Oct/2022 08:40:03] \"\u001b[33mGET / HTTP/1.1\u001b[0m\" 404 -\n",
      "127.0.0.1 - - [05/Oct/2022 08:40:04] \"\u001b[33mGET / HTTP/1.1\u001b[0m\" 404 -\n"
     ]
    }
   ],
   "source": [
    "# ex25_쿠키는 기본적으로 쿠키 이름과 쿠키 값으로 구성\n",
    "# 쿠키는 정해진 시간동안 유지된다.\n",
    "# 쿠키는 지정된 웹사이트의 경로에 영향을 미친다.\n",
    "# 쿠키는 지정된 도메인 주소에 영향을 미친다.\n",
    "\n",
    "# set_cookie 인자\n",
    "\n",
    "# key : 쿠키 이름(쿠키를 설정할 때 반드시 이름을 지정해야 한다.)\n",
    "# value : 쿠키 값. 기본값은 빈 문자열\n",
    "# max_age : 쿠키 지속시간. 기본값은 None인데 None이면 브라우저가 닫힐 때 자동으로 쿠키가 게거된다.\n",
    "#                   시간 단위는 초단위의 시간값으로 전달한다. 시간설정되면 초단위의 시간이 지나면 해당쿠키가 삭제된다.\n",
    "# domain : 쿠키의 영향력이 미치는 도메인 주소. 기본값은 None이다.\n",
    "# path : 쿠키의 영향력이 미치는 웹사이트의 경로. 기본값은 \"/\" 이다.\n",
    "\n",
    "\"\"\" 쿠키 생성 / 삭제 / 확인 하기 예제 \"\"\"\n",
    "from flask import Flask, request, Response\n",
    "\n",
    "app = Flask(__name__)\n",
    "\n",
    "@app.route(\"/cookie_set\")\n",
    "def cookieSet():\n",
    "    res = Response(\"Cookie 생성\")\n",
    "    res.set_cookie(\"cname\", \"Flask Study\")\n",
    "    return res\n",
    "\n",
    "@app.route(\"/cookie_out\")\n",
    "def cout():\n",
    "    res = Response(\"Cookie 삭제\")\n",
    "    res.set_cookie(\"cname\", expires = 0)\n",
    "    return res\n",
    "\n",
    "@app.route(\"/cookie_status\")\n",
    "def cstatus():\n",
    "    return \"cname 쿠키는 %s 값을 가지고 있습니다.\" % request.cookies.get('cname', '')\n",
    "\n",
    "\n",
    "if __name__ == \"__main__\":\n",
    "    app.run()\n",
    "\n"
   ]
  },
  {
   "cell_type": "code",
   "execution_count": 2,
   "id": "72c4c854",
   "metadata": {},
   "outputs": [
    {
     "name": "stdout",
     "output_type": "stream",
     "text": [
      " * Serving Flask app \"__main__\" (lazy loading)\n",
      " * Environment: production\n",
      "   WARNING: This is a development server. Do not use it in a production deployment.\n",
      "   Use a production WSGI server instead.\n",
      " * Debug mode: off\n"
     ]
    },
    {
     "name": "stderr",
     "output_type": "stream",
     "text": [
      " * Running on http://127.0.0.1:5000/ (Press CTRL+C to quit)\n",
      "127.0.0.1 - - [05/Oct/2022 08:39:15] \"\u001b[37mGET / HTTP/1.1\u001b[0m\" 200 -\n",
      "127.0.0.1 - - [05/Oct/2022 08:39:32] \"\u001b[32mPOST /add HTTP/1.1\u001b[0m\" 302 -\n",
      "127.0.0.1 - - [05/Oct/2022 08:39:32] \"\u001b[37mGET / HTTP/1.1\u001b[0m\" 200 -\n"
     ]
    }
   ],
   "source": [
    "from flask import Flask, render_template, request, redirect, url_for\n",
    "\n",
    "app = Flask(__name__)\n",
    "\n",
    "board = []\n",
    "@app.route('/')\n",
    "def index():\n",
    "    # 리스트(board)를 html 파일로 넘기기\n",
    "    return render_template('Board.html', rows = board)\n",
    "\n",
    "@app.route('/add', methods = ['POST'])\n",
    "def add():\n",
    "    if request.method == 'POST':\n",
    "        # Board.html 에서 입력받은 name, context 를 가져와서 board 변수에 추가\n",
    "        name = request.form['name']\n",
    "        context = request.form['context']\n",
    "        board.append([name, context])\n",
    "        return redirect(url_for('index'))\n",
    "    else:\n",
    "        return render_template('board.html', rows = board)\n",
    "\n",
    "if __name__ == '__main__':\n",
    "    app.run()"
   ]
  },
  {
   "cell_type": "code",
   "execution_count": 5,
   "id": "0664ca3f",
   "metadata": {
    "scrolled": true
   },
   "outputs": [
    {
     "name": "stdout",
     "output_type": "stream",
     "text": [
      " * Serving Flask app \"__main__\" (lazy loading)\n",
      " * Environment: production\n",
      "   WARNING: This is a development server. Do not use it in a production deployment.\n",
      "   Use a production WSGI server instead.\n",
      " * Debug mode: off\n"
     ]
    },
    {
     "name": "stderr",
     "output_type": "stream",
     "text": [
      " * Running on http://127.0.0.1:5000/ (Press CTRL+C to quit)\n",
      "[2022-10-05 08:59:25,081] ERROR in app: Exception on / [GET]\n",
      "Traceback (most recent call last):\n",
      "  File \"C:\\Users\\Administrator\\anaconda3\\lib\\site-packages\\flask\\app.py\", line 2447, in wsgi_app\n",
      "    response = self.full_dispatch_request()\n",
      "  File \"C:\\Users\\Administrator\\anaconda3\\lib\\site-packages\\flask\\app.py\", line 1952, in full_dispatch_request\n",
      "    rv = self.handle_user_exception(e)\n",
      "  File \"C:\\Users\\Administrator\\anaconda3\\lib\\site-packages\\flask\\app.py\", line 1821, in handle_user_exception\n",
      "    reraise(exc_type, exc_value, tb)\n",
      "  File \"C:\\Users\\Administrator\\anaconda3\\lib\\site-packages\\flask\\_compat.py\", line 39, in reraise\n",
      "    raise value\n",
      "  File \"C:\\Users\\Administrator\\anaconda3\\lib\\site-packages\\flask\\app.py\", line 1950, in full_dispatch_request\n",
      "    rv = self.dispatch_request()\n",
      "  File \"C:\\Users\\Administrator\\anaconda3\\lib\\site-packages\\flask\\app.py\", line 1936, in dispatch_request\n",
      "    return self.view_functions[rule.endpoint](**req.view_args)\n",
      "  File \"<ipython-input-4-cd6e799de016>\", line 8, in main\n",
      "    return render_template('index.html')\n",
      "  File \"C:\\Users\\Administrator\\anaconda3\\lib\\site-packages\\flask\\templating.py\", line 137, in render_template\n",
      "    return _render(\n",
      "  File \"C:\\Users\\Administrator\\anaconda3\\lib\\site-packages\\flask\\templating.py\", line 120, in _render\n",
      "    rv = template.render(context)\n",
      "  File \"C:\\Users\\Administrator\\anaconda3\\lib\\site-packages\\jinja2\\environment.py\", line 1090, in render\n",
      "    self.environment.handle_exception()\n",
      "  File \"C:\\Users\\Administrator\\anaconda3\\lib\\site-packages\\jinja2\\environment.py\", line 832, in handle_exception\n",
      "    reraise(*rewrite_traceback_stack(source=source))\n",
      "  File \"C:\\Users\\Administrator\\anaconda3\\lib\\site-packages\\jinja2\\_compat.py\", line 28, in reraise\n",
      "    raise value.with_traceback(tb)\n",
      "  File \"C:\\Users\\Administrator\\templates\\index.html\", line 1, in top-level template code\n",
      "    {% extends \"flash_layout.html\" %}\n",
      "  File \"C:\\Users\\Administrator\\templates\\flash_layout.html\", line 13, in top-level template code\n",
      "    {% block body%}{% endblock%}\n",
      "  File \"C:\\Users\\Administrator\\templates\\index.html\", line 4, in block \"body\"\n",
      "    <p>로그인을 하시겠습니까? <a href = {{url_for('flash_login')}}>로그인</a></p>\n",
      "  File \"C:\\Users\\Administrator\\anaconda3\\lib\\site-packages\\flask\\helpers.py\", line 370, in url_for\n",
      "    return appctx.app.handle_url_build_error(error, endpoint, values)\n",
      "  File \"C:\\Users\\Administrator\\anaconda3\\lib\\site-packages\\flask\\app.py\", line 2216, in handle_url_build_error\n",
      "    reraise(exc_type, exc_value, tb)\n",
      "  File \"C:\\Users\\Administrator\\anaconda3\\lib\\site-packages\\flask\\_compat.py\", line 39, in reraise\n",
      "    raise value\n",
      "  File \"C:\\Users\\Administrator\\anaconda3\\lib\\site-packages\\flask\\helpers.py\", line 357, in url_for\n",
      "    rv = url_adapter.build(\n",
      "  File \"C:\\Users\\Administrator\\anaconda3\\lib\\site-packages\\werkzeug\\routing.py\", line 2179, in build\n",
      "    raise BuildError(endpoint, values, method, self)\n",
      "werkzeug.routing.BuildError: Could not build url for endpoint 'flash_login'. Did you mean 'logging_test' instead?\n",
      "127.0.0.1 - - [05/Oct/2022 08:59:25] \"\u001b[35m\u001b[1mGET / HTTP/1.1\u001b[0m\" 500 -\n",
      "127.0.0.1 - - [05/Oct/2022 08:59:26] \"\u001b[37mGET / HTTP/1.1\u001b[0m\" 200 -\n",
      "[2022-10-05 08:59:32,553] WARNING in <ipython-input-5-b159899235fb>: 1 라인\n",
      "[2022-10-05 08:59:32,556] ERROR in <ipython-input-5-b159899235fb>: 에러발생\n",
      "127.0.0.1 - - [05/Oct/2022 08:59:32] \"\u001b[37mGET /logging HTTP/1.1\u001b[0m\" 200 -\n",
      "[2022-10-05 09:00:03,052] WARNING in <ipython-input-5-b159899235fb>: 1 라인\n",
      "[2022-10-05 09:00:03,055] ERROR in <ipython-input-5-b159899235fb>: 에러발생\n",
      "127.0.0.1 - - [05/Oct/2022 09:00:03] \"\u001b[37mGET /logging HTTP/1.1\u001b[0m\" 200 -\n"
     ]
    }
   ],
   "source": [
    "from flask import Flask, render_template # render_template는 템플릿 파일을 렌더링할 떄 사용 \n",
    "\n",
    "app = Flask(__name__) #플라스크 객체 실행\n",
    "\n",
    "@app.route(\"/\") #라우팅 설정\n",
    "def main():\n",
    "    #return \"Welcome\"\n",
    "    return render_template('index0.html')\n",
    "\n",
    "@app.route(\"/logging\")\n",
    "def logging_test():\n",
    "    test = 1\n",
    "    app.logger.debug('디버깅 필요')\n",
    "    app.logger.warning(str(test) + \" 라인\")\n",
    "    app.logger.error('에러발생')\n",
    "    return \"로깅 \"\n",
    "\n",
    "if __name__ == \"__main__\":\n",
    "    app.run()"
   ]
  },
  {
   "cell_type": "code",
   "execution_count": null,
   "id": "893b3cc4",
   "metadata": {},
   "outputs": [],
   "source": [
    "# ex26\n",
    "# Session : 쿠키가 클라이언트에 저장되다보니 보안상 위험하다. 따라서, 서버에 데이터를 저장하는 방식인 세션이 많이 사용되는 추세다.\n",
    "\n",
    "# flask 모듈에 session 객체를 이용하여 세션을 설정한다.\n",
    "\n",
    "# Flask 세션 관련키\n",
    "# SECRET_KEY : 비밀키\n",
    "# SESSION_COOKIE_NAME : 세션 쿠키 이름, 기본값은 session\n",
    "# SESSION_COOKIE_DOMAIN : 세션 쿠키가 동작할 도메인 주소, 설정하지 않았을 경우 SERVER_NAME에 있는 도메인에서 동작\n",
    "# SESSION_COOKIE_PATH : 세션 쿠키가 동작할 URL 경로, 기본값은 /\n",
    "# SESSION_COOKIE_HTTPONLY : 웹어플리케이션이 HTTP 프로토콜로 동작할 때만 세션 쿠키를 웹어플리케이션에 전송\n",
    "#                                                   기본 설정값은 True\n",
    "# SESSION_COOKIE_SECURE : 웹어플리케이션이 HTTPS프로토콜로 동작할 때만 세션 쿠키를 웹어플리케이션에 전송\n",
    "#                                               기본 설정값은 False\n",
    "# PERMANENT_SESSION_LIFETIME : 세션의 유효시간을 지정한다. 기본값은 31일\n",
    "\n",
    "from flask import Flask, request, session\n",
    "\n",
    "app = Flask(__name__)\n",
    "\n",
    "app.secret_key = \"Kkk1234&\"\n",
    "\n",
    "@app.route(\"/session\")\n",
    "def session_set():\n",
    "    session['ID'] = \"Flask Test\"\n",
    "    return \"세션을 설정하였습니다\"\n",
    "\n",
    "@app.route(\"/session_out\")\n",
    "def session_out():\n",
    "    del session['ID']\n",
    "    return \"세션을 제거하였습니다.\"\n",
    "\n",
    "\n",
    "##app.config.update(\n",
    "##        SECRET_KEY ='jJJ1234'\n",
    "##        SESSION_COOKIE_NAME = \"\"\n",
    "##        PERMANENT_SESSION_LIFETIME = \"\"\n",
    "##    )\n",
    "\n",
    "if __name__ == \"__main__\":\n",
    "    app.run()"
   ]
  },
  {
   "cell_type": "code",
   "execution_count": null,
   "id": "2281bef7",
   "metadata": {},
   "outputs": [],
   "source": [
    "# ex27_add_url_rule 메소드 : route데코레이터 대신에 사용하는 메소드\n",
    "\n",
    "from flask import Flask\n",
    "\n",
    "app = Flask(__name__)\n",
    "\n",
    "def index():\n",
    "    return \"Hello, Flask !!!\"\n",
    "\n",
    "app.add_url_rule('/', 'index', index)\n",
    "\n",
    "##@app.route('/index')\n",
    "##def index():\n",
    "##    return \"Hello, Flask!!!\"\n",
    "\n",
    "if __name__ ==\"__main__\":\n",
    "    app.run()\n"
   ]
  },
  {
   "cell_type": "code",
   "execution_count": null,
   "id": "2b784426",
   "metadata": {},
   "outputs": [],
   "source": [
    "# ex28_make_response 메소드 : Response를 만들기위한 메소드\n",
    "\n",
    "from flask import Flask, session, request, redirect, make_response, url_for\n",
    "\n",
    "print(\" name :  \", __name__)\n",
    "\n",
    "app = Flask(__name__)\n",
    "\n",
    "app.secret_key ='Kimkim1234?'\n",
    "\n",
    "def index():\n",
    "    response = make_response(\"<h1>Hello, Flask!!!</h1>\")    \n",
    "    return response\n",
    "\n",
    "app.add_url_rule('/', 'index', index)\n",
    "\n",
    "@app.route('/login', methods = ['GET', 'POST'])\n",
    "def login():\n",
    "    if request.method == 'POST':\n",
    "        session['username'] = request.form['username']\n",
    "        return redirect(url_for('index'))\n",
    "    return '''\n",
    "                <h2>로그인</h2>\n",
    "                <form method = \"post\">\n",
    "                    <p><input type = text name = username></p>\n",
    "                    <p><input type = submit value = 로그인></p>\n",
    "                </form>\n",
    "                '''\n",
    "if __name__ ==\"__main__\":\n",
    "    app.run()\n"
   ]
  },
  {
   "cell_type": "code",
   "execution_count": null,
   "id": "6b44b98f",
   "metadata": {},
   "outputs": [],
   "source": [
    "# ex29_response를 json으로 만들기\n",
    "\n",
    "from flask import Flask, jsonify\n",
    "\n",
    "app = Flask(__name__)\n",
    "\n",
    "works = [\n",
    "    {'id' : 100,\n",
    "     'title': u'BuyGroceries',\n",
    "     'description':u'Milk, Cheese, Pizza, Fruit',\n",
    "     'done' : False\n",
    "     },\n",
    "    {\n",
    "        'id':200,\n",
    "        'title' : u'LearnFlask',\n",
    "        'description' : u'Web Programming',\n",
    "        'done' : False\n",
    "    }\n",
    "    ]\n",
    "@app.route('/json', methods = ['GET'])\n",
    "def get_works():\n",
    "    return jsonify(works)\n",
    "\n",
    "if __name__ == \"__main__\":\n",
    "    app.run()\n"
   ]
  },
  {
   "cell_type": "code",
   "execution_count": null,
   "id": "dc6c04c2",
   "metadata": {},
   "outputs": [],
   "source": [
    "# ex30_HTTP 요청 전후에 대한 핸들러\n",
    "\n",
    "# Flask에서는 HTTP 요청 전후에 사용할 수 있는 데코레이터를 제공하고 있다.\n",
    "\n",
    "# before_first_request : 웹프로그램이 실행된 이후 가장 처음에 들어오는 HTTP 요청에서만 실행\n",
    "# before_request : 매번 HTTP 요청(request)이 들어올 때마다 실행\n",
    "# after_request : 매번 HTTP 요청이 끝나고 브라우저에 응답하기전에 실행\n",
    "# teardown_request : HTTP 요청의 결과가 브라우저에 보내진 다음에 실행\n",
    "# teardown_appcontext : HTTP 요청이 완전히 완료되면 실행(애플리케이션 컨텍스트 내에서 실행)\n",
    "\n",
    "from flask import Flask\n",
    "\n",
    "app = Flask(__name__)\n",
    "\n",
    "@app.route(\"/\")\n",
    "def res():\n",
    "    return \"/\"\n",
    "\n",
    "@app.before_first_request\n",
    "def before_first_request():\n",
    "    print(\"앱이 실행되고 나서 첫번재 HTTP 요청에만 응답한다.\")\n",
    "\n",
    "@app.before_request\n",
    "def before_request():\n",
    "    print(\"매번 HTTP 요청이 처리되기전에 실행된다.\")\n",
    "\n",
    "@app.after_request\n",
    "def after_request(response):\n",
    "    print(\"매번 HTTP요청이 처리되고 나서 실행된다.\")\n",
    "    return response\n",
    "\n",
    "@app.teardown_request\n",
    "def teardown_request(exception):\n",
    "    print(\"매번 HTTP 요청의 결과가 브라우저에 보내진 다음에 호출된다\")\n",
    "\n",
    "@app.teardown_appcontext\n",
    "def teardown_appcontext(exception):\n",
    "    print(\"HTTP 요청의 애플리케이션 컨텍스트가 종료될 때 실행된다\")\n",
    "\n",
    "if __name__ == \"__main__\":\n",
    "    app.run()"
   ]
  },
  {
   "cell_type": "code",
   "execution_count": null,
   "id": "dabadda1",
   "metadata": {},
   "outputs": [],
   "source": [
    "# ex31_Flask context 전역변수\n",
    "\n",
    "\"\"\"\n",
    " [ request를 처리하기 위해 제공되는 객체 ]\n",
    "\n",
    "  - 어플리케이션 Context\n",
    "    1. current_app : 활성화된 어플리케이션의 인스턴스\n",
    "    2. g : request를 처리하는 동안 어플리케이션 임시 저장정보를 사용할 수 있는 객체(글로벌 객체)\n",
    "\n",
    "  - Request  Context\n",
    "    3. request :Client에 의해 송신된 HTTP request의 contents를 관리하는 객체\n",
    "    4. session : 사용자 session, 어플리케이션 request 사이의 정보를 저장에서 사용하는 dict타입 객체\n",
    "\n",
    "\"\"\"\n",
    "\n",
    "# g는 Flask 인스턴스 객체의 app_ctx_globals_class의 인스턴스 변수이다.\n",
    "# from flask import g\n",
    "\n",
    "from flask import Flask, render_template, current_app, g\n",
    "\n",
    "app = Flask(__name__)\n",
    "\n",
    "@app.route('/')\n",
    "def hello():\n",
    "    aa = dir(current_app)\n",
    "    return \"Hello Flask !!!! <br/>\"+\"<br/>\".join(aa)\n",
    "\n",
    "@app.route('/hi')\n",
    "def hi():\n",
    "    return \"Hi !!!!\"+g.test\n",
    "\n",
    "@app.before_request\n",
    "def before_request():\n",
    "    g.test = \"before_request\"\n",
    "    print(\"before request\")\n",
    "\n",
    "@app.teardown_request\n",
    "def teardown_request(exception):\n",
    "    print(app.app_context()) # app_context()메소드는 application context를 반환하는 메소드 \n",
    "    print('end request')\n",
    "\n",
    "if __name__ == \"__main__\":\n",
    "    app.run()\n"
   ]
  },
  {
   "cell_type": "code",
   "execution_count": null,
   "id": "fd103135",
   "metadata": {},
   "outputs": [],
   "source": [
    "# ex32\n",
    "from flask import Flask, request, render_template\n",
    "\n",
    "app = Flask(__name__)\n",
    "\n",
    "@app.route('/login', methods=['GET', 'POST'])\n",
    "def login():\n",
    "    #Get 방식으로 요청이 들어왔을 때\n",
    "    if request.method == 'GET':\n",
    "        return render_template('test_login.html')\n",
    "    else:\n",
    "        userEmail = request.form['email']\n",
    "        userPw = request.form['pw']\n",
    "        # 실전에서는 userEmail, userPw에 대한 유효성 검사가 필요하다. 여기서는 생략\n",
    "        return \" 이메일 : \" + userEmail + \" 비밀번호 : \" + str(userPw)\n",
    "\n",
    "if __name__ == \"__main__\":    \n",
    "    app.run()\n",
    "    \n"
   ]
  },
  {
   "cell_type": "code",
   "execution_count": null,
   "id": "d9553798",
   "metadata": {},
   "outputs": [],
   "source": [
    "# ex33_app.config.from_object 메소드를 이용한 sqlite config 설정하기\n",
    "\n",
    "from flask import *\n",
    "import sqlite3\n",
    "\n",
    "#sqlite 환경 설정\n",
    "\n",
    "DATABASE = 'my.db' # 여기에는 경로 설정이 가능하며 경로가 없을 경우에는 현재 실행되고 있는 어플리케이션의 위치에 생성\n",
    "SECERET_KEY = 'development key'\n",
    "USERNAME = 'root'\n",
    "PASSWORD = '1234'\n",
    "\n",
    "app = Flask(__name__)\n",
    "\n",
    "# sqlite 환경 설정값을 읽어 오기\n",
    "app.config.from_object(__name__)\n",
    "\n",
    "# Request Hooking(HTTP 요청 전후의 처리)\n",
    "# request 처리전에 데이터베이스 접속 및 테이블 생성이 필요하고,\n",
    "# request 처리 후에는 데이터베이스 접속을 종료해야한다.\n",
    "\n",
    "def connect_db():\n",
    "    return sqlite3.connect(app.config['DATABASE'])\n",
    "\n",
    "def createTable(g):\n",
    "    try:\n",
    "        sql = \"create table if not exists student(name text, count int)\"\n",
    "        g.db.execute( sql )\n",
    "        g.db.commit()        \n",
    "    except Exception as err:\n",
    "        print('error : ', err)\n",
    "\n",
    "\n",
    "@app.before_request\n",
    "def before_request():\n",
    "       g.db = connect_db()\n",
    "       createTable(g)\n",
    "       print(\"before request\")\n",
    "       \n",
    "@app.teardown_request\n",
    "def teardown_request(exception):\n",
    "    g.db.close()\n",
    "    print(\"end request\")\n",
    "\n",
    "@app.route('/stu_insert')\n",
    "def stu_insert():\n",
    "    return render_template('stu_form.html')\n",
    "\n",
    "@app.route('/ins', methods = [\"POST\"])\n",
    "def insertData():\n",
    "    result = \"insert success\"\n",
    "    if request.method == \"POST\" :\n",
    "        name = request.form[\"name\"]\n",
    "        age = request.form[\"age\"]\n",
    "        try:\n",
    "            sql = \"INSERT INTO student(name, count) VALUES(?, ?)\"\n",
    "            #data =(\"LeeLee\", 21)\n",
    "            data = (name, int(age))\n",
    "            g.db.execute( sql, data)\n",
    "            g.db.commit()\n",
    "        except Exception as err:\n",
    "            result = err\n",
    "    return result\n",
    "\n",
    "@app.route('/select')\n",
    "def select_stuData():\n",
    "    try:\n",
    "        sql = \"SELECT * FROM student\"\n",
    "        cur = g.db.execute(sql)\n",
    "        data = cur.fetchall() #이때 stuData는 list[tuple]\n",
    "        stuData = [dict(name = n, count = cnt) for n, cnt in data]        \n",
    "    except Exception as err:\n",
    "        print('error : ', err)\n",
    "\n",
    "    return render_template('view_stuData.html', stuData = stuData)     \n",
    "\n",
    "@app.route('/')\n",
    "def myTest():\n",
    "    return \"hello flask!!!!!\"    \n",
    "\n",
    "if __name__ == \"__main__\":\n",
    "    app.run()"
   ]
  },
  {
   "cell_type": "code",
   "execution_count": null,
   "id": "8d077bfa",
   "metadata": {},
   "outputs": [],
   "source": [
    "# ex34_메시지 플래싱(Message Flashing) - 플라스크에서 제공하는 플래싱 시스템 \n",
    "# 요청의 끝에 메시지를 기록하고 그 다음 요청에서만 그메시지를 접근할 수 있도록 하는 기능\n",
    "\n",
    "from flask import Flask, flash, redirect, render_template, request, url_for\n",
    "\n",
    "app = Flask(__name__)\n",
    "\n",
    "app.secret_key = 'some_secret'\n",
    "\n",
    "@app.route('/')\n",
    "def index():\n",
    "    return render_template('index.html')\n",
    "\n",
    "@app.route('/flash_login', methods=['GET', 'POST'])\n",
    "def flash_login():\n",
    "    error = None\n",
    "    if request.method == 'POST':\n",
    "        if request.form['username'] != 'admin' or request.form['password'] != 'secret':\n",
    "            error = 'login error'\n",
    "        else:\n",
    "            flash('로그인 성공')\n",
    "            return redirect(url_for('index'))\n",
    "    return render_template('flash_login.html', error = error)\n",
    "\n",
    "if __name__ ==\"__main__\":\n",
    "    app.run()"
   ]
  },
  {
   "cell_type": "code",
   "execution_count": null,
   "id": "aaaabeb2",
   "metadata": {},
   "outputs": [],
   "source": [
    "# ORM_데이터베이스 연동\n",
    "\n",
    "# 관계형 데이터베이스(RDBMS) : MySQL, Oracle, PostgreSQL\n",
    "# NoSQL : MongoDB, Cassandra, Redis..\n",
    "\n",
    "# ORM(Object-relational mapping) : SQL의 의존적인 코딩에서 벗어난 새로운 코딩 방법(유지보수가 편리)\n",
    "# ORM : iBatis, Hibernate, SQLAlchemy(Flask)\n",
    "\n",
    "# SQLAlchemy 설치 : pip install sqlalchemy(anaconda 배포판에서는 기본으로 설치 되어 있음)\n",
    "\n",
    "# SQLAlchemy 구성요소\n",
    "##   +------------------------------------------------------------------------------------+\n",
    "##    | SQLAlchemy ORM                                                                                   | \n",
    "##    | Object Relational Mapper(ORM)                                                            |     \n",
    "##   +------------------------------------------------------------------------------------+\n",
    "##   +------------------------------------------------------------------------------------+\n",
    "##    | SQLAlchemy Core                                                                                   |    \n",
    "##    |                                                                                                                 |  \n",
    "##    | Schema / Types    SQL Expression Language                  Engine             |\n",
    "##    |                                                                               Connection   Diallect |\n",
    "##    |                                                                                    Pooling                 |\n",
    "##   +------------------------------------------------------------------------------------+\n",
    "##                                                                                            DBAPI\n",
    "\n",
    "# SQLAlchemy ORM을 사용하기 위해서는 데이터베이스에 접속을 해야한다.\n",
    "# 데이터베이스에 접속하기 위한 함수는 create_engine() 이다.\n",
    "\n",
    "import sqlalchemy\n",
    "from sqlalchemy import create_engine\n",
    "from sqlalchemy.ext.declarative import declarative_base\n",
    "from sqlalchemy import Column, Integer, String\n",
    "# 세션 객체를 관리하기 위한 클래스와 세션 생성 클래스를 불러온다.\n",
    "from sqlalchemy.orm import scoped_session, sessionmaker \n",
    "\n",
    "engine = create_engine('sqlite:///:memory:', echo = True)\n",
    "\n",
    "db_session = scoped_session(sessionmaker(autocommit = False, autoflush = False, bind = engine))\n",
    "\n",
    "# app.teardown_appcontext\n",
    "# def shutdown_session(exception=None):\n",
    "#   db_session.remove()\n",
    "\n",
    "Base = declarative_base()\n",
    "\n",
    "\n",
    "# 데이터베이스 초기화 함수\n",
    "def init_db():\n",
    "    Base.metadata.create_all(bind=engine)\n",
    "\n",
    "class User(Base):\n",
    "    __tablename__ = 'users'\n",
    "\n",
    "    id = Column(Integer, primary_key=True)\n",
    "    name = Column(String(10))\n",
    "    email = Column(String(120), unique=True)\n",
    "\n",
    "    def __init__(self, name=None, email=None):\n",
    "        self.name = name\n",
    "        self.email = email\n",
    "\n",
    "    def __repr__(self):\n",
    "        return \"<User(id = '%d', name = '%s', email = '%s'>\" % (self.id, self.name, self.email)\n",
    "\n",
    "init_db()\n",
    "\n",
    "##u = User('test', 'test@test.com')\n",
    "##db_session.add(u) # 실제로 데이터베이스에 추가된 것이 아니라 pending 상태\n",
    "\n",
    "# 한번에 많은 객체를 추가할 경우 add_all메소드를 이용한다.\n",
    "db_session.add_all([\n",
    "    User(name = 'kim', email = 'kim@naver.com'),\n",
    "    User(name = 'lee', email = 'lee@naver.com'),\n",
    "    User(name = 'park', email = 'park@naver.com')\n",
    "    ])\n",
    "\n",
    "\n",
    "db_session.commit()\n",
    "\n",
    "##u = User()\n",
    "##u.name = 'test'\n",
    "##u.email = 'test@test.com'\n",
    "\n",
    "##db_session.commit()# db_session에 pending된 것들을 실제로 데이터베이스에 추가\n",
    "##db_session.rollback() # DB 변경사항을 취소\n",
    "\n",
    "# 데이터모델 검색하는 방법\n",
    "# query 속성에 있는 all, filter, filter_by 메소드를 이용하여 데이터베이스 질의를 한다.\n",
    "\n",
    "# 예 > session.query(User).filter(User.name =='test').first()\n",
    "\n",
    "# all : 질의 조건이 없이 데이터베이스에 있는 모든 레코드를 가져옴\n",
    "# filter : 질의 조건을 인자로 받아서 그 조건에 해당하는 레코드를 데이터모델 인스턴스로 반환\n",
    "#           질의 조건을 여러개를 사용할 수 있다. 콤마(,)를 이용하면 여러개의 조건을 만족하는 레코드를 얻을 수 있다.\n",
    "\n",
    "# filter 문법 : filter(<질의클래스.질의컬럼> <비교연산자> <비교값>)\n",
    "# filter는 비교연산자를 사용시 ==, !=, <=, >= 등의 연산자를 사용한다.\n",
    "\n",
    "# filter_by : 질의 조건을 사용하여 원하는 레코드를 얻을 수 있다.\n",
    "# filter_by는 질의 조건에서 == 대신에 = 를 사용한다. 하지만 !=, <=, >= 등은 사용할 수 없다.\n",
    "\n",
    "# 질의한 결과를 가져올 때 사용하는 메소드\n",
    "# first, all, one, limit, offset 메소드를 이용한다.\n",
    "\n",
    "# first : 질의 조건에 해당하는 레코드가 여러개가 있으면 최상위 레코드만 반환, 만일 조건에 해당하는\n",
    "#           레코드가 없으면 None반환,\n",
    "\n",
    "# one : 질의 조건에 해당하는 레코드가 없으면 예외(NoResultFound)를 발생시킨다.\n",
    "#           질의 조건에 해당하는 레코드가 여러 개인 경우에는 예외(MultipleResultsFound) 발생\n",
    "#           반드시 한건의 레코드가 추출되도록 할 때 사용한다.\n",
    "\n",
    "# limt : 레코드가 많을 때 몇 개를 가져올 것인지를 지정하는 메소드\n",
    "# offset : 레코드가 많을 때 어디서 부터 가져올 것인지를 지정하는 메소드 \n",
    "\n",
    "# User인스턴스를 로드(db_session.query(User)) 한후에 \n",
    "\n",
    "##u2 = User('kimkim', 'kim@naver.com')\n",
    "##db_session.add(u2)\n",
    "##db_session.commit()\n",
    "\n",
    "##testUser = db_session.query(User).filter(User.name =='kimkim').first()\n",
    "\n",
    "##testUser = db_session.query(User).filter_by(name = 'lee').first()\n",
    "\n",
    "\n",
    "\n",
    "u2 = User('test100', 'test100@naver.com')\n",
    "db_session.add(u2)\n",
    "db_session.commit()\n",
    "\n",
    "u3 = User('kim', 'kim2@naver.com')\n",
    "db_session.add(u3)\n",
    "db_session.commit()\n",
    "\n",
    "##db_session.delete(u2)\n",
    "##db_session.commit()\n",
    "##db_session.query(User).filter(User.name == 'kim').delete()\n",
    "##db_session.commit()\n",
    "\n",
    "testUser = db_session.query(User).all()\n",
    "print(testUser)\n",
    "\n",
    "## 쿼리 ##\n",
    "for instance in db_session.query(User).order_by(User.id):\n",
    "    print(instance.name, instance.email)\n",
    "\n",
    "for name, email in db_session.query(User.name, User.email):\n",
    "    print(name, email)\n",
    "\n",
    "\n",
    "for row in db_session.query(User, User.name).all():\n",
    "    print(row.User, row.name)\n",
    "    \n",
    "for row in db_session.query(User.name.label('name_label')).all():\n",
    "    print(row.name_label)\n",
    "\n",
    "for u in db_session.query(User).order_by(User.id)[0:3]:\n",
    "    print(u)\n",
    "\n",
    "for name, in db_session.query(User.name).filter_by(email = 'kim@naver.com'):\n",
    "    print(name)\n",
    "\n",
    "for name in db_session.query(User.name).filter(User.email =='lee@naver.com'):\n",
    "    print(name)\n",
    "\n",
    "for user in db_session.query(User).filter(User.name =='kim').filter(User.email =='kim2@naver.com'):\n",
    "    print(user)"
   ]
  },
  {
   "cell_type": "code",
   "execution_count": null,
   "id": "9e627a7f",
   "metadata": {},
   "outputs": [],
   "source": [
    "# ORM2 # 필터(filter) 연산자\n",
    "\n",
    "\"\"\"\n",
    " equals : ==\n",
    " not equals : !=\n",
    " LIKE(대소문자를 구분함)\n",
    " ILIKE(대소문자를 구분하지 않음)\n",
    " IN \n",
    " NOT IN\n",
    " IS NULL\n",
    " IS NOT NULL\n",
    " AND\n",
    "\"\"\"\n",
    "import sqlalchemy\n",
    "from sqlalchemy import create_engine\n",
    "from sqlalchemy import Column, Integer, String\n",
    "from sqlalchemy.ext.declarative import declarative_base\n",
    "from sqlalchemy.orm import sessionmaker\n",
    "\n",
    "engine = create_engine('sqlite:///:memory:', echo=True)\n",
    "Base = declarative_base()\n",
    "\n",
    "Session = sessionmaker(bind = engine)\n",
    "Session.configure(bind = engine)\n",
    "session = Session()\n",
    "\n",
    "def init_db():\n",
    "    Base.metadata.create_all(bind=engine)\n",
    "\n",
    "class User(Base):\n",
    "    __tablename__ ='users'\n",
    "\n",
    "    id = Column(Integer, primary_key = True)\n",
    "    name = Column(String(10))\n",
    "    full_name = Column(String(50))\n",
    "    password = Column(String(30))\n",
    "\n",
    "    def __init__(self, name, full_name, password):\n",
    "        self.name = name\n",
    "        self.full_name = full_name\n",
    "        self.password = password\n",
    "\n",
    "    def __repr__(self):\n",
    "        return \"<User('%s', '%s', '%s')>\" % (self.name, self.full_name, self.password)\n",
    "\n",
    "init_db()\n",
    "\n",
    "session.add_all([\n",
    "    User('kim', 'kim kil dong', 'test123'),\n",
    "    User('lee', 'lee kil dong', 'test333'),\n",
    "    User('hong', 'hong kil dong', 'test4444'),\n",
    "    User('kim', 'kim mal dong', 'test4443')\n",
    "    ])\n",
    "\n",
    "session.commit()\n",
    "\n",
    "for instance in session.query(User).order_by(User.id):\n",
    "    print(instance.name, instance.full_name)\n",
    "\n",
    "for name in session.query(User.name).filter(User.name != 'kim'):\n",
    "    print(name)\n",
    "\n",
    "for name in session.query(User.full_name).filter(User.full_name.like('%k%')):\n",
    "    print(name)\n",
    "\n",
    "\n",
    "ss = session.query(User).filter(User.name.in_(['kim', 'park'])).all()\n",
    "print(ss)\n",
    "\n",
    "for user in session.query(User).filter(User.name =='kim').filter(User.full_name == 'kim mal dong'):\n",
    "    print(user)\n",
    "    \n",
    "from sqlalchemy import and_\n",
    "for user in session.query(User).filter(and_(User.name == 'kim', User.full_name =='kim kil dong')):\n",
    "    print(user)\n",
    "\n",
    "\n",
    "\n",
    "    \n"
   ]
  },
  {
   "cell_type": "code",
   "execution_count": null,
   "id": "8af963d6",
   "metadata": {},
   "outputs": [],
   "source": [
    "# run_stu\n",
    "\n",
    "from database import init_db\n",
    "from database import db_session\n",
    "from model import Students\n",
    "\n",
    "def show_table():\n",
    "    queries = db_session.query(Students)\n",
    "    entries = [dict(id = q.id, name = q.name, gender = q.gender, age = q.age) for q in queries ]\n",
    "    print(entries)\n",
    "\n",
    "def add_entry(name, gender, age):\n",
    "    student = Students(name, gender, age)\n",
    "    db_session.add(student)\n",
    "    db_session.commit()\n",
    "\n",
    "def query_entry(name):\n",
    "    for student in db_session.query(Students.gender).filter_by(name = name):\n",
    "        print(student)\n",
    "\n",
    "def delete_entry(name, gender):\n",
    "    db_session.query(Students).filter(Students.name == name, Students.gender == gender).delete()\n",
    "    db_session.commit()\n",
    "\n",
    "def main():\n",
    "    init_db()\n",
    "    add_entry(\"홍길동\", \"남\", 22)\n",
    "    add_entry(\"고길동\", \"남\", 20)\n",
    "    add_entry(\"홍길동\", \"여\", 19)\n",
    "    add_entry(\"홍길순\", \"여\", 18)\n",
    "    show_table()\n",
    "    query_entry(\"고길동\")\n",
    "    delete_entry(\"홍길동\", \"여\")\n",
    "    show_table()\n",
    "    db_session.commit()\n",
    "\n",
    "if __name__ == \"__main__\":\n",
    "    main()\n"
   ]
  },
  {
   "cell_type": "code",
   "execution_count": null,
   "id": "b63b1c53",
   "metadata": {},
   "outputs": [],
   "source": [
    "# students\n",
    "from sqlalchemy import Column, Integer, String\n",
    "from database import Base\n",
    "\n",
    "class Students(Base):\n",
    "    __tablename__ = 'students'\n",
    "    id = Column(Integer, primary_key = True)\n",
    "    name = Column(String(30))\n",
    "    gender = Column(String(10))\n",
    "    age = Column(Integer)\n",
    "\n",
    "    def __init__(self, name, gender, age):\n",
    "        self.name = name\n",
    "        self.gender = gender\n",
    "        self.age = age\n",
    "\n",
    "    def __repr__(self):\n",
    "        return \"<Students('%d', '%s', '%s', '%d'>\" %(self.id, self.name, self.gender,self.email)\n",
    "    \n"
   ]
  },
  {
   "cell_type": "code",
   "execution_count": null,
   "id": "fa6c9f29",
   "metadata": {},
   "outputs": [],
   "source": [
    "# model\n",
    "from sqlalchemy import Column, Integer, String\n",
    "from database import Base\n",
    "\n",
    "class Students(Base):\n",
    "    __tablename__ = 'students'\n",
    "    id = Column(Integer, primary_key = True)\n",
    "    name = Column(String(30))\n",
    "    gender = Column(String(10))\n",
    "    age = Column(Integer)\n",
    "\n",
    "    def __init__(self, name, gender, age):\n",
    "        self.name = name\n",
    "        self.gender = gender\n",
    "        self.age = age\n",
    "\n",
    "    def __repr__(self):\n",
    "        return \"<Students('%d', '%s', '%s', '%d'>\" %(self.id, self.name, self.gender,self.email)\n",
    "    \n"
   ]
  },
  {
   "cell_type": "code",
   "execution_count": null,
   "id": "9b3820ac",
   "metadata": {},
   "outputs": [],
   "source": [
    "# models\n",
    "from sqlalchemy import Column, Integer, String\n",
    "from db import Base\n",
    "\n",
    "class TbTest(Base):\n",
    "  __tablename__ = 'tbTable'\n",
    "  id = Column(Integer, primary_key=True)\n",
    "  name = Column(String(30))\n",
    "  email = Column(String(50))\n",
    "  \n",
    "  def __init__(self, name, email):\n",
    "    self.name = name\n",
    "    self.email = email\n",
    "    \n",
    "  def __repr__(self):\n",
    "    return \"<TbTest('%d', '%s', '%s'>\" %(self.id, self.name, self.email)\n"
   ]
  },
  {
   "cell_type": "code",
   "execution_count": null,
   "id": "babb6ff6",
   "metadata": {},
   "outputs": [],
   "source": [
    "# main\n",
    "\n",
    "from db import init_db\n",
    "from db import db_session\n",
    "from models import TbTest\n",
    "\n",
    "def show_tables():\n",
    "  queries = db_session.query(TbTest)\n",
    "  entries = [dict(id=q.id, name=q.name, string=q.email) for q in queries]\n",
    "  print (entires)\n",
    "  \n",
    "def add_entry(name, email):\n",
    "  t = TbTest(name, email)\n",
    "  db_session.add(t)\n",
    "  db_session.commit()\n",
    "\n",
    "def query_entry(name):\n",
    "    for e in db_session.query(TbTest.name).filter_by(name = name):\n",
    "        print(e)\n",
    "def query_entry_all():\n",
    "    u = db_session.query(TbTest.email).all()\n",
    "    print(u)\n",
    "  \n",
    "def delete_entry(name, email):\n",
    "  db_session.query(TbTest).filter(TbTest.name == name, TbTest.email==email).delete()\n",
    "  db_session.commit()\n",
    "  \n",
    "def main():\n",
    "  init_db()  \n",
    "  add_entry(\"김말똥\", \"test@naver.com\")\n",
    "  add_entry(\"test2\", \"test2@naver.com\")\n",
    "  query_entry(\"김말똥\")\n",
    "  delete_entry(\"test\", \"test@naver.com\")\n",
    "  query_entry_all()\n",
    "  db_session.close()\n",
    "  \n",
    "if __name__ == \"__main__\" :\n",
    "  main()\n"
   ]
  },
  {
   "cell_type": "code",
   "execution_count": null,
   "id": "9a19c7a7",
   "metadata": {},
   "outputs": [],
   "source": [
    "# database\n",
    "\n",
    "from sqlalchemy import create_engine\n",
    "from sqlalchemy.orm import sessionmaker, scoped_session\n",
    "from sqlalchemy.ext.declarative import declarative_base\n",
    "\n",
    "engine  = create_engine('sqlite:///:memory:', echo=True)\n",
    "session_factory = sessionmaker(autocommit = False, autoflush = False, bind = engine)\n",
    "db_session = scoped_session(session_factory)\n",
    "\n",
    "Base = declarative_base()\n",
    "\n",
    "def init_db():\n",
    "    import model\n",
    "    Base.metadata.create_all(engine)\n"
   ]
  },
  {
   "cell_type": "code",
   "execution_count": null,
   "id": "059bca83",
   "metadata": {},
   "outputs": [],
   "source": [
    "#db\n",
    "\n",
    "from sqlalchemy import create_engine\n",
    "from sqlalchemy.orm import scoped_session, sessionmaker\n",
    "from sqlalchemy.ext.declarative import declarative_base\n",
    "\n",
    "engine = create_engine('sqlite:///:memory:', echo=True)\n",
    "db_session = scoped_session(sessionmaker(autocommit=False, autoflush=False, bind=engine))\n",
    "\n",
    "Base = declarative_base()\n",
    "Base.query = db_session.query_property()\n",
    "\n",
    "def init_db():\n",
    "  import models\n",
    "  Base.metadata.create_all(engine)\n"
   ]
  }
 ],
 "metadata": {
  "kernelspec": {
   "display_name": "Python 3",
   "language": "python",
   "name": "python3"
  },
  "language_info": {
   "codemirror_mode": {
    "name": "ipython",
    "version": 3
   },
   "file_extension": ".py",
   "mimetype": "text/x-python",
   "name": "python",
   "nbconvert_exporter": "python",
   "pygments_lexer": "ipython3",
   "version": "3.8.8"
  }
 },
 "nbformat": 4,
 "nbformat_minor": 5
}
