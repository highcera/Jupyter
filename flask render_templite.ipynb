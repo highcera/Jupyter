{
 "cells": [
  {
   "cell_type": "code",
   "execution_count": 1,
   "id": "e4068089",
   "metadata": {},
   "outputs": [
    {
     "data": {
      "text/html": [
       "<style>.container{width:90%!important;}</style>"
      ],
      "text/plain": [
       "<IPython.core.display.HTML object>"
      ]
     },
     "metadata": {},
     "output_type": "display_data"
    }
   ],
   "source": [
    "from IPython.core.display import display, HTML\n",
    "display(HTML(\"<style>.container{width:90%!important;}</style>\"))"
   ]
  },
  {
   "cell_type": "code",
   "execution_count": 34,
   "id": "ed6c9cf0",
   "metadata": {},
   "outputs": [
    {
     "name": "stdout",
     "output_type": "stream",
     "text": [
      "Writing templates/nav.html\n"
     ]
    }
   ],
   "source": [
    "%%writefile templates/nav.html\n",
    "\n",
    "    <nav class=\"navbar navbar-inverse\" role=\"navigation\">\n",
    "        <div class=\"container-fluid\">\n",
    "            <div class = \"navbar-header\">                \n",
    "                <a class=\"navbar-brand\" href=\"/\">Logo!</a>\n",
    "            </div>\n",
    "        </div>\n",
    "        <div class = \"collapse navbar-collapse\" >\n",
    "            <ul class=\"nav navbar-nav\">\n",
    "                <li class=\"active\"><a href=\"#\">메뉴1</a></li>\n",
    "                <li><a href=\"#\">메뉴2</a></li>\n",
    "                <li><a href=\"#\">메뉴3</a></li>\n",
    "                <li><a href=\"#\">메뉴4</a></li>                \n",
    "            </ul>\n",
    "            <form class = \"navbar-form navbar-left\" role=\"search\">\n",
    "                <div class=\"form-group\">\n",
    "                    <input type=\"text\" class=\"form-control\" placeholder=\"검색하기\">\n",
    "                </div>\n",
    "                <button type=\"submit\" class = \"btn btn-default\">확인</button>\n",
    "            </form>\n",
    "            <ul class = \"nav navbar-nav navbar-right\">\n",
    "                <li><a href=\"#\">회원가입</a></li>\n",
    "                <li class = \"dropdown\">\n",
    "                    <a href=\"#\" class=\"dropdown-toggle\" data-toggle=\"dropdown\">사용자<b class=\"caret\"></b></a>\n",
    "                    <ul class=\"dropdown-menu\">\n",
    "                        <li><a href=\"#\">나의 프로필</a></li>\n",
    "                        <li><a href=\"#\">주문내역</a></li>\n",
    "                        <li class = \"divider\"></li>\n",
    "                        <li><a href = \"#\">로그인</a></li>\n",
    "                    </ul>\n",
    "                </li>\n",
    "            </ul>\n",
    "        </div>\n",
    "    </nav>\n"
   ]
  },
  {
   "cell_type": "code",
   "execution_count": 35,
   "id": "d31ae213",
   "metadata": {},
   "outputs": [
    {
     "name": "stdout",
     "output_type": "stream",
     "text": [
      "Overwriting templates/lay0.html\n"
     ]
    }
   ],
   "source": [
    "%%writefile templates/lay0.html\n",
    "<!DOCTYPE html>\n",
    "    <head>\n",
    "        <title>Flask Template Example</title>\n",
    "        <meta name=\"veiwport\" content = \"width=device-width, initial-scale=1.0\">\n",
    "        <link href=\"http://netdna.bootstrapcdn.com/bootstrap/3.0.0/css/bootstrap.min.css\" rel = \"stylesheet\" media=\"screen\">\n",
    "    </head>\n",
    "        <style type=\"text/css\">\n",
    "            h3 {color:blue}\n",
    "            h4 {color:red}\n",
    "            .h {color:green}\n",
    "        </style>\n",
    "    <body>\n",
    "    {% include 'nav.html' %}\n",
    "    {% block heading %}\n",
    "        <h1>{% block page %}{%endblock page%} - Jinja2 사용하기 </h1>\n",
    "    {% endblock heading %}\n",
    "        <div class = 'wrap'>\n",
    "            <h3>기본  템플릿 영역 </h3>\n",
    "            <br/>\n",
    "            {% block content %}{% endblock %}\n",
    "            <br/>\n",
    "            <h3>기본 템플릿 영역 </h3>\n",
    "            <br/>\n",
    "            <div class = \b\"footer\">\n",
    "                {% block footer %}\n",
    "                    <h2 class=\"h\">추가된 footer  영역</h2>\n",
    "                {% endblock footer%}\n",
    "            </div>\n",
    "        </div>\n",
    "        <script src=\"http://code.jquery.com/jquery-1.10.2.min.js\"></script>\n",
    "        <script src = \"http://netdna.bootstrapcdn.com/bootstrap/3.0.0/js/bootstrap.min.js\"></script>\n",
    "    </body>\n",
    "</html>\n"
   ]
  },
  {
   "cell_type": "code",
   "execution_count": 36,
   "id": "e9b44ebf",
   "metadata": {},
   "outputs": [
    {
     "name": "stdout",
     "output_type": "stream",
     "text": [
      "Overwriting templates/super.html\n"
     ]
    }
   ],
   "source": [
    "%%writefile templates/super.html\n",
    "{% extends \"lay0.html\" %}\n",
    "{% block page%} Home {% endblock page%}\n",
    "{% block heading%}\n",
    "    {{ super() }}\n",
    "{% endblock heading%}\n",
    "{% block content %}\n",
    "    <h4>자식 템플릿의 시작</h4>\n",
    "    <br/>\n",
    "    <p>My String : {{my_string}}</p>\n",
    "    <p>리스트 값 : {{my_list[2]}}</p>\n",
    "    <p>전체 리스트</p>\n",
    "    <ul>\n",
    "        {% for n in my_list%}\n",
    "        <li>{{n}}</li>\n",
    "        {% endfor%}\n",
    "    </ul>\n",
    "    <h4>자식 템플릿의 끝</h4>\n",
    "    {% block footer %}\n",
    "        {{ super() }}\n",
    "    {% endblock footer %}\n",
    "{% endblock content%}"
   ]
  },
  {
   "cell_type": "code",
   "execution_count": 37,
   "id": "e30c2123",
   "metadata": {},
   "outputs": [
    {
     "name": "stdout",
     "output_type": "stream",
     "text": [
      "Overwriting app.py\n"
     ]
    }
   ],
   "source": [
    "%%writefile app.py\n",
    "from flask import Flask, render_template\n",
    "\n",
    "app = Flask(__name__)\n",
    "\n",
    "@app.route('/')\n",
    "def temp_test():\n",
    "    return render_template('super.html', my_string=\"템플릿 테스트\", my_list=[11,22,33,44,55,66,77])\n",
    "\n",
    "\n",
    "if __name__ == '__main__':\n",
    "    app.run(host='localhost', port=5001, debug=True)"
   ]
  },
  {
   "cell_type": "code",
   "execution_count": 38,
   "id": "aff51f7b",
   "metadata": {
    "scrolled": false
   },
   "outputs": [
    {
     "name": "stdout",
     "output_type": "stream",
     "text": [
      "^C\n"
     ]
    }
   ],
   "source": [
    "!python app.py"
   ]
  },
  {
   "cell_type": "code",
   "execution_count": null,
   "id": "09d1e94b",
   "metadata": {},
   "outputs": [],
   "source": []
  },
  {
   "cell_type": "code",
   "execution_count": 42,
   "id": "48895ec8",
   "metadata": {},
   "outputs": [
    {
     "name": "stdout",
     "output_type": "stream",
     "text": [
      "Writing templates/macro2.html\n"
     ]
    }
   ],
   "source": [
    "%%writefile templates/macro2.html\n",
    "\n",
    "\n",
    "{% macro nav_link(endpoint, name) %}\n",
    "{% if request.endpoint.endswith(endpoint) %}\n",
    "    <li class = \"active\"><a href = \"{{ url_for( endpoint )}}\">{{ name }} </a></li>\n",
    "{% else %}\n",
    "    <li><a href=\"{{ url_for(endpoint) }} \"> {{ name }}</a></li>\n",
    "{% endif%}\n",
    "{% endmacro%}"
   ]
  },
  {
   "cell_type": "code",
   "execution_count": 43,
   "id": "2c0c6d31",
   "metadata": {},
   "outputs": [
    {
     "name": "stdout",
     "output_type": "stream",
     "text": [
      "Overwriting templates/layout2.html\n"
     ]
    }
   ],
   "source": [
    "%%writefile templates/layout2.html\n",
    "<!DOCTYPE html>\n",
    "    <head>\n",
    "        <title>{{ title }}</title>\n",
    "        <meta name = \"viewport\" content = \"width=device-width, initial-scale=1.0\">\n",
    "        <link href=\"http://netdna.bootstrapcdn.com/bootstrap/3.0.0/css/bootstrap.min.css\" rel=\"stylesheet\" media=\"screen\">\n",
    "        <style type=\"text/css\">\n",
    "        </style>\n",
    "    </head>\n",
    "    <body>\n",
    "        <nav class=\"navbar navbar-inverse\" role=navigation\">\n",
    "            <div class = \"container-fluid\">\n",
    "                <div class = \"navbar-header\">\n",
    "                    <a class=\"navbar-brand\" href=\"/\">LOGO!!</a>\n",
    "                </div>\n",
    "            </div>\n",
    "            <div class = \"collapse navbar-collapse\">\n",
    "                <ul class = \"nav navbar-nav\">\n",
    "<!--\n",
    "                    <li class = \"active\"><a href=\"/\">Home</a></li>\n",
    "                    <li><a href=\"#\">About</a></li>\n",
    "                    <li><a href=\"#\">Contact Us</a></li>                    -->\n",
    "                    \n",
    "                    {% from \"macro2.html\" import nav_link %}\n",
    "                    {{ nav_link( 'home', 'Home') }}\n",
    "                    {{ nav_link( 'about', 'About') }}\n",
    "                    {{ nav_link( 'contact', 'Contact Us' ) }}\n",
    "                    \n",
    "                </ul>\n",
    "                <form class = \"navbar-form navbar-left\" role = \"search\">\n",
    "                    <div class = \"form-group\">\n",
    "                        <input type = \"text\" class = \"form-control\" placeholder = \"검색하기\">\n",
    "                    </div>\n",
    "                    <button type = \"submit\" class = \"btn btn-default\">확인</button>\n",
    "                </form>\n",
    "            </div>\n",
    "        </nav>\n",
    "        <div>\n",
    "            <h2>신사2(jinja2) 템플릿 엔진 </h2>\n",
    "            <p>{{ mybody }}</p>\n",
    "        </div>\n",
    "    </body>\n",
    "</html>\n"
   ]
  },
  {
   "cell_type": "code",
   "execution_count": 44,
   "id": "61e71492",
   "metadata": {},
   "outputs": [
    {
     "name": "stdout",
     "output_type": "stream",
     "text": [
      "Overwriting app.py\n"
     ]
    }
   ],
   "source": [
    "%%writefile app.py\n",
    "from flask import Flask, render_template\n",
    "\n",
    "app = Flask(__name__)\n",
    "\n",
    "@app.route('/')\n",
    "def test_app():\n",
    "    return render_template('layout2.html', title='Test', mybody = '테스트 페이지')\n",
    "\n",
    "@app.route('/home')\n",
    "def home():\n",
    "    return render_template('layout2.html', title='Home', mybody=\"메인 페이지\")\n",
    "\n",
    "@app.route('/about')\n",
    "def about():\n",
    "    return render_template('layout2.html', title=\"About\", mybody=\"회사 소개페이지\")\n",
    "\n",
    "@app.route('/contact')\n",
    "def contact():\n",
    "    return render_template('layout2.html', title=\"Contact Us\", mybody = \"문의 페이지\")\n",
    "\n",
    "\n",
    "if __name__ == '__main__':\n",
    "    app.run(host='localhost', port=5001, debug=True)"
   ]
  },
  {
   "cell_type": "code",
   "execution_count": 45,
   "id": "e6a4bbc3",
   "metadata": {},
   "outputs": [
    {
     "name": "stdout",
     "output_type": "stream",
     "text": [
      "^C\n"
     ]
    }
   ],
   "source": [
    "!python app.py"
   ]
  },
  {
   "cell_type": "code",
   "execution_count": 1,
   "id": "49aa7332",
   "metadata": {},
   "outputs": [
    {
     "name": "stdout",
     "output_type": "stream",
     "text": [
      "C:\\Users\\Administrator\n"
     ]
    }
   ],
   "source": [
    "import os\n",
    "\n",
    "print(os.getcwd())"
   ]
  },
  {
   "cell_type": "code",
   "execution_count": 7,
   "id": "01a76660",
   "metadata": {},
   "outputs": [],
   "source": [
    "# https://foxtrotin.tistory.com/269\n",
    "\n",
    "from flask_sqlalchemy import SQLAlchemy\n",
    "\n",
    "db = SQLAlchemy() #SQLAlchemy를 사용해 데이터베이스 저장\n",
    "\n",
    "class User(db.Model): #데이터 모델을 나타내는 객체 선언\n",
    "    __tablename__ = 'user_table' #테이블 이름\n",
    "    \n",
    "    id = db.Column(db.Integer, primary_key=True)\n",
    "    email = db.Column(db.String(32), unique=True, nullable=False)\n",
    "    userid = db.Column(db.String(32), unique=True, nullable=False)\n",
    "    password = db.Column(db.String(8), nullable=False)\n",
    "\n",
    "    def __init__(self, email, password):\n",
    "        self.email = email\n",
    "        self.set_password(password)\n",
    "    \n",
    "    def set_password(self, password):\n",
    "        self.password = generate_password_hash(password)\n",
    " \n",
    "    def check_password(self, password):\n",
    "        return check_password_hash(self.password, password)"
   ]
  },
  {
   "cell_type": "code",
   "execution_count": 5,
   "id": "c6c1968b",
   "metadata": {
    "scrolled": true
   },
   "outputs": [
    {
     "ename": "ModuleNotFoundError",
     "evalue": "No module named 'Models'",
     "output_type": "error",
     "traceback": [
      "\u001b[1;31m---------------------------------------------------------------------------\u001b[0m",
      "\u001b[1;31mModuleNotFoundError\u001b[0m                       Traceback (most recent call last)",
      "\u001b[1;32m<ipython-input-5-1dd588931f71>\u001b[0m in \u001b[0;36m<module>\u001b[1;34m\u001b[0m\n\u001b[0;32m      2\u001b[0m \u001b[1;32mfrom\u001b[0m \u001b[0mflask\u001b[0m \u001b[1;32mimport\u001b[0m \u001b[0mFlask\u001b[0m\u001b[1;33m,\u001b[0m \u001b[0mrender_template\u001b[0m\u001b[1;33m,\u001b[0m \u001b[0mrequest\u001b[0m\u001b[1;33m,\u001b[0m \u001b[0mredirect\u001b[0m\u001b[1;33m\u001b[0m\u001b[1;33m\u001b[0m\u001b[0m\n\u001b[0;32m      3\u001b[0m \u001b[1;32mfrom\u001b[0m \u001b[0mflask_sqlalchemy\u001b[0m \u001b[1;32mimport\u001b[0m \u001b[0mSQLAlchemy\u001b[0m\u001b[1;33m\u001b[0m\u001b[1;33m\u001b[0m\u001b[0m\n\u001b[1;32m----> 4\u001b[1;33m \u001b[1;32mfrom\u001b[0m \u001b[0mModels\u001b[0m \u001b[1;32mimport\u001b[0m \u001b[0mdb\u001b[0m\u001b[1;33m\u001b[0m\u001b[1;33m\u001b[0m\u001b[0m\n\u001b[0m\u001b[0;32m      5\u001b[0m \u001b[1;32mfrom\u001b[0m \u001b[0mModels\u001b[0m \u001b[1;32mimport\u001b[0m \u001b[0mUser\u001b[0m\u001b[1;33m\u001b[0m\u001b[1;33m\u001b[0m\u001b[0m\n\u001b[0;32m      6\u001b[0m \u001b[0mapp\u001b[0m \u001b[1;33m=\u001b[0m \u001b[0mFlask\u001b[0m\u001b[1;33m(\u001b[0m\u001b[0m__name__\u001b[0m\u001b[1;33m)\u001b[0m\u001b[1;33m\u001b[0m\u001b[1;33m\u001b[0m\u001b[0m\n",
      "\u001b[1;31mModuleNotFoundError\u001b[0m: No module named 'Models'"
     ]
    }
   ],
   "source": [
    "# https://foxtrotin.tistory.com/269\n",
    "\n",
    "import os #디렉토리 절대 경로\n",
    "from flask import Flask, render_template, request, redirect\n",
    "from flask_sqlalchemy import SQLAlchemy\n",
    "from Models import db\n",
    "from Models import User\n",
    "app = Flask(__name__)\n",
    "\n",
    "@app.route('/')\n",
    "def hello():\n",
    "\treturn 'Hello World!'\n",
    "\n",
    "@app.route('/register', methods=['GET','POST']) #GET(정보보기), POST(정보수정) 메서드 허용\n",
    "def register():\n",
    "    if request.method == 'GET':\n",
    "        return render_template(\"register.html\")\n",
    "    else:\n",
    "        userid = request.form.get('userid')\n",
    "        email = request.form.get('email')\n",
    "        password = request.form.get('password')\n",
    "        password_2 = request.form.get('password')\n",
    "\n",
    "        if not(userid and email and password and password_2):\n",
    "            return \"입력되지 않은 정보가 있습니다\"\n",
    "        elif password != password_2:\n",
    "            return \"비밀번호가 일치하지 않습니다\"\n",
    "        else:\n",
    "            usertable=User() #user_table 클래스\n",
    "            usertable.userid = userid\n",
    "            usertable.email = email\n",
    "            usertable.password = password\n",
    "            \n",
    "            db.session.add(usertable)\n",
    "            db.session.commit()\n",
    "            return \"회원가입 성공\"\n",
    "        return redirect('/')\n",
    "\n",
    "if __name__ == \"__main__\":\n",
    "    #데이터베이스---------\n",
    "    basedir = os.path.abspath(os.path.dirname(__file__)) #현재 파일이 있는 디렉토리 절대 경로\n",
    "    dbfile = os.path.join(basedir, 'db.sqlite') #데이터베이스 파일을 만든다\n",
    "\n",
    "    app.config['SQLALCHEMY_DATABASE_URI'] = 'sqlite:///' + dbfile\n",
    "    app.config['SQLALCHEMY_COMMIT_ON_TEARDOWN'] = True #사용자에게 정보 전달완료하면 teadown. 그 때마다 커밋=DB반영\n",
    "    app.config['SQLALCHEMY_TRACK_MODIFICATIONS'] = False #추가 메모리를 사용하므로 꺼둔다\n",
    "\n",
    "#    db = SQLAlchemy() #SQLAlchemy를 사용해 데이터베이스 저장\n",
    "    db.init_app(app) #app설정값 초기화\n",
    "    db.app = app #Models.py에서 db를 가져와서 db.app에 app을 명시적으로 넣는다\n",
    "    db.create_all() #DB생성\n",
    "\n",
    "    app.run(host=\"127.0.0.1\", port=5000, debug=True)"
   ]
  },
  {
   "cell_type": "code",
   "execution_count": null,
   "id": "46944aa6",
   "metadata": {
    "scrolled": true
   },
   "outputs": [],
   "source": []
  },
  {
   "cell_type": "code",
   "execution_count": 8,
   "id": "938805cd",
   "metadata": {},
   "outputs": [
    {
     "name": "stdout",
     "output_type": "stream",
     "text": [
      "Note: you may need to restart the kernel to use updated packages.\n"
     ]
    },
    {
     "name": "stderr",
     "output_type": "stream",
     "text": [
      "    ERROR: Command errored out with exit status 1:\n",
      "     command: 'C:\\Users\\Administrator\\anaconda3\\python.exe' -c 'import sys, setuptools, tokenize; sys.argv[0] = '\"'\"'C:\\\\Users\\\\Administrator\\\\AppData\\\\Local\\\\Temp\\\\pip-install-lcsgwvge\\\\models_1efbf2f81eb4482d83ddb36fd3852338\\\\setup.py'\"'\"'; __file__='\"'\"'C:\\\\Users\\\\Administrator\\\\AppData\\\\Local\\\\Temp\\\\pip-install-lcsgwvge\\\\models_1efbf2f81eb4482d83ddb36fd3852338\\\\setup.py'\"'\"';f=getattr(tokenize, '\"'\"'open'\"'\"', open)(__file__);code=f.read().replace('\"'\"'\\r\\n'\"'\"', '\"'\"'\\n'\"'\"');f.close();exec(compile(code, __file__, '\"'\"'exec'\"'\"'))' egg_info --egg-base 'C:\\Users\\Administrator\\AppData\\Local\\Temp\\pip-pip-egg-info-rnqketbv'\n"
     ]
    },
    {
     "name": "stdout",
     "output_type": "stream",
     "text": [
      "Collecting Models\n",
      "  Using cached models-0.9.3.tar.gz (16 kB)\n",
      "  Using cached models-0.9.2.tar.gz (16 kB)\n",
      "  Using cached models-0.9.1.tar.gz (16 kB)\n",
      "  Using cached models-0.9.0.tar.gz (14 kB)\n",
      "  Using cached models-0.8.0.tar.gz (14 kB)\n",
      "  Using cached models-0.7.0.tar.gz (14 kB)\n",
      "  Using cached models-0.4.0.tar.gz (11 kB)\n",
      "  Using cached models-0.3.0.tar.gz (11 kB)\n",
      "  Using cached models-0.2.0.tar.gz (11 kB)\n",
      "  Using cached models-0.1.1.tar.gz (11 kB)\n",
      "  Using cached models-0.1.0.tar.gz (11 kB)\n",
      "  Using cached models-0.0.5.tar.gz (6.4 kB)\n",
      "  Using cached models-0.0.4.tar.gz (6.1 kB)\n",
      "  Using cached models-0.0.3.tar.gz (6.2 kB)\n"
     ]
    },
    {
     "name": "stderr",
     "output_type": "stream",
     "text": [
      "         cwd: C:\\Users\\Administrator\\AppData\\Local\\Temp\\pip-install-lcsgwvge\\models_1efbf2f81eb4482d83ddb36fd3852338\\\n",
      "    Complete output (7 lines):\n",
      "    Traceback (most recent call last):\n",
      "      File \"<string>\", line 1, in <module>\n",
      "      File \"C:\\Users\\Administrator\\AppData\\Local\\Temp\\pip-install-lcsgwvge\\models_1efbf2f81eb4482d83ddb36fd3852338\\setup.py\", line 25, in <module>\n",
      "        import models\n",
      "      File \"C:\\Users\\Administrator\\AppData\\Local\\Temp\\pip-install-lcsgwvge\\models_1efbf2f81eb4482d83ddb36fd3852338\\models\\__init__.py\", line 23, in <module>\n",
      "        from base import *\n",
      "    ModuleNotFoundError: No module named 'base'\n",
      "    ----------------------------------------\n",
      "WARNING: Discarding https://files.pythonhosted.org/packages/92/3c/ac1ddde60c02b5a46993bd3c6f4c66a9dbc100059da8333178ce17a22db5/models-0.9.3.tar.gz#sha256=b5aa29c6b57a667cda667dd9fbd33bbd15c14cc285e57dda64f4f4c0fd35e0ae (from https://pypi.org/simple/models/). Command errored out with exit status 1: python setup.py egg_info Check the logs for full command output.\n",
      "    ERROR: Command errored out with exit status 1:\n",
      "     command: 'C:\\Users\\Administrator\\anaconda3\\python.exe' -c 'import sys, setuptools, tokenize; sys.argv[0] = '\"'\"'C:\\\\Users\\\\Administrator\\\\AppData\\\\Local\\\\Temp\\\\pip-install-lcsgwvge\\\\models_646d8e11a8bb42cca2ab52f85da78231\\\\setup.py'\"'\"'; __file__='\"'\"'C:\\\\Users\\\\Administrator\\\\AppData\\\\Local\\\\Temp\\\\pip-install-lcsgwvge\\\\models_646d8e11a8bb42cca2ab52f85da78231\\\\setup.py'\"'\"';f=getattr(tokenize, '\"'\"'open'\"'\"', open)(__file__);code=f.read().replace('\"'\"'\\r\\n'\"'\"', '\"'\"'\\n'\"'\"');f.close();exec(compile(code, __file__, '\"'\"'exec'\"'\"'))' egg_info --egg-base 'C:\\Users\\Administrator\\AppData\\Local\\Temp\\pip-pip-egg-info-c5o7s_j3'\n",
      "         cwd: C:\\Users\\Administrator\\AppData\\Local\\Temp\\pip-install-lcsgwvge\\models_646d8e11a8bb42cca2ab52f85da78231\\\n",
      "    Complete output (7 lines):\n",
      "    Traceback (most recent call last):\n",
      "      File \"<string>\", line 1, in <module>\n",
      "      File \"C:\\Users\\Administrator\\AppData\\Local\\Temp\\pip-install-lcsgwvge\\models_646d8e11a8bb42cca2ab52f85da78231\\setup.py\", line 25, in <module>\n",
      "        import models\n",
      "      File \"C:\\Users\\Administrator\\AppData\\Local\\Temp\\pip-install-lcsgwvge\\models_646d8e11a8bb42cca2ab52f85da78231\\models\\__init__.py\", line 23, in <module>\n",
      "        from base import *\n",
      "    ModuleNotFoundError: No module named 'base'\n",
      "    ----------------------------------------\n",
      "WARNING: Discarding https://files.pythonhosted.org/packages/44/3a/8cd3c08995d89e87e74a9aa04784dcb9ade25c03250c281376ce4942d7f5/models-0.9.2.tar.gz#sha256=308be4d5cb707c63f967c591111a8675fe3eaa59c04516e5f6c7fff5e026ece0 (from https://pypi.org/simple/models/). Command errored out with exit status 1: python setup.py egg_info Check the logs for full command output.\n",
      "    ERROR: Command errored out with exit status 1:\n",
      "     command: 'C:\\Users\\Administrator\\anaconda3\\python.exe' -c 'import sys, setuptools, tokenize; sys.argv[0] = '\"'\"'C:\\\\Users\\\\Administrator\\\\AppData\\\\Local\\\\Temp\\\\pip-install-lcsgwvge\\\\models_02cbd3dadca24e1cb1f81beed5861307\\\\setup.py'\"'\"'; __file__='\"'\"'C:\\\\Users\\\\Administrator\\\\AppData\\\\Local\\\\Temp\\\\pip-install-lcsgwvge\\\\models_02cbd3dadca24e1cb1f81beed5861307\\\\setup.py'\"'\"';f=getattr(tokenize, '\"'\"'open'\"'\"', open)(__file__);code=f.read().replace('\"'\"'\\r\\n'\"'\"', '\"'\"'\\n'\"'\"');f.close();exec(compile(code, __file__, '\"'\"'exec'\"'\"'))' egg_info --egg-base 'C:\\Users\\Administrator\\AppData\\Local\\Temp\\pip-pip-egg-info-e0pd684z'\n",
      "         cwd: C:\\Users\\Administrator\\AppData\\Local\\Temp\\pip-install-lcsgwvge\\models_02cbd3dadca24e1cb1f81beed5861307\\\n",
      "    Complete output (7 lines):\n",
      "    Traceback (most recent call last):\n",
      "      File \"<string>\", line 1, in <module>\n",
      "      File \"C:\\Users\\Administrator\\AppData\\Local\\Temp\\pip-install-lcsgwvge\\models_02cbd3dadca24e1cb1f81beed5861307\\setup.py\", line 25, in <module>\n",
      "        import models\n",
      "      File \"C:\\Users\\Administrator\\AppData\\Local\\Temp\\pip-install-lcsgwvge\\models_02cbd3dadca24e1cb1f81beed5861307\\models\\__init__.py\", line 23, in <module>\n",
      "        from base import *\n",
      "    ModuleNotFoundError: No module named 'base'\n",
      "    ----------------------------------------\n",
      "WARNING: Discarding https://files.pythonhosted.org/packages/10/1d/dd6ae3703251520729a9203ce95c436837ca28e0ee6794538efb136ac0e4/models-0.9.1.tar.gz#sha256=78eb7e8cef14864cda9ec5c1911f3c0771671734c71945ec4f908c505d3be8f9 (from https://pypi.org/simple/models/). Command errored out with exit status 1: python setup.py egg_info Check the logs for full command output.\n",
      "    ERROR: Command errored out with exit status 1:\n",
      "     command: 'C:\\Users\\Administrator\\anaconda3\\python.exe' -c 'import sys, setuptools, tokenize; sys.argv[0] = '\"'\"'C:\\\\Users\\\\Administrator\\\\AppData\\\\Local\\\\Temp\\\\pip-install-lcsgwvge\\\\models_b97141642ea3408a83829e89d8a70ebe\\\\setup.py'\"'\"'; __file__='\"'\"'C:\\\\Users\\\\Administrator\\\\AppData\\\\Local\\\\Temp\\\\pip-install-lcsgwvge\\\\models_b97141642ea3408a83829e89d8a70ebe\\\\setup.py'\"'\"';f=getattr(tokenize, '\"'\"'open'\"'\"', open)(__file__);code=f.read().replace('\"'\"'\\r\\n'\"'\"', '\"'\"'\\n'\"'\"');f.close();exec(compile(code, __file__, '\"'\"'exec'\"'\"'))' egg_info --egg-base 'C:\\Users\\Administrator\\AppData\\Local\\Temp\\pip-pip-egg-info-e3v9lpll'\n",
      "         cwd: C:\\Users\\Administrator\\AppData\\Local\\Temp\\pip-install-lcsgwvge\\models_b97141642ea3408a83829e89d8a70ebe\\\n",
      "    Complete output (7 lines):\n",
      "    Traceback (most recent call last):\n",
      "      File \"<string>\", line 1, in <module>\n",
      "      File \"C:\\Users\\Administrator\\AppData\\Local\\Temp\\pip-install-lcsgwvge\\models_b97141642ea3408a83829e89d8a70ebe\\setup.py\", line 25, in <module>\n",
      "        import models\n",
      "      File \"C:\\Users\\Administrator\\AppData\\Local\\Temp\\pip-install-lcsgwvge\\models_b97141642ea3408a83829e89d8a70ebe\\models\\__init__.py\", line 23, in <module>\n",
      "        from base import *\n",
      "    ModuleNotFoundError: No module named 'base'\n",
      "    ----------------------------------------\n",
      "WARNING: Discarding https://files.pythonhosted.org/packages/05/2a/025b493fac59ba30b4ba63c15e72200b0d39a44f22a226f3d69b176a03df/models-0.9.0.tar.gz#sha256=9c16463aef8fe05e856d74c084035bac1d53936f6274444611eee7cb2ccc4556 (from https://pypi.org/simple/models/). Command errored out with exit status 1: python setup.py egg_info Check the logs for full command output.\n",
      "    ERROR: Command errored out with exit status 1:\n",
      "     command: 'C:\\Users\\Administrator\\anaconda3\\python.exe' -c 'import sys, setuptools, tokenize; sys.argv[0] = '\"'\"'C:\\\\Users\\\\Administrator\\\\AppData\\\\Local\\\\Temp\\\\pip-install-lcsgwvge\\\\models_c64d6ad14ba74102ba6aebcec6884902\\\\setup.py'\"'\"'; __file__='\"'\"'C:\\\\Users\\\\Administrator\\\\AppData\\\\Local\\\\Temp\\\\pip-install-lcsgwvge\\\\models_c64d6ad14ba74102ba6aebcec6884902\\\\setup.py'\"'\"';f=getattr(tokenize, '\"'\"'open'\"'\"', open)(__file__);code=f.read().replace('\"'\"'\\r\\n'\"'\"', '\"'\"'\\n'\"'\"');f.close();exec(compile(code, __file__, '\"'\"'exec'\"'\"'))' egg_info --egg-base 'C:\\Users\\Administrator\\AppData\\Local\\Temp\\pip-pip-egg-info-eqmftnso'\n",
      "         cwd: C:\\Users\\Administrator\\AppData\\Local\\Temp\\pip-install-lcsgwvge\\models_c64d6ad14ba74102ba6aebcec6884902\\\n",
      "    Complete output (7 lines):\n",
      "    Traceback (most recent call last):\n",
      "      File \"<string>\", line 1, in <module>\n",
      "      File \"C:\\Users\\Administrator\\AppData\\Local\\Temp\\pip-install-lcsgwvge\\models_c64d6ad14ba74102ba6aebcec6884902\\setup.py\", line 25, in <module>\n",
      "        import models\n",
      "      File \"C:\\Users\\Administrator\\AppData\\Local\\Temp\\pip-install-lcsgwvge\\models_c64d6ad14ba74102ba6aebcec6884902\\models\\__init__.py\", line 23, in <module>\n",
      "        from base import *\n",
      "    ModuleNotFoundError: No module named 'base'\n",
      "    ----------------------------------------\n",
      "WARNING: Discarding https://files.pythonhosted.org/packages/63/e1/b6f02f5df8e27da6a3ea3b7f61ff7ab2d17b4b98290a54799c1bd712b883/models-0.8.0.tar.gz#sha256=c2d01e2c83fb39866ad622e0dbe0e211cf694b5148550cca079411249171c747 (from https://pypi.org/simple/models/). Command errored out with exit status 1: python setup.py egg_info Check the logs for full command output.\n",
      "    ERROR: Command errored out with exit status 1:\n",
      "     command: 'C:\\Users\\Administrator\\anaconda3\\python.exe' -c 'import sys, setuptools, tokenize; sys.argv[0] = '\"'\"'C:\\\\Users\\\\Administrator\\\\AppData\\\\Local\\\\Temp\\\\pip-install-lcsgwvge\\\\models_8bdcd6bcce4947b98c38b0b218975803\\\\setup.py'\"'\"'; __file__='\"'\"'C:\\\\Users\\\\Administrator\\\\AppData\\\\Local\\\\Temp\\\\pip-install-lcsgwvge\\\\models_8bdcd6bcce4947b98c38b0b218975803\\\\setup.py'\"'\"';f=getattr(tokenize, '\"'\"'open'\"'\"', open)(__file__);code=f.read().replace('\"'\"'\\r\\n'\"'\"', '\"'\"'\\n'\"'\"');f.close();exec(compile(code, __file__, '\"'\"'exec'\"'\"'))' egg_info --egg-base 'C:\\Users\\Administrator\\AppData\\Local\\Temp\\pip-pip-egg-info-vf8aoetw'\n",
      "         cwd: C:\\Users\\Administrator\\AppData\\Local\\Temp\\pip-install-lcsgwvge\\models_8bdcd6bcce4947b98c38b0b218975803\\\n",
      "    Complete output (7 lines):\n",
      "    Traceback (most recent call last):\n",
      "      File \"<string>\", line 1, in <module>\n",
      "      File \"C:\\Users\\Administrator\\AppData\\Local\\Temp\\pip-install-lcsgwvge\\models_8bdcd6bcce4947b98c38b0b218975803\\setup.py\", line 25, in <module>\n",
      "        import models\n",
      "      File \"C:\\Users\\Administrator\\AppData\\Local\\Temp\\pip-install-lcsgwvge\\models_8bdcd6bcce4947b98c38b0b218975803\\models\\__init__.py\", line 23, in <module>\n",
      "        from base import *\n",
      "    ModuleNotFoundError: No module named 'base'\n",
      "    ----------------------------------------\n",
      "WARNING: Discarding https://files.pythonhosted.org/packages/09/88/72909bdb09041e6adcc90944f8e9a08fb578aaa6e7699e80a9c147ff7c1f/models-0.7.0.tar.gz#sha256=e3d01ad00a6ec6831de6138a3f986c2efb7bd9355d8bb3f5b700eb2e96b6e3e7 (from https://pypi.org/simple/models/). Command errored out with exit status 1: python setup.py egg_info Check the logs for full command output.\n",
      "    ERROR: Command errored out with exit status 1:\n",
      "     command: 'C:\\Users\\Administrator\\anaconda3\\python.exe' -c 'import sys, setuptools, tokenize; sys.argv[0] = '\"'\"'C:\\\\Users\\\\Administrator\\\\AppData\\\\Local\\\\Temp\\\\pip-install-lcsgwvge\\\\models_334eca7c82e042f3ac39c01946a3232a\\\\setup.py'\"'\"'; __file__='\"'\"'C:\\\\Users\\\\Administrator\\\\AppData\\\\Local\\\\Temp\\\\pip-install-lcsgwvge\\\\models_334eca7c82e042f3ac39c01946a3232a\\\\setup.py'\"'\"';f=getattr(tokenize, '\"'\"'open'\"'\"', open)(__file__);code=f.read().replace('\"'\"'\\r\\n'\"'\"', '\"'\"'\\n'\"'\"');f.close();exec(compile(code, __file__, '\"'\"'exec'\"'\"'))' egg_info --egg-base 'C:\\Users\\Administrator\\AppData\\Local\\Temp\\pip-pip-egg-info-4az59rm1'\n",
      "         cwd: C:\\Users\\Administrator\\AppData\\Local\\Temp\\pip-install-lcsgwvge\\models_334eca7c82e042f3ac39c01946a3232a\\\n",
      "    Complete output (7 lines):\n",
      "    Traceback (most recent call last):\n",
      "      File \"<string>\", line 1, in <module>\n",
      "      File \"C:\\Users\\Administrator\\AppData\\Local\\Temp\\pip-install-lcsgwvge\\models_334eca7c82e042f3ac39c01946a3232a\\setup.py\", line 25, in <module>\n",
      "        import models\n",
      "      File \"C:\\Users\\Administrator\\AppData\\Local\\Temp\\pip-install-lcsgwvge\\models_334eca7c82e042f3ac39c01946a3232a\\models\\__init__.py\", line 23, in <module>\n",
      "        from base import *\n",
      "    ModuleNotFoundError: No module named 'base'\n",
      "    ----------------------------------------\n",
      "WARNING: Discarding https://files.pythonhosted.org/packages/79/44/59bdda622faaec86c9db3f85270e29a3485936753b779c8210d3c0499ccb/models-0.4.0.tar.gz#sha256=80314c00ee1e8b19b4536107daac00b4e986f048e58d73530a00348322bc4399 (from https://pypi.org/simple/models/). Command errored out with exit status 1: python setup.py egg_info Check the logs for full command output.\n",
      "    ERROR: Command errored out with exit status 1:\n",
      "     command: 'C:\\Users\\Administrator\\anaconda3\\python.exe' -c 'import sys, setuptools, tokenize; sys.argv[0] = '\"'\"'C:\\\\Users\\\\Administrator\\\\AppData\\\\Local\\\\Temp\\\\pip-install-lcsgwvge\\\\models_068a1ad27bed4b33bcd30b1782391d53\\\\setup.py'\"'\"'; __file__='\"'\"'C:\\\\Users\\\\Administrator\\\\AppData\\\\Local\\\\Temp\\\\pip-install-lcsgwvge\\\\models_068a1ad27bed4b33bcd30b1782391d53\\\\setup.py'\"'\"';f=getattr(tokenize, '\"'\"'open'\"'\"', open)(__file__);code=f.read().replace('\"'\"'\\r\\n'\"'\"', '\"'\"'\\n'\"'\"');f.close();exec(compile(code, __file__, '\"'\"'exec'\"'\"'))' egg_info --egg-base 'C:\\Users\\Administrator\\AppData\\Local\\Temp\\pip-pip-egg-info-bi1lyw3z'\n",
      "         cwd: C:\\Users\\Administrator\\AppData\\Local\\Temp\\pip-install-lcsgwvge\\models_068a1ad27bed4b33bcd30b1782391d53\\\n",
      "    Complete output (7 lines):\n",
      "    Traceback (most recent call last):\n",
      "      File \"<string>\", line 1, in <module>\n",
      "      File \"C:\\Users\\Administrator\\AppData\\Local\\Temp\\pip-install-lcsgwvge\\models_068a1ad27bed4b33bcd30b1782391d53\\setup.py\", line 25, in <module>\n",
      "        import models\n",
      "      File \"C:\\Users\\Administrator\\AppData\\Local\\Temp\\pip-install-lcsgwvge\\models_068a1ad27bed4b33bcd30b1782391d53\\models\\__init__.py\", line 23, in <module>\n",
      "        from base import *\n",
      "    ModuleNotFoundError: No module named 'base'\n",
      "    ----------------------------------------\n",
      "WARNING: Discarding https://files.pythonhosted.org/packages/fb/dc/fd2068f4cc4f275a1a2d41a2ca6a6b3a0d49c7e86ba3a30d2fbf15731f7a/models-0.3.0.tar.gz#sha256=ce0350c757e27dcf7476d9a3f030a3f408c0b318a6b1153a83db8206766fae10 (from https://pypi.org/simple/models/). Command errored out with exit status 1: python setup.py egg_info Check the logs for full command output.\n",
      "    ERROR: Command errored out with exit status 1:\n",
      "     command: 'C:\\Users\\Administrator\\anaconda3\\python.exe' -c 'import sys, setuptools, tokenize; sys.argv[0] = '\"'\"'C:\\\\Users\\\\Administrator\\\\AppData\\\\Local\\\\Temp\\\\pip-install-lcsgwvge\\\\models_b037b2400bce429195795d5483e06eba\\\\setup.py'\"'\"'; __file__='\"'\"'C:\\\\Users\\\\Administrator\\\\AppData\\\\Local\\\\Temp\\\\pip-install-lcsgwvge\\\\models_b037b2400bce429195795d5483e06eba\\\\setup.py'\"'\"';f=getattr(tokenize, '\"'\"'open'\"'\"', open)(__file__);code=f.read().replace('\"'\"'\\r\\n'\"'\"', '\"'\"'\\n'\"'\"');f.close();exec(compile(code, __file__, '\"'\"'exec'\"'\"'))' egg_info --egg-base 'C:\\Users\\Administrator\\AppData\\Local\\Temp\\pip-pip-egg-info-k9d7mq_e'\n",
      "         cwd: C:\\Users\\Administrator\\AppData\\Local\\Temp\\pip-install-lcsgwvge\\models_b037b2400bce429195795d5483e06eba\\\n",
      "    Complete output (7 lines):\n",
      "    Traceback (most recent call last):\n",
      "      File \"<string>\", line 1, in <module>\n",
      "      File \"C:\\Users\\Administrator\\AppData\\Local\\Temp\\pip-install-lcsgwvge\\models_b037b2400bce429195795d5483e06eba\\setup.py\", line 25, in <module>\n",
      "        import models\n",
      "      File \"C:\\Users\\Administrator\\AppData\\Local\\Temp\\pip-install-lcsgwvge\\models_b037b2400bce429195795d5483e06eba\\models\\__init__.py\", line 23, in <module>\n",
      "        from base import *\n",
      "    ModuleNotFoundError: No module named 'base'\n",
      "    ----------------------------------------\n",
      "WARNING: Discarding https://files.pythonhosted.org/packages/27/62/62ebd85760e4f812753056b4763f0a866cdcbc08ee6ccc2b81a2f5fb2202/models-0.2.0.tar.gz#sha256=2f5982ef56afe9239f81f5d6a461823e0dc267c6212c06754a0863b98dad60a4 (from https://pypi.org/simple/models/). Command errored out with exit status 1: python setup.py egg_info Check the logs for full command output.\n",
      "    ERROR: Command errored out with exit status 1:\n",
      "     command: 'C:\\Users\\Administrator\\anaconda3\\python.exe' -c 'import sys, setuptools, tokenize; sys.argv[0] = '\"'\"'C:\\\\Users\\\\Administrator\\\\AppData\\\\Local\\\\Temp\\\\pip-install-lcsgwvge\\\\models_9b5077b9d96d4b0c83dc42cf67b707e1\\\\setup.py'\"'\"'; __file__='\"'\"'C:\\\\Users\\\\Administrator\\\\AppData\\\\Local\\\\Temp\\\\pip-install-lcsgwvge\\\\models_9b5077b9d96d4b0c83dc42cf67b707e1\\\\setup.py'\"'\"';f=getattr(tokenize, '\"'\"'open'\"'\"', open)(__file__);code=f.read().replace('\"'\"'\\r\\n'\"'\"', '\"'\"'\\n'\"'\"');f.close();exec(compile(code, __file__, '\"'\"'exec'\"'\"'))' egg_info --egg-base 'C:\\Users\\Administrator\\AppData\\Local\\Temp\\pip-pip-egg-info-xzyjq1z5'\n",
      "         cwd: C:\\Users\\Administrator\\AppData\\Local\\Temp\\pip-install-lcsgwvge\\models_9b5077b9d96d4b0c83dc42cf67b707e1\\\n",
      "    Complete output (7 lines):\n",
      "    Traceback (most recent call last):\n",
      "      File \"<string>\", line 1, in <module>\n",
      "      File \"C:\\Users\\Administrator\\AppData\\Local\\Temp\\pip-install-lcsgwvge\\models_9b5077b9d96d4b0c83dc42cf67b707e1\\setup.py\", line 25, in <module>\n",
      "        import models\n",
      "      File \"C:\\Users\\Administrator\\AppData\\Local\\Temp\\pip-install-lcsgwvge\\models_9b5077b9d96d4b0c83dc42cf67b707e1\\models\\__init__.py\", line 23, in <module>\n",
      "        from base import *\n",
      "    ModuleNotFoundError: No module named 'base'\n",
      "    ----------------------------------------\n",
      "WARNING: Discarding https://files.pythonhosted.org/packages/ca/81/53baac8e352f956a23568f285a72bcd2d8cc04321022f0196de5eaf5e5e4/models-0.1.1.tar.gz#sha256=b117db9acd5a232f4333a5927385320826168514364e86d1dbaba44b01fab1a9 (from https://pypi.org/simple/models/). Command errored out with exit status 1: python setup.py egg_info Check the logs for full command output.\n",
      "    ERROR: Command errored out with exit status 1:\n",
      "     command: 'C:\\Users\\Administrator\\anaconda3\\python.exe' -c 'import sys, setuptools, tokenize; sys.argv[0] = '\"'\"'C:\\\\Users\\\\Administrator\\\\AppData\\\\Local\\\\Temp\\\\pip-install-lcsgwvge\\\\models_47c9bef1176740a49ff28789122e4915\\\\setup.py'\"'\"'; __file__='\"'\"'C:\\\\Users\\\\Administrator\\\\AppData\\\\Local\\\\Temp\\\\pip-install-lcsgwvge\\\\models_47c9bef1176740a49ff28789122e4915\\\\setup.py'\"'\"';f=getattr(tokenize, '\"'\"'open'\"'\"', open)(__file__);code=f.read().replace('\"'\"'\\r\\n'\"'\"', '\"'\"'\\n'\"'\"');f.close();exec(compile(code, __file__, '\"'\"'exec'\"'\"'))' egg_info --egg-base 'C:\\Users\\Administrator\\AppData\\Local\\Temp\\pip-pip-egg-info-xfzempsj'\n",
      "         cwd: C:\\Users\\Administrator\\AppData\\Local\\Temp\\pip-install-lcsgwvge\\models_47c9bef1176740a49ff28789122e4915\\\n",
      "    Complete output (7 lines):\n",
      "    Traceback (most recent call last):\n",
      "      File \"<string>\", line 1, in <module>\n",
      "      File \"C:\\Users\\Administrator\\AppData\\Local\\Temp\\pip-install-lcsgwvge\\models_47c9bef1176740a49ff28789122e4915\\setup.py\", line 25, in <module>\n",
      "        import models\n",
      "      File \"C:\\Users\\Administrator\\AppData\\Local\\Temp\\pip-install-lcsgwvge\\models_47c9bef1176740a49ff28789122e4915\\models\\__init__.py\", line 23, in <module>\n",
      "        from base import *\n",
      "    ModuleNotFoundError: No module named 'base'\n",
      "    ----------------------------------------\n",
      "WARNING: Discarding https://files.pythonhosted.org/packages/ad/3b/596d1bb079039dc29b92692e59b87d7f352a15e25cca6b5b304ff3efce9a/models-0.1.0.tar.gz#sha256=0b74111b909079ef6baaa10e1619ff5aaeaace807f0bcc948650c38e81534203 (from https://pypi.org/simple/models/). Command errored out with exit status 1: python setup.py egg_info Check the logs for full command output.\n",
      "    ERROR: Command errored out with exit status 1:\n",
      "     command: 'C:\\Users\\Administrator\\anaconda3\\python.exe' -c 'import sys, setuptools, tokenize; sys.argv[0] = '\"'\"'C:\\\\Users\\\\Administrator\\\\AppData\\\\Local\\\\Temp\\\\pip-install-lcsgwvge\\\\models_32b59de3376744d08ff99be3d3e60410\\\\setup.py'\"'\"'; __file__='\"'\"'C:\\\\Users\\\\Administrator\\\\AppData\\\\Local\\\\Temp\\\\pip-install-lcsgwvge\\\\models_32b59de3376744d08ff99be3d3e60410\\\\setup.py'\"'\"';f=getattr(tokenize, '\"'\"'open'\"'\"', open)(__file__);code=f.read().replace('\"'\"'\\r\\n'\"'\"', '\"'\"'\\n'\"'\"');f.close();exec(compile(code, __file__, '\"'\"'exec'\"'\"'))' egg_info --egg-base 'C:\\Users\\Administrator\\AppData\\Local\\Temp\\pip-pip-egg-info-l7a883in'\n",
      "         cwd: C:\\Users\\Administrator\\AppData\\Local\\Temp\\pip-install-lcsgwvge\\models_32b59de3376744d08ff99be3d3e60410\\\n",
      "    Complete output (7 lines):\n",
      "    Traceback (most recent call last):\n",
      "      File \"<string>\", line 1, in <module>\n",
      "      File \"C:\\Users\\Administrator\\AppData\\Local\\Temp\\pip-install-lcsgwvge\\models_32b59de3376744d08ff99be3d3e60410\\setup.py\", line 24, in <module>\n",
      "        import models\n",
      "      File \"C:\\Users\\Administrator\\AppData\\Local\\Temp\\pip-install-lcsgwvge\\models_32b59de3376744d08ff99be3d3e60410\\models\\__init__.py\", line 23, in <module>\n",
      "        from base import *\n",
      "    ModuleNotFoundError: No module named 'base'\n",
      "    ----------------------------------------\n",
      "WARNING: Discarding https://files.pythonhosted.org/packages/b9/12/3a057a76ef4063e25584e922228e82f9fb0ab20e888e97dd4d109d017207/models-0.0.5.tar.gz#sha256=5832d3221cce8918872873b7aa8436d80c829de1b7ba4ec21944c9c361a12386 (from https://pypi.org/simple/models/). Command errored out with exit status 1: python setup.py egg_info Check the logs for full command output.\n",
      "    ERROR: Command errored out with exit status 1:\n",
      "     command: 'C:\\Users\\Administrator\\anaconda3\\python.exe' -c 'import sys, setuptools, tokenize; sys.argv[0] = '\"'\"'C:\\\\Users\\\\Administrator\\\\AppData\\\\Local\\\\Temp\\\\pip-install-lcsgwvge\\\\models_77ad9cd99d3c4c8b86e7f638550b9cdd\\\\setup.py'\"'\"'; __file__='\"'\"'C:\\\\Users\\\\Administrator\\\\AppData\\\\Local\\\\Temp\\\\pip-install-lcsgwvge\\\\models_77ad9cd99d3c4c8b86e7f638550b9cdd\\\\setup.py'\"'\"';f=getattr(tokenize, '\"'\"'open'\"'\"', open)(__file__);code=f.read().replace('\"'\"'\\r\\n'\"'\"', '\"'\"'\\n'\"'\"');f.close();exec(compile(code, __file__, '\"'\"'exec'\"'\"'))' egg_info --egg-base 'C:\\Users\\Administrator\\AppData\\Local\\Temp\\pip-pip-egg-info-ps8q0pau'\n",
      "         cwd: C:\\Users\\Administrator\\AppData\\Local\\Temp\\pip-install-lcsgwvge\\models_77ad9cd99d3c4c8b86e7f638550b9cdd\\\n",
      "    Complete output (7 lines):\n",
      "    Traceback (most recent call last):\n",
      "      File \"<string>\", line 1, in <module>\n",
      "      File \"C:\\Users\\Administrator\\AppData\\Local\\Temp\\pip-install-lcsgwvge\\models_77ad9cd99d3c4c8b86e7f638550b9cdd\\setup.py\", line 24, in <module>\n",
      "        import models\n",
      "      File \"C:\\Users\\Administrator\\AppData\\Local\\Temp\\pip-install-lcsgwvge\\models_77ad9cd99d3c4c8b86e7f638550b9cdd\\models\\__init__.py\", line 23, in <module>\n",
      "        from base import *\n",
      "    ModuleNotFoundError: No module named 'base'\n",
      "    ----------------------------------------\n",
      "WARNING: Discarding https://files.pythonhosted.org/packages/e6/6a/0a4cb29c5d32ddbe06080deebd1e4f8896f6de56f954d690d492e8044b91/models-0.0.4.tar.gz#sha256=4537a1b50b1efb54ff52762f6108be8afcfc194927380d948d7d983ac2557a98 (from https://pypi.org/simple/models/). Command errored out with exit status 1: python setup.py egg_info Check the logs for full command output.\n",
      "    ERROR: Command errored out with exit status 1:\n",
      "     command: 'C:\\Users\\Administrator\\anaconda3\\python.exe' -c 'import sys, setuptools, tokenize; sys.argv[0] = '\"'\"'C:\\\\Users\\\\Administrator\\\\AppData\\\\Local\\\\Temp\\\\pip-install-lcsgwvge\\\\models_19b3b4990e3c42e98feceea19cccdf30\\\\setup.py'\"'\"'; __file__='\"'\"'C:\\\\Users\\\\Administrator\\\\AppData\\\\Local\\\\Temp\\\\pip-install-lcsgwvge\\\\models_19b3b4990e3c42e98feceea19cccdf30\\\\setup.py'\"'\"';f=getattr(tokenize, '\"'\"'open'\"'\"', open)(__file__);code=f.read().replace('\"'\"'\\r\\n'\"'\"', '\"'\"'\\n'\"'\"');f.close();exec(compile(code, __file__, '\"'\"'exec'\"'\"'))' egg_info --egg-base 'C:\\Users\\Administrator\\AppData\\Local\\Temp\\pip-pip-egg-info-icfsdumk'\n",
      "         cwd: C:\\Users\\Administrator\\AppData\\Local\\Temp\\pip-install-lcsgwvge\\models_19b3b4990e3c42e98feceea19cccdf30\\\n",
      "    Complete output (7 lines):\n",
      "    Traceback (most recent call last):\n",
      "      File \"<string>\", line 1, in <module>\n",
      "      File \"C:\\Users\\Administrator\\AppData\\Local\\Temp\\pip-install-lcsgwvge\\models_19b3b4990e3c42e98feceea19cccdf30\\setup.py\", line 24, in <module>\n",
      "        import models\n",
      "      File \"C:\\Users\\Administrator\\AppData\\Local\\Temp\\pip-install-lcsgwvge\\models_19b3b4990e3c42e98feceea19cccdf30\\models\\__init__.py\", line 23, in <module>\n",
      "        from base import *\n",
      "    ModuleNotFoundError: No module named 'base'\n",
      "    ----------------------------------------\n",
      "WARNING: Discarding https://files.pythonhosted.org/packages/68/35/b990e771f13982d98385774c651c0c90baec4b4ef19c752b5e6add126d3f/models-0.0.3.tar.gz#sha256=9bb0315231b46d53df62c63321c33fc6935ca58db629e3aef09c735b781a9d8b (from https://pypi.org/simple/models/). Command errored out with exit status 1: python setup.py egg_info Check the logs for full command output.\n",
      "ERROR: Could not find a version that satisfies the requirement Models\n",
      "ERROR: No matching distribution found for Models\n"
     ]
    }
   ],
   "source": [
    "pip install Models"
   ]
  },
  {
   "cell_type": "code",
   "execution_count": null,
   "id": "d3fc4799",
   "metadata": {},
   "outputs": [],
   "source": []
  }
 ],
 "metadata": {
  "kernelspec": {
   "display_name": "Python 3",
   "language": "python",
   "name": "python3"
  },
  "language_info": {
   "codemirror_mode": {
    "name": "ipython",
    "version": 3
   },
   "file_extension": ".py",
   "mimetype": "text/x-python",
   "name": "python",
   "nbconvert_exporter": "python",
   "pygments_lexer": "ipython3",
   "version": "3.8.8"
  }
 },
 "nbformat": 4,
 "nbformat_minor": 5
}
