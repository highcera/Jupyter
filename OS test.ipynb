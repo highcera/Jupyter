{
 "cells": [
  {
   "cell_type": "code",
   "execution_count": 1,
   "id": "5e03834b",
   "metadata": {},
   "outputs": [
    {
     "name": "stdout",
     "output_type": "stream",
     "text": [
      "C:\\Users\\Administrator\n"
     ]
    }
   ],
   "source": [
    "# os 연습\n",
    "\n",
    "import os\n",
    "\n",
    "path = os.getcwd()\n",
    "print(path)"
   ]
  },
  {
   "cell_type": "code",
   "execution_count": 12,
   "id": "ce95b1f8",
   "metadata": {},
   "outputs": [
    {
     "name": "stdout",
     "output_type": "stream",
     "text": [
      "C:\\\n"
     ]
    }
   ],
   "source": [
    "os.chdir(\"../\")\n",
    "\n",
    "path = os.getcwd()\n",
    "print(path)"
   ]
  },
  {
   "cell_type": "code",
   "execution_count": 11,
   "id": "60f58747",
   "metadata": {},
   "outputs": [
    {
     "name": "stdout",
     "output_type": "stream",
     "text": [
      "C:\\Users\n"
     ]
    }
   ],
   "source": [
    "path = os.getcwd()\n",
    "print(path)"
   ]
  },
  {
   "cell_type": "code",
   "execution_count": 13,
   "id": "ba6f1bbd",
   "metadata": {},
   "outputs": [
    {
     "name": "stdout",
     "output_type": "stream",
     "text": [
      "C:\\Users\\Administrator\n"
     ]
    }
   ],
   "source": [
    "os.chdir(\"C:/Users/Administrator\")\n",
    "path = os.getcwd()\n",
    "print(path)"
   ]
  },
  {
   "cell_type": "code",
   "execution_count": 14,
   "id": "991d0ec4",
   "metadata": {},
   "outputs": [
    {
     "data": {
      "text/plain": [
       "['.conda',\n",
       " '.condarc',\n",
       " '.continuum',\n",
       " '.designer',\n",
       " '.erlang.cookie',\n",
       " '.idlerc',\n",
       " '.ipynb_checkpoints',\n",
       " '.ipython',\n",
       " '.jupyter',\n",
       " '.matplotlib',\n",
       " '.spyder-py3',\n",
       " '152435B6DB9E1485347E583BE8C95DB3D6F018EF.ico',\n",
       " '3D Objects',\n",
       " 'anaconda3',\n",
       " 'AppData',\n",
       " 'Application Data',\n",
       " 'BackTest.ipynb',\n",
       " 'Contacts',\n",
       " 'Cookies',\n",
       " 'Desktop',\n",
       " 'Documents',\n",
       " 'Downloads',\n",
       " 'equation.png',\n",
       " 'Excel.ipynb',\n",
       " 'Favorites',\n",
       " 'Intel',\n",
       " 'IntelGraphicsProfiles',\n",
       " 'Jedi',\n",
       " 'Links',\n",
       " 'Local Settings',\n",
       " 'MicrosoftEdgeBackups',\n",
       " 'Music',\n",
       " 'My Documents',\n",
       " 'NetHood',\n",
       " 'NTUSER.DAT',\n",
       " 'ntuser.dat.LOG1',\n",
       " 'ntuser.dat.LOG2',\n",
       " 'NTUSER.DAT{53b39e88-18c4-11ea-a811-000d3aa4692b}.TM.blf',\n",
       " 'NTUSER.DAT{53b39e88-18c4-11ea-a811-000d3aa4692b}.TMContainer00000000000000000001.regtrans-ms',\n",
       " 'NTUSER.DAT{53b39e88-18c4-11ea-a811-000d3aa4692b}.TMContainer00000000000000000002.regtrans-ms',\n",
       " 'ntuser.ini',\n",
       " 'Pictures',\n",
       " 'PrintHood',\n",
       " 'Python',\n",
       " 'python ex',\n",
       " 'Python 연습',\n",
       " 'qt_ex.py',\n",
       " 'qt_ex.ui',\n",
       " 'qt_ex2.py',\n",
       " 'qt_ex2.ui',\n",
       " 'Recent',\n",
       " 'Saved Games',\n",
       " 'sem - 바로 가기.lnk',\n",
       " 'SendTo',\n",
       " 'Templates',\n",
       " 'Untitled Folder',\n",
       " 'Untitled.ipynb',\n",
       " 'Untitled1.ipynb',\n",
       " 'Untitled2.ipynb',\n",
       " 'Untitled3.ipynb',\n",
       " 'Untitled4.ipynb',\n",
       " 'Videos',\n",
       " '시작 메뉴',\n",
       " '신VDI포탈시스템2654.ico']"
      ]
     },
     "execution_count": 14,
     "metadata": {},
     "output_type": "execute_result"
    }
   ],
   "source": [
    "os.listdir()"
   ]
  },
  {
   "cell_type": "code",
   "execution_count": 16,
   "id": "1f682e42",
   "metadata": {},
   "outputs": [
    {
     "data": {
      "text/plain": [
       "'C:/Users/Administrator'"
      ]
     },
     "execution_count": 16,
     "metadata": {},
     "output_type": "execute_result"
    }
   ],
   "source": [
    "os.path.dirname(\"C:/Users/Administrator/Untitled.ipynb\")"
   ]
  },
  {
   "cell_type": "code",
   "execution_count": 17,
   "id": "84ac07ef",
   "metadata": {},
   "outputs": [
    {
     "data": {
      "text/plain": [
       "True"
      ]
     },
     "execution_count": 17,
     "metadata": {},
     "output_type": "execute_result"
    }
   ],
   "source": [
    "os.path.isfile(\"C:/Users/Administrator/Untitled.ipynb\")"
   ]
  },
  {
   "cell_type": "code",
   "execution_count": 18,
   "id": "f7bc725e",
   "metadata": {},
   "outputs": [
    {
     "data": {
      "text/plain": [
       "False"
      ]
     },
     "execution_count": 18,
     "metadata": {},
     "output_type": "execute_result"
    }
   ],
   "source": [
    "os.path.isfile(\"C:/Users/Administrator/\")"
   ]
  },
  {
   "cell_type": "code",
   "execution_count": 19,
   "id": "a696cd55",
   "metadata": {},
   "outputs": [
    {
     "data": {
      "text/plain": [
       "False"
      ]
     },
     "execution_count": 19,
     "metadata": {},
     "output_type": "execute_result"
    }
   ],
   "source": [
    "os.path.isdir(\"C:/Users/Administrator/Untitled.ipynb\")"
   ]
  },
  {
   "cell_type": "code",
   "execution_count": 20,
   "id": "1cea4cab",
   "metadata": {},
   "outputs": [
    {
     "data": {
      "text/plain": [
       "True"
      ]
     },
     "execution_count": 20,
     "metadata": {},
     "output_type": "execute_result"
    }
   ],
   "source": [
    "os.path.isdir(\"C:/Users/Administrator/\")"
   ]
  },
  {
   "cell_type": "code",
   "execution_count": 21,
   "id": "8370ff27",
   "metadata": {},
   "outputs": [],
   "source": [
    "dir, file = os.path.split(\"C:/Users/Administrator/Untitled.ipynb\")"
   ]
  },
  {
   "cell_type": "code",
   "execution_count": 22,
   "id": "5089e832",
   "metadata": {},
   "outputs": [
    {
     "name": "stdout",
     "output_type": "stream",
     "text": [
      "C:/Users/Administrator\n"
     ]
    }
   ],
   "source": [
    "print(dir)"
   ]
  },
  {
   "cell_type": "code",
   "execution_count": 23,
   "id": "b100b9f4",
   "metadata": {},
   "outputs": [
    {
     "name": "stdout",
     "output_type": "stream",
     "text": [
      "Untitled.ipynb\n"
     ]
    }
   ],
   "source": [
    "print(file)"
   ]
  },
  {
   "cell_type": "code",
   "execution_count": 24,
   "id": "def176f0",
   "metadata": {},
   "outputs": [
    {
     "data": {
      "text/plain": [
       "True"
      ]
     },
     "execution_count": 24,
     "metadata": {},
     "output_type": "execute_result"
    }
   ],
   "source": [
    "os.path.exists(\"C:/Users/Administrator/Untitled.ipynb\")"
   ]
  },
  {
   "cell_type": "code",
   "execution_count": 25,
   "id": "67b15248",
   "metadata": {},
   "outputs": [
    {
     "data": {
      "text/plain": [
       "False"
      ]
     },
     "execution_count": 25,
     "metadata": {},
     "output_type": "execute_result"
    }
   ],
   "source": [
    "os.path.exists(\"C:/Users/Untitled.ipynb\")"
   ]
  },
  {
   "cell_type": "code",
   "execution_count": 26,
   "id": "78f1dd0c",
   "metadata": {},
   "outputs": [
    {
     "data": {
      "text/plain": [
       "66757"
      ]
     },
     "execution_count": 26,
     "metadata": {},
     "output_type": "execute_result"
    }
   ],
   "source": [
    "os.path.getsize(\"C:/Users/Administrator/Untitled.ipynb\")"
   ]
  },
  {
   "cell_type": "code",
   "execution_count": 28,
   "id": "7fbfcc96",
   "metadata": {},
   "outputs": [
    {
     "data": {
      "text/plain": [
       "'C:/Users/Administrator\\\\Untitled.ipynb'"
      ]
     },
     "execution_count": 28,
     "metadata": {},
     "output_type": "execute_result"
    }
   ],
   "source": [
    "os.path.join(\"C:/Users/Administrator\", \"Untitled.ipynb\")"
   ]
  },
  {
   "cell_type": "code",
   "execution_count": 29,
   "id": "722652b8",
   "metadata": {},
   "outputs": [],
   "source": [
    "name, ext = os.path.splitext(\"Untitled.ipynb\")"
   ]
  },
  {
   "cell_type": "code",
   "execution_count": 30,
   "id": "fa43e77a",
   "metadata": {},
   "outputs": [
    {
     "name": "stdout",
     "output_type": "stream",
     "text": [
      "파일명 :  Untitled\n"
     ]
    }
   ],
   "source": [
    "print(\"파일명 : \", name)"
   ]
  },
  {
   "cell_type": "code",
   "execution_count": 32,
   "id": "9475458a",
   "metadata": {},
   "outputs": [
    {
     "name": "stdout",
     "output_type": "stream",
     "text": [
      "확장자 :  .ipynb\n"
     ]
    }
   ],
   "source": [
    "print(\"확장자 : \", ext)"
   ]
  },
  {
   "cell_type": "code",
   "execution_count": 34,
   "id": "287b1ad7",
   "metadata": {},
   "outputs": [
    {
     "name": "stdout",
     "output_type": "stream",
     "text": [
      "------------------------------\n",
      "['.conda', '.condarc', '.continuum', '.designer', '.erlang.cookie', '.idlerc', '.ipynb_checkpoints', '.ipython', '.jupyter', '.matplotlib', '.spyder-py3', '152435B6DB9E1485347E583BE8C95DB3D6F018EF.ico', '3D Objects', 'anaconda3', 'AppData', 'Application Data', 'BackTest.ipynb', 'Contacts', 'Cookies', 'Desktop', 'Documents', 'Downloads', 'equation.png', 'Excel.ipynb', 'Favorites', 'Intel', 'IntelGraphicsProfiles', 'Jedi', 'Links', 'Local Settings', 'MicrosoftEdgeBackups', 'Music', 'My Documents', 'NetHood', 'NTUSER.DAT', 'ntuser.dat.LOG1', 'ntuser.dat.LOG2', 'NTUSER.DAT{53b39e88-18c4-11ea-a811-000d3aa4692b}.TM.blf', 'NTUSER.DAT{53b39e88-18c4-11ea-a811-000d3aa4692b}.TMContainer00000000000000000001.regtrans-ms', 'NTUSER.DAT{53b39e88-18c4-11ea-a811-000d3aa4692b}.TMContainer00000000000000000002.regtrans-ms', 'ntuser.ini', 'Pictures', 'PrintHood', 'Python', 'python ex', 'Python 연습', 'qt_ex.py', 'qt_ex.ui', 'qt_ex2.py', 'qt_ex2.ui', 'Recent', 'Saved Games', 'sem - 바로 가기.lnk', 'SendTo', 'Templates', 'Untitled Folder', 'Untitled.ipynb', 'Untitled1.ipynb', 'Untitled2.ipynb', 'Untitled3.ipynb', 'Untitled4.ipynb', 'Videos', '시작 메뉴', '신VDI포탈시스템2654.ico']\n",
      "------------------------------\n"
     ]
    }
   ],
   "source": [
    "print('-'*30)\n",
    "file_list = os.listdir(\"C:/Users/Administrator\")\n",
    "print(file_list)\n",
    "print('-'*30)"
   ]
  },
  {
   "cell_type": "code",
   "execution_count": null,
   "id": "4e54f062",
   "metadata": {},
   "outputs": [],
   "source": [
    "#os.rename(\"\",\"\")"
   ]
  }
 ],
 "metadata": {
  "kernelspec": {
   "display_name": "Python 3.8.10 64-bit",
   "language": "python",
   "name": "python3"
  },
  "language_info": {
   "codemirror_mode": {
    "name": "ipython",
    "version": 3
   },
   "file_extension": ".py",
   "mimetype": "text/x-python",
   "name": "python",
   "nbconvert_exporter": "python",
   "pygments_lexer": "ipython3",
   "version": "3.8.10"
  },
  "vscode": {
   "interpreter": {
    "hash": "e0144baad0ecee903f108a3e46e51ceadd7da3fc904cfa79747d813b61464b4e"
   }
  }
 },
 "nbformat": 4,
 "nbformat_minor": 5
}
