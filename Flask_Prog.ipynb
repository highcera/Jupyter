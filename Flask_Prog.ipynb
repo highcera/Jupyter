{
 "cells": [
  {
   "cell_type": "code",
   "execution_count": 2,
   "id": "9c64f3b6",
   "metadata": {},
   "outputs": [
    {
     "name": "stdout",
     "output_type": "stream",
     "text": [
      " * Serving Flask app \"__main__\" (lazy loading)\n",
      " * Environment: production\n",
      "   WARNING: This is a development server. Do not use it in a production deployment.\n",
      "   Use a production WSGI server instead.\n",
      " * Debug mode: off\n"
     ]
    },
    {
     "name": "stderr",
     "output_type": "stream",
     "text": [
      " * Running on http://127.0.0.1:5000/ (Press CTRL+C to quit)\n",
      "127.0.0.1 - - [12/Oct/2022 09:33:29] \"\u001b[37mGET / HTTP/1.1\u001b[0m\" 200 -\n",
      "127.0.0.1 - - [12/Oct/2022 09:33:30] \"\u001b[33mGET /favicon.ico HTTP/1.1\u001b[0m\" 404 -\n",
      "127.0.0.1 - - [12/Oct/2022 09:33:42] \"\u001b[32mPOST /add HTTP/1.1\u001b[0m\" 302 -\n",
      "127.0.0.1 - - [12/Oct/2022 09:33:42] \"\u001b[37mGET / HTTP/1.1\u001b[0m\" 200 -\n"
     ]
    },
    {
     "name": "stdout",
     "output_type": "stream",
     "text": [
      "POST\n"
     ]
    },
    {
     "name": "stderr",
     "output_type": "stream",
     "text": [
      "127.0.0.1 - - [12/Oct/2022 09:33:45] \"\u001b[37mGET /update/1 HTTP/1.1\u001b[0m\" 200 -\n",
      "127.0.0.1 - - [12/Oct/2022 09:34:02] \"\u001b[32mPOST /update/1 HTTP/1.1\u001b[0m\" 302 -\n",
      "127.0.0.1 - - [12/Oct/2022 09:34:02] \"\u001b[37mGET / HTTP/1.1\u001b[0m\" 200 -\n",
      "127.0.0.1 - - [12/Oct/2022 09:34:15] \"\u001b[32mPOST /add HTTP/1.1\u001b[0m\" 302 -\n",
      "127.0.0.1 - - [12/Oct/2022 09:34:15] \"\u001b[37mGET / HTTP/1.1\u001b[0m\" 200 -\n"
     ]
    },
    {
     "name": "stdout",
     "output_type": "stream",
     "text": [
      "POST\n"
     ]
    },
    {
     "name": "stderr",
     "output_type": "stream",
     "text": [
      "127.0.0.1 - - [12/Oct/2022 09:34:19] \"\u001b[32mGET /delete/2 HTTP/1.1\u001b[0m\" 302 -\n",
      "127.0.0.1 - - [12/Oct/2022 09:34:19] \"\u001b[37mGET / HTTP/1.1\u001b[0m\" 200 -\n",
      "127.0.0.1 - - [12/Oct/2022 09:34:23] \"\u001b[32mGET /delete/1 HTTP/1.1\u001b[0m\" 302 -\n",
      "127.0.0.1 - - [12/Oct/2022 09:34:23] \"\u001b[37mGET / HTTP/1.1\u001b[0m\" 200 -\n",
      "127.0.0.1 - - [12/Oct/2022 09:34:35] \"\u001b[32mPOST /add HTTP/1.1\u001b[0m\" 302 -\n",
      "127.0.0.1 - - [12/Oct/2022 09:34:35] \"\u001b[37mGET / HTTP/1.1\u001b[0m\" 200 -\n"
     ]
    },
    {
     "name": "stdout",
     "output_type": "stream",
     "text": [
      "POST\n"
     ]
    },
    {
     "name": "stderr",
     "output_type": "stream",
     "text": [
      "127.0.0.1 - - [12/Oct/2022 09:34:40] \"\u001b[37mGET /update/1 HTTP/1.1\u001b[0m\" 200 -\n",
      "127.0.0.1 - - [12/Oct/2022 09:34:55] \"\u001b[32mPOST /update/1 HTTP/1.1\u001b[0m\" 302 -\n",
      "127.0.0.1 - - [12/Oct/2022 09:34:55] \"\u001b[37mGET / HTTP/1.1\u001b[0m\" 200 -\n",
      "127.0.0.1 - - [12/Oct/2022 09:35:07] \"\u001b[37mGET /update/1 HTTP/1.1\u001b[0m\" 200 -\n",
      "127.0.0.1 - - [12/Oct/2022 09:35:16] \"\u001b[32mPOST /update/1 HTTP/1.1\u001b[0m\" 302 -\n",
      "127.0.0.1 - - [12/Oct/2022 09:35:16] \"\u001b[37mGET / HTTP/1.1\u001b[0m\" 200 -\n"
     ]
    }
   ],
   "source": [
    "# https://developer-max.tistory.com/37\n",
    "\n",
    "# main.py\n",
    "from flask import Flask, render_template, request, redirect, url_for\n",
    "app = Flask(__name__)\n",
    "\n",
    "board = []\n",
    "\n",
    "# 게시글 리스트 가져오기\n",
    "@app.route('/')\n",
    "def index():\n",
    "    return render_template('list.html', rows = board)\n",
    "\n",
    "# 게시글 추가\n",
    "@app.route('/add', methods = ['POST'])\n",
    "def add():\n",
    "    print(request.method)\n",
    "    if request.method == 'POST':\n",
    "        board.append([request.form['name'], request.form['context']])\n",
    "        return redirect(url_for('index'))\n",
    "    else:\n",
    "        return render_template('list.html', rows = board)\n",
    "\n",
    "# 게시글 삭제\n",
    "@app.route('/delete/<int:uid>')\n",
    "def delete(uid):\n",
    "    # loop.index는 1부터 세기 때문에 main에서 사용할 때는 uid-1 값을 사용 /\n",
    "    del board[uid-1]\n",
    "    return redirect(url_for('index'))\n",
    "\n",
    "# 게시글 수정\n",
    "@app.route('/update/<int:uid>', methods=['GET','POST'])\n",
    "def update(uid):\n",
    "    if request.method =='POST':\n",
    "        board[uid-1] = [request.form['name'], request.form['context']]\n",
    "        return redirect(url_for('index'))\n",
    "    else:\n",
    "        return render_template('update.html',index=uid,rows=board)\n",
    "\n",
    "\n",
    "if __name__ == '__main__':\n",
    "    app.run()"
   ]
  },
  {
   "cell_type": "code",
   "execution_count": 3,
   "id": "84dceaad",
   "metadata": {},
   "outputs": [
    {
     "name": "stdout",
     "output_type": "stream",
     "text": [
      " * Serving Flask app \"__main__\" (lazy loading)\n",
      " * Environment: production\n",
      "   WARNING: This is a development server. Do not use it in a production deployment.\n",
      "   Use a production WSGI server instead.\n",
      " * Debug mode: off\n"
     ]
    },
    {
     "name": "stderr",
     "output_type": "stream",
     "text": [
      " * Running on http://127.0.0.1:5000/ (Press CTRL+C to quit)\n",
      "[2022-10-13 08:48:38,790] ERROR in app: Exception on / [GET]\n",
      "Traceback (most recent call last):\n",
      "  File \"C:\\Users\\Administrator\\anaconda3\\lib\\site-packages\\flask\\app.py\", line 2447, in wsgi_app\n",
      "    response = self.full_dispatch_request()\n",
      "  File \"C:\\Users\\Administrator\\anaconda3\\lib\\site-packages\\flask\\app.py\", line 1952, in full_dispatch_request\n",
      "    rv = self.handle_user_exception(e)\n",
      "  File \"C:\\Users\\Administrator\\anaconda3\\lib\\site-packages\\flask\\app.py\", line 1821, in handle_user_exception\n",
      "    reraise(exc_type, exc_value, tb)\n",
      "  File \"C:\\Users\\Administrator\\anaconda3\\lib\\site-packages\\flask\\_compat.py\", line 39, in reraise\n",
      "    raise value\n",
      "  File \"C:\\Users\\Administrator\\anaconda3\\lib\\site-packages\\flask\\app.py\", line 1950, in full_dispatch_request\n",
      "    rv = self.dispatch_request()\n",
      "  File \"C:\\Users\\Administrator\\anaconda3\\lib\\site-packages\\flask\\app.py\", line 1936, in dispatch_request\n",
      "    return self.view_functions[rule.endpoint](**req.view_args)\n",
      "  File \"<ipython-input-3-75f543c7571d>\", line 15, in home\n",
      "    return render_template('index.html')\n",
      "  File \"C:\\Users\\Administrator\\anaconda3\\lib\\site-packages\\flask\\templating.py\", line 137, in render_template\n",
      "    return _render(\n",
      "  File \"C:\\Users\\Administrator\\anaconda3\\lib\\site-packages\\flask\\templating.py\", line 120, in _render\n",
      "    rv = template.render(context)\n",
      "  File \"C:\\Users\\Administrator\\anaconda3\\lib\\site-packages\\jinja2\\environment.py\", line 1090, in render\n",
      "    self.environment.handle_exception()\n",
      "  File \"C:\\Users\\Administrator\\anaconda3\\lib\\site-packages\\jinja2\\environment.py\", line 832, in handle_exception\n",
      "    reraise(*rewrite_traceback_stack(source=source))\n",
      "  File \"C:\\Users\\Administrator\\anaconda3\\lib\\site-packages\\jinja2\\_compat.py\", line 28, in reraise\n",
      "    raise value.with_traceback(tb)\n",
      "  File \"C:\\Users\\Administrator\\templates\\index.html\", line 1, in top-level template code\n",
      "    {% extends \"flash_layout.html\" %}\n",
      "  File \"C:\\Users\\Administrator\\templates\\flash_layout.html\", line 13, in top-level template code\n",
      "    {% block body%}{% endblock%}\n",
      "  File \"C:\\Users\\Administrator\\templates\\index.html\", line 4, in block \"body\"\n",
      "    <p>로그인을 하시겠습니까? <a href = {{url_for('flash_login')}}>로그인</a></p>\n",
      "  File \"C:\\Users\\Administrator\\anaconda3\\lib\\site-packages\\flask\\helpers.py\", line 370, in url_for\n",
      "    return appctx.app.handle_url_build_error(error, endpoint, values)\n",
      "  File \"C:\\Users\\Administrator\\anaconda3\\lib\\site-packages\\flask\\app.py\", line 2216, in handle_url_build_error\n",
      "    reraise(exc_type, exc_value, tb)\n",
      "  File \"C:\\Users\\Administrator\\anaconda3\\lib\\site-packages\\flask\\_compat.py\", line 39, in reraise\n",
      "    raise value\n",
      "  File \"C:\\Users\\Administrator\\anaconda3\\lib\\site-packages\\flask\\helpers.py\", line 357, in url_for\n",
      "    rv = url_adapter.build(\n",
      "  File \"C:\\Users\\Administrator\\anaconda3\\lib\\site-packages\\werkzeug\\routing.py\", line 2179, in build\n",
      "    raise BuildError(endpoint, values, method, self)\n",
      "werkzeug.routing.BuildError: Could not build url for endpoint 'flash_login'. Did you mean 'login' instead?\n",
      "127.0.0.1 - - [13/Oct/2022 08:48:38] \"\u001b[35m\u001b[1mGET / HTTP/1.1\u001b[0m\" 500 -\n",
      "127.0.0.1 - - [13/Oct/2022 08:48:38] \"\u001b[33mGET /favicon.ico HTTP/1.1\u001b[0m\" 404 -\n"
     ]
    }
   ],
   "source": [
    "# main.py\n",
    "from flask import Flask, request, render_template, session, url_for, redirect\n",
    "\n",
    "app = Flask(__name__)\n",
    "app.secret_key = 'super secret key'\n",
    "app.config['SESSION_TYPE'] = 'filesystem'\n",
    "userinfo = {'Elice': '1q2w3e4r!!'}\n",
    "\n",
    "# 첫 페이지. session 확인해 로그인 상태면 loggedin.html 나오고 아니면 index.html\n",
    "@app.route(\"/\")\n",
    "def home():\n",
    "    if session.get('logged_in'):\n",
    "        return render_template('loggedin.html ')\n",
    "    else:\n",
    "        return render_template('index.html')\n",
    "\n",
    "# 로그인 페이지\n",
    "# 1. 로그인 페이지에서 입력받은 username 을 회원 정보가 저장된 userinfo 안에 있는지 확인\n",
    "# 2. 없으면 '아이디가 없습니다' 리턴 / 있으면 username에 해당하는 password가 userinfo 안에 있는지 확인\n",
    "# 3. 일치한다면 session['logged_in'] 변경하고 loggedin.html 이동 / 일치하지 않으면 '비밀번호가 틀립니다.' 리턴\n",
    "@app.route('/login', methods=['GET', 'POST'])\n",
    "def login():\n",
    "    if request.method == 'POST':\n",
    "        name = request.form['username']\n",
    "        password = request.form['password']\n",
    "        try:\n",
    "            if (name in userinfo):\n",
    "                if userinfo[name] == password :\n",
    "                    session['logged_in'] = True\n",
    "                    return render_template('loggedin.html')                \n",
    "                else:\n",
    "                    return '비밀번호가 틀립니다.'\n",
    "            return '아이디가 없습니다.'\n",
    "        except:\n",
    "            return 'Dont login'\n",
    "    else:\n",
    "        return render_template('login.html')\n",
    "\n",
    "# 회원가입. 전달받은 username 과 password 를 userinfo 딕셔너리에 추가\n",
    "@app.route('/register', methods=['GET', 'POST'])\n",
    "def register():\n",
    "    if request.method == 'POST':\n",
    "        userinfo[request.form['username']] = request.form['password']\n",
    "        return redirect(url_for('login'))\n",
    "    else:\n",
    "        return render_template('register.html')\n",
    "\n",
    "# 로그아웃. session['logged_in'] 값을 False로 바꾸고 초기 페이지로 redirect\n",
    "@app.route(\"/logout\")\n",
    "def logout():\n",
    "    session['logged_in'] = False\n",
    "    return render_template('index.html')\n",
    "\n",
    "\n",
    "if __name__ == '__main__':\n",
    "    app.run()"
   ]
  },
  {
   "cell_type": "code",
   "execution_count": 4,
   "id": "32265135",
   "metadata": {},
   "outputs": [
    {
     "name": "stdout",
     "output_type": "stream",
     "text": [
      " * Serving Flask app \"__main__\" (lazy loading)\n",
      " * Environment: production\n",
      "   WARNING: This is a development server. Do not use it in a production deployment.\n",
      "   Use a production WSGI server instead.\n",
      " * Debug mode: off\n"
     ]
    },
    {
     "name": "stderr",
     "output_type": "stream",
     "text": [
      " * Running on http://127.0.0.1:5000/ (Press CTRL+C to quit)\n",
      "127.0.0.1 - - [12/Oct/2022 09:37:02] \"\u001b[37mGET / HTTP/1.1\u001b[0m\" 200 -\n"
     ]
    }
   ],
   "source": [
    "# main.py\n",
    "from flask import Flask,render_template\n",
    "\n",
    "app = Flask(__name__)\n",
    "\n",
    "\n",
    "# errorhandler()를 사용해서 404 에러를 제어\n",
    "@app.errorhandler(404)\n",
    "def page_not_found(error):\n",
    "    # 에러 식별\n",
    "    app.logger.error(error)\n",
    "    # 에러페이지 연결\n",
    "    return render_template('page_not_found.html')\n",
    "\n",
    "@app.route('/')\n",
    "def hello_elice():\n",
    "    return \"Hello Elice!\"\n",
    "\n",
    "if __name__ == '__main__':\n",
    "    app.run()"
   ]
  },
  {
   "cell_type": "code",
   "execution_count": 5,
   "id": "d570a309",
   "metadata": {},
   "outputs": [],
   "source": [
    "# 회원가입 웹 시스템\n",
    "# https://foxtrotin.tistory.com/269\n",
    "# models.py\n",
    "\n",
    "from flask_sqlalchemy import SQLAlchemy\n",
    "\n",
    "db = SQLAlchemy() #SQLAlchemy를 사용해 데이터베이스 저장\n",
    "\n",
    "class User(db.Model): #데이터 모델을 나타내는 객체 선언\n",
    "    __tablename__ = 'user_table' #테이블 이름\n",
    "    \n",
    "    id = db.Column(db.Integer, primary_key=True)\n",
    "    email = db.Column(db.String(32), unique=True, nullable=False)\n",
    "    userid = db.Column(db.String(32), unique=True, nullable=False)\n",
    "    password = db.Column(db.String(8), nullable=False)\n",
    "\n",
    "    def __init__(self, email, password):\n",
    "        self.email = email\n",
    "        self.set_password(password)\n",
    "    \n",
    "    def set_password(self, password):\n",
    "        self.password = generate_password_hash(password)\n",
    " \n",
    "    def check_password(self, password):\n",
    "        return check_password_hash(self.password, password)    \n",
    "    "
   ]
  },
  {
   "cell_type": "code",
   "execution_count": 6,
   "id": "2fc3ee53",
   "metadata": {},
   "outputs": [
    {
     "ename": "ModuleNotFoundError",
     "evalue": "No module named 'Models'",
     "output_type": "error",
     "traceback": [
      "\u001b[1;31m---------------------------------------------------------------------------\u001b[0m",
      "\u001b[1;31mModuleNotFoundError\u001b[0m                       Traceback (most recent call last)",
      "\u001b[1;32m<ipython-input-6-e8efb934fb9e>\u001b[0m in \u001b[0;36m<module>\u001b[1;34m\u001b[0m\n\u001b[0;32m      6\u001b[0m \u001b[1;32mfrom\u001b[0m \u001b[0mflask\u001b[0m \u001b[1;32mimport\u001b[0m \u001b[0mFlask\u001b[0m\u001b[1;33m,\u001b[0m \u001b[0mrender_template\u001b[0m\u001b[1;33m,\u001b[0m \u001b[0mrequest\u001b[0m\u001b[1;33m,\u001b[0m \u001b[0mredirect\u001b[0m\u001b[1;33m\u001b[0m\u001b[1;33m\u001b[0m\u001b[0m\n\u001b[0;32m      7\u001b[0m \u001b[1;32mfrom\u001b[0m \u001b[0mflask_sqlalchemy\u001b[0m \u001b[1;32mimport\u001b[0m \u001b[0mSQLAlchemy\u001b[0m\u001b[1;33m\u001b[0m\u001b[1;33m\u001b[0m\u001b[0m\n\u001b[1;32m----> 8\u001b[1;33m \u001b[1;32mfrom\u001b[0m \u001b[0mModels\u001b[0m \u001b[1;32mimport\u001b[0m \u001b[0mdb\u001b[0m\u001b[1;33m\u001b[0m\u001b[1;33m\u001b[0m\u001b[0m\n\u001b[0m\u001b[0;32m      9\u001b[0m \u001b[1;32mfrom\u001b[0m \u001b[0mModels\u001b[0m \u001b[1;32mimport\u001b[0m \u001b[0mUser\u001b[0m\u001b[1;33m\u001b[0m\u001b[1;33m\u001b[0m\u001b[0m\n\u001b[0;32m     10\u001b[0m \u001b[0mapp\u001b[0m \u001b[1;33m=\u001b[0m \u001b[0mFlask\u001b[0m\u001b[1;33m(\u001b[0m\u001b[0m__name__\u001b[0m\u001b[1;33m)\u001b[0m\u001b[1;33m\u001b[0m\u001b[1;33m\u001b[0m\u001b[0m\n",
      "\u001b[1;31mModuleNotFoundError\u001b[0m: No module named 'Models'"
     ]
    }
   ],
   "source": [
    "# 회원가입 웹 시스템\n",
    "# https://foxtrotin.tistory.com/269\n",
    "# app.py\n",
    "\n",
    "import os #디렉토리 절대 경로\n",
    "from flask import Flask, render_template, request, redirect\n",
    "from flask_sqlalchemy import SQLAlchemy\n",
    "from Models import db\n",
    "from Models import User\n",
    "app = Flask(__name__)\n",
    "\n",
    "@app.route('/')\n",
    "def hello():\n",
    "\treturn 'Hello World!'\n",
    "\n",
    "@app.route('/register', methods=['GET','POST']) #GET(정보보기), POST(정보수정) 메서드 허용\n",
    "def register():\n",
    "    if request.method == 'GET':\n",
    "        return render_template(\"register.html\")\n",
    "    else:\n",
    "        userid = request.form.get('userid')\n",
    "        email = request.form.get('email')\n",
    "        password = request.form.get('password')\n",
    "        password_2 = request.form.get('password')\n",
    "\n",
    "        if not(userid and email and password and password_2):\n",
    "            return \"입력되지 않은 정보가 있습니다\"\n",
    "        elif password != password_2:\n",
    "            return \"비밀번호가 일치하지 않습니다\"\n",
    "        else:\n",
    "            usertable=User() #user_table 클래스\n",
    "            usertable.userid = userid\n",
    "            usertable.email = email\n",
    "            usertable.password = password\n",
    "            \n",
    "            db.session.add(usertable)\n",
    "            db.session.commit()\n",
    "            return \"회원가입 성공\"\n",
    "        return redirect('/')\n",
    "\n",
    "if __name__ == \"__main__\":\n",
    "    #데이터베이스---------\n",
    "    basedir = os.path.abspath(os.path.dirname(__file__)) #현재 파일이 있는 디렉토리 절대 경로\n",
    "    dbfile = os.path.join(basedir, 'db.sqlite') #데이터베이스 파일을 만든다\n",
    "\n",
    "    app.config['SQLALCHEMY_DATABASE_URI'] = 'sqlite:///' + dbfile\n",
    "    app.config['SQLALCHEMY_COMMIT_ON_TEARDOWN'] = True #사용자에게 정보 전달완료하면 teadown. 그 때마다 커밋=DB반영\n",
    "    app.config['SQLALCHEMY_TRACK_MODIFICATIONS'] = False #추가 메모리를 사용하므로 꺼둔다\n",
    "\n",
    "#    db = SQLAlchemy() #SQLAlchemy를 사용해 데이터베이스 저장\n",
    "    db.init_app(app) #app설정값 초기화\n",
    "    db.app = app #Models.py에서 db를 가져와서 db.app에 app을 명시적으로 넣는다\n",
    "    db.create_all() #DB생성\n",
    "\n",
    "    app.run(host=\"127.0.0.1\", port=5000, debug=True)"
   ]
  },
  {
   "cell_type": "code",
   "execution_count": null,
   "id": "43530627",
   "metadata": {},
   "outputs": [],
   "source": [
    "# https://velog.io/@isabel_noh/Flask%EC%97%90%EC%84%9C-Jinja2-%ED%85%9C%ED%94%8C%EB%A6%BF-%EC%82%AC%EC%9A%A9%ED%95%98%EA%B8%B0-feat.-MUMA\n",
    "# https://velog.io/@gwichanlee/%EC%9B%B9%EA%B0%9C%EB%B0%9C-%ED%94%8C%EB%9F%AC%EC%8A%A4-2%EC%A3%BC%EC%B0%A8\n",
    "# https://foxtrotin.tistory.com/269"
   ]
  }
 ],
 "metadata": {
  "kernelspec": {
   "display_name": "Python 3",
   "language": "python",
   "name": "python3"
  },
  "language_info": {
   "codemirror_mode": {
    "name": "ipython",
    "version": 3
   },
   "file_extension": ".py",
   "mimetype": "text/x-python",
   "name": "python",
   "nbconvert_exporter": "python",
   "pygments_lexer": "ipython3",
   "version": "3.8.8"
  }
 },
 "nbformat": 4,
 "nbformat_minor": 5
}
