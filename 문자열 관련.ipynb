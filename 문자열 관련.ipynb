{
 "cells": [
  {
   "cell_type": "code",
   "execution_count": 9,
   "id": "88fb6fc8",
   "metadata": {},
   "outputs": [
    {
     "name": "stdout",
     "output_type": "stream",
     "text": [
      "Python\n",
      "0\n",
      "-1\n",
      "2\n",
      "a,b,c,d\n",
      "HI\n",
      "Your leg is too short\n",
      "['Life', 'is', 'too', 'short']\n",
      "['a', 'b', 'c', 'd']\n"
     ]
    }
   ],
   "source": [
    "# 옳은 예\n",
    "a = \"Pithon\"\n",
    "print(a[:1] + 'y' +a[2:])\n",
    "\n",
    "# 문자 개수 세기\n",
    "print(a.count('b'))\n",
    "\n",
    "# 위치 알려주기 1\n",
    "print(a.find('b'))    # 있으면 처음으로 나온 위치 반환, 없으면 -1\n",
    "\n",
    "# 위치 알려주기 2\n",
    "print(a.index('t'))    # 있으면 처음으로 나온 위치 반환, 없으면 에러\n",
    "\n",
    "# 문자열 삽입\n",
    "a = \",\"\n",
    "print(a.join('abcd'))    # 'a,b,c,d'\n",
    "\n",
    "# 소문자를 대문자로\n",
    "a = \"hi\"\n",
    "print(a.upper())    # 'HI'\n",
    "\n",
    "# 문자열 바꾸기\n",
    "a = \"Life is too short\"\n",
    "print(a.replace(\"Life\", \"Your leg\"))     # ’Your leg is too short’\n",
    "\n",
    "# 문자열 나누기\n",
    "a = \"Life is too short\"\n",
    "print(a.split())    # [’Life’, ’is’, ’too’, ’short’]\n",
    "\n",
    "a = \"a:b:c:d\"\n",
    "print(a.split(':'))    # [’a’, ’b’, ’c’, ’d’]"
   ]
  }
 ],
 "metadata": {
  "kernelspec": {
   "display_name": "Python 3",
   "language": "python",
   "name": "python3"
  },
  "language_info": {
   "codemirror_mode": {
    "name": "ipython",
    "version": 3
   },
   "file_extension": ".py",
   "mimetype": "text/x-python",
   "name": "python",
   "nbconvert_exporter": "python",
   "pygments_lexer": "ipython3",
   "version": "3.8.8"
  }
 },
 "nbformat": 4,
 "nbformat_minor": 5
}
