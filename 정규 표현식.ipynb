{
 "cells": [
  {
   "cell_type": "code",
   "execution_count": 2,
   "id": "af3a8f8f",
   "metadata": {},
   "outputs": [],
   "source": [
    "# https://wikidocs.net/4309\n",
    "import os, re"
   ]
  },
  {
   "cell_type": "code",
   "execution_count": 3,
   "id": "1463dd18",
   "metadata": {},
   "outputs": [],
   "source": [
    "os.chdir(r'C:\\Users\\Administrator\\Documents\\do-it-python-master\\03')"
   ]
  },
  {
   "cell_type": "code",
   "execution_count": 4,
   "id": "41d33870",
   "metadata": {},
   "outputs": [],
   "source": [
    "f = open('friends101.txt', 'r')"
   ]
  },
  {
   "cell_type": "code",
   "execution_count": 5,
   "id": "df222d42",
   "metadata": {},
   "outputs": [
    {
     "data": {
      "text/plain": [
       "'The One Where Monica Gets a New Roommate (The Pilot-The Uncut Version)\\nWritten by: Marta Kauffman & '"
      ]
     },
     "execution_count": 5,
     "metadata": {},
     "output_type": "execute_result"
    }
   ],
   "source": [
    "f.read(100)"
   ]
  },
  {
   "cell_type": "code",
   "execution_count": 6,
   "id": "a31f2cbe",
   "metadata": {},
   "outputs": [
    {
     "data": {
      "text/plain": [
       "0"
      ]
     },
     "execution_count": 6,
     "metadata": {},
     "output_type": "execute_result"
    }
   ],
   "source": [
    "f.seek(0)"
   ]
  },
  {
   "cell_type": "code",
   "execution_count": 7,
   "id": "58fb2b08",
   "metadata": {},
   "outputs": [],
   "source": [
    "sentences = f.readlines()"
   ]
  },
  {
   "cell_type": "code",
   "execution_count": 8,
   "id": "7c5e4135",
   "metadata": {},
   "outputs": [
    {
     "data": {
      "text/plain": [
       "['The One Where Monica Gets a New Roommate (The Pilot-The Uncut Version)\\n',\n",
       " 'Written by: Marta Kauffman & David Crane\\n',\n",
       " 'Transcribed by: guineapig\\n']"
      ]
     },
     "execution_count": 8,
     "metadata": {},
     "output_type": "execute_result"
    }
   ],
   "source": [
    "sentences[:3]"
   ]
  },
  {
   "cell_type": "code",
   "execution_count": 9,
   "id": "8352249c",
   "metadata": {},
   "outputs": [
    {
     "name": "stdout",
     "output_type": "stream",
     "text": [
      "Monica: There's nothing to tell! He's just some guy I work with!\n",
      "\n",
      "Joey: C'mon, you're going out with the guy! There's gotta be something wrong with him!\n",
      "\n",
      "Chandler: All right Joey, be nice.  So does he have a hump? A hump and a hairpiece?\n",
      "\n",
      "Phoebe: Wait, does he eat chalk?\n",
      "\n",
      "Phoebe: Just, 'cause, I don't want her to go through what I went through with Carl- oh!\n",
      "\n"
     ]
    }
   ],
   "source": [
    "for i in sentences[:20]:\n",
    "    if re.match(r'[A-Z][a-z]+:',i):\n",
    "        print(i)"
   ]
  },
  {
   "cell_type": "code",
   "execution_count": 10,
   "id": "99927449",
   "metadata": {},
   "outputs": [],
   "source": [
    "lines = [i for i in sentences if re.match(r'[A-Z][a-z]+:', i)]"
   ]
  },
  {
   "cell_type": "code",
   "execution_count": 11,
   "id": "b3225807",
   "metadata": {},
   "outputs": [
    {
     "data": {
      "text/plain": [
       "[\"Monica: There's nothing to tell! He's just some guy I work with!\\n\",\n",
       " \"Joey: C'mon, you're going out with the guy! There's gotta be something wrong with him!\\n\",\n",
       " 'Chandler: All right Joey, be nice.  So does he have a hump? A hump and a hairpiece?\\n',\n",
       " 'Phoebe: Wait, does he eat chalk?\\n',\n",
       " \"Phoebe: Just, 'cause, I don't want her to go through what I went through with Carl- oh!\\n\",\n",
       " \"Monica: Okay, everybody relax. This is not even a date. It's just two people going out to dinner and- not having sex.\\n\",\n",
       " 'Chandler: Sounds like a date to me.\\n',\n",
       " \"Chandler: Alright, so I'm back in high school, I'm standing in the middle of the cafeteria, and I realize I am totally naked.\\n\",\n",
       " 'All: Oh, yeah. Had that dream.\\n',\n",
       " \"Chandler: Then I look down, and I realize there's a phone... there.\\n\"]"
      ]
     },
     "execution_count": 11,
     "metadata": {},
     "output_type": "execute_result"
    }
   ],
   "source": [
    "lines[:10]"
   ]
  },
  {
   "cell_type": "code",
   "execution_count": 12,
   "id": "cea75e76",
   "metadata": {},
   "outputs": [],
   "source": [
    "would = [i for i in sentences if re.match(r'[A-Z][a-z]+:', i) and re.search('would', i)]"
   ]
  },
  {
   "cell_type": "code",
   "execution_count": 13,
   "id": "d5765663",
   "metadata": {},
   "outputs": [
    {
     "data": {
      "text/plain": [
       "[\"Rachel: Ooh, I was kinda hoping that wouldn't be an issue... [Scene: Monica's Apartment, everyone is there and watching a Spanish Soap on TV and are trying to figure out what is going on.]\\n\",\n",
       " \"Chandler: I would have to say that is an 'L'-shaped bracket.\\n\",\n",
       " 'Monica: Why?! Why? Why, why would anybody do something like that?\\n',\n",
       " 'Rachel: You would be too if you found John and David boots on sale, fifty percent off!\\n',\n",
       " 'Ross: Oh. Listen, do you think- and try not to let my intense vulnerability become any kind of a factor here- but do you think it would be okay if I asked you out? Sometime? Maybe?\\n',\n",
       " \"Joey: Oh, you wouldn't know a great butt if it came up and bit ya.\\n\"]"
      ]
     },
     "execution_count": 13,
     "metadata": {},
     "output_type": "execute_result"
    }
   ],
   "source": [
    "would"
   ]
  },
  {
   "cell_type": "code",
   "execution_count": 14,
   "id": "6c93b503",
   "metadata": {},
   "outputs": [],
   "source": [
    "take = [i for i in sentences if re.match(r'[A-Z][a-z]+:', i) and re.search('take', i)]"
   ]
  },
  {
   "cell_type": "code",
   "execution_count": 15,
   "id": "714c4539",
   "metadata": {},
   "outputs": [
    {
     "data": {
      "text/plain": [
       "['Ross: I told mom and dad last night, they seemed to take it pretty well.\\n',\n",
       " \"Paul: Well, ever-ev-... ever since she left me, um, I haven't been able to, uh, perform. (Monica takes a sip of her drink.) ...Sexually.\\n\",\n",
       " 'Joey: I will not take this abuse. (Walks to the door and opens it to leave.)\\n',\n",
       " \"Frannie: Are you kidding? I take credit for Paul. Y'know before me, there was no snap in his turtle for two years.\\n\"]"
      ]
     },
     "execution_count": 15,
     "metadata": {},
     "output_type": "execute_result"
    }
   ],
   "source": [
    "take"
   ]
  },
  {
   "cell_type": "code",
   "execution_count": 16,
   "id": "9c1efc53",
   "metadata": {},
   "outputs": [
    {
     "name": "stdout",
     "output_type": "stream",
     "text": [
      "Ross: I told mom and dad last night, they seemed to take it pretty well.\n",
      "\n",
      "Paul: Well, ever-ev-... ever since she left me, um, I haven't been able to, uh, perform. (Monica takes a sip of her drink.) ...Sexually.\n",
      "\n",
      "Joey: I will not take this abuse. (Walks to the door and opens it to leave.)\n",
      "\n",
      "Frannie: Are you kidding? I take credit for Paul. Y'know before me, there was no snap in his turtle for two years.\n",
      "\n"
     ]
    }
   ],
   "source": [
    "for i in take:\n",
    "    print(i)"
   ]
  },
  {
   "cell_type": "code",
   "execution_count": 17,
   "id": "57268878",
   "metadata": {},
   "outputs": [],
   "source": [
    "newf = open('would2.txt', 'w')"
   ]
  },
  {
   "cell_type": "code",
   "execution_count": 18,
   "id": "b6d0118b",
   "metadata": {},
   "outputs": [],
   "source": [
    "newf.writelines(would)"
   ]
  },
  {
   "cell_type": "code",
   "execution_count": 19,
   "id": "760f797c",
   "metadata": {},
   "outputs": [],
   "source": [
    "newf.close()"
   ]
  },
  {
   "cell_type": "code",
   "execution_count": null,
   "id": "244c7e78",
   "metadata": {},
   "outputs": [],
   "source": []
  }
 ],
 "metadata": {
  "kernelspec": {
   "display_name": "Python 3",
   "language": "python",
   "name": "python3"
  },
  "language_info": {
   "codemirror_mode": {
    "name": "ipython",
    "version": 3
   },
   "file_extension": ".py",
   "mimetype": "text/x-python",
   "name": "python",
   "nbconvert_exporter": "python",
   "pygments_lexer": "ipython3",
   "version": "3.8.8"
  }
 },
 "nbformat": 4,
 "nbformat_minor": 5
}
